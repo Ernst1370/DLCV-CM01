{
 "cells": [
  {
   "cell_type": "code",
   "execution_count": 1,
   "id": "e3509099",
   "metadata": {},
   "outputs": [],
   "source": [
    "%matplotlib inline\n",
    "import pandas as pd\n",
    "import numpy as np\n",
    "import random\n",
    "import torch\n",
    "import torch.nn as nn\n",
    "import torch.nn.functional as F  \n",
    "import torch.optim as optim\n",
    "from torch.utils.data import Dataset, DataLoader\n",
    "import matplotlib.pyplot as plt\n",
    "from tqdm import tqdm\n",
    "from sklearn.preprocessing import MinMaxScaler\n",
    "import cv2\n",
    "import torchvision\n",
    "import torchvision.transforms as transforms\n",
    "from torch.utils.data import random_split\n",
    "import sys\n",
    "import time\n",
    "from PIL import Image\n",
    "from torch.optim.lr_scheduler import StepLR, LinearLR\n",
    "from torch.optim.lr_scheduler import CosineAnnealingLR,SequentialLR\n",
    "from torchvision.transforms.autoaugment import AutoAugment, AutoAugmentPolicy\n",
    "from torchsummary import summary"
   ]
  },
  {
   "cell_type": "code",
   "execution_count": 2,
   "id": "a7c63558",
   "metadata": {},
   "outputs": [],
   "source": [
    "def set_seed(seed=28):\n",
    "    torch.manual_seed(seed)\n",
    "    torch.cuda.manual_seed(seed)\n",
    "    torch.cuda.manual_seed_all(seed)  # if you are using multi-GPU\n",
    "    np.random.seed(seed)\n",
    "    random.seed(seed)\n",
    "    torch.backends.cudnn.deterministic = True\n",
    "    torch.backends.cudnn.benchmark = False\n",
    "\n",
    "set_seed()"
   ]
  },
  {
   "cell_type": "code",
   "execution_count": 3,
   "id": "6cc26e57",
   "metadata": {},
   "outputs": [
    {
     "name": "stdout",
     "output_type": "stream",
     "text": [
      "You are using device: cuda\n",
      "You are using PyTorch version: 2.6.0+cu124\n"
     ]
    }
   ],
   "source": [
    "# 檢查GPU\n",
    "device = torch.device('cuda' if torch.cuda.is_available() else 'cpu')\n",
    "print(\"You are using device: %s\" % device)\n",
    "print(\"You are using PyTorch version: %s\" % torch.__version__)\n",
    "\n",
    "# define class names\n",
    "classes = ('Class A', 'Class B', 'Class C')\n",
    "\n",
    "# define the path to the dataset\n",
    "path_dataset = \"/home/NAS/homes/chlunchen-10030/DeepLearning_assignment/competition1/column-classify/dataset_column/column_damage\""
   ]
  },
  {
   "cell_type": "code",
   "execution_count": 4,
   "id": "f0bc9e90",
   "metadata": {},
   "outputs": [
    {
     "name": "stdout",
     "output_type": "stream",
     "text": [
      "Dataset classes: ['Class A', 'Class B', 'Class C']\n"
     ]
    }
   ],
   "source": [
    "from torch.utils.data import Subset, DataLoader\n",
    "from torchvision.datasets import ImageFolder\n",
    "import numpy as np\n",
    "import albumentations as A\n",
    "from albumentations.pytorch import ToTensorV2\n",
    "import torch\n",
    "\n",
    "# ✅ Class-aware dataset 用於 training\n",
    "class ClassAwareImageFolder(ImageFolder):\n",
    "    def __init__(self, root, transform_dict, default_transform=None):\n",
    "        super().__init__(root)\n",
    "        self.transform_dict = transform_dict\n",
    "        self.default_transform = default_transform\n",
    "\n",
    "    def __getitem__(self, index):\n",
    "        path, target = self.samples[index]\n",
    "        sample = self.loader(path)\n",
    "        sample = np.array(sample)\n",
    "        transform = self.transform_dict.get(target, self.default_transform)\n",
    "        if transform:\n",
    "            augmented = transform(image=sample)\n",
    "            sample = augmented[\"image\"]\n",
    "        return sample, target\n",
    "\n",
    "# ✅ 單一 transform 用於驗證集\n",
    "class AlbumentationsImageFolder(ImageFolder):\n",
    "    def __init__(self, root, transform):\n",
    "        super().__init__(root)\n",
    "        self.transform = transform\n",
    "\n",
    "    def __getitem__(self, index):\n",
    "        path, target = self.samples[index]\n",
    "        sample = self.loader(path)\n",
    "        sample = np.array(sample)\n",
    "        augmented = self.transform(image=sample)\n",
    "        sample = augmented[\"image\"]\n",
    "        return sample, target\n",
    "\n",
    "def load_dataset(path_dataset):\n",
    "    global classes\n",
    "\n",
    "    transform_A = A.Compose([\n",
    "        A.RandomBrightnessContrast(0.3, 0.3, p=0.7),\n",
    "        A.CLAHE(p=0.3),\n",
    "        A.Rotate(limit=5, p=0.4),\n",
    "        A.MotionBlur(blur_limit=3, p=0.2),\n",
    "        A.GridDistortion(num_steps=5, distort_limit=0.3, p=0.3),\n",
    "        A.ISONoise(p=0.2),\n",
    "        A.CoarseDropout(\n",
    "            max_holes=2,\n",
    "            max_height=30,\n",
    "            max_width=30,\n",
    "            fill_value=0,\n",
    "            mask_fill_value=None,\n",
    "            p=0.6\n",
    "        ),\n",
    "        A.RandomShadow(p=0.5),\n",
    "        A.HorizontalFlip(p=0.5),\n",
    "        A.Resize(224, 224),\n",
    "        A.Normalize(mean=(0.485, 0.456, 0.406),\n",
    "                    std=(0.229, 0.224, 0.225)),\n",
    "        ToTensorV2()\n",
    "    ])\n",
    "\n",
    "    transform_B = A.Compose([\n",
    "        A.Resize(224, 224),\n",
    "        A.RandomBrightnessContrast(brightness_limit=0.3, contrast_limit=0.3, p=0.5),\n",
    "        A.Sharpen(alpha=(0.1, 0.3), lightness=(0.9, 1.0), p=0.5),\n",
    "        A.GaussianBlur(blur_limit=(1,3), p=0.2),\n",
    "        A.ElasticTransform(alpha=1, sigma=50, alpha_affine=20, p=0.2),\n",
    "        A.HorizontalFlip(p=0.5),\n",
    "        A.Normalize(mean=[0.485, 0.456, 0.406],\n",
    "                    std=[0.229, 0.224, 0.225]),\n",
    "        ToTensorV2()\n",
    "    ])\n",
    "\n",
    "    transform_C = A.Compose([\n",
    "        A.MotionBlur(blur_limit=3, p=0.2),\n",
    "        A.HorizontalFlip(p=0.3),\n",
    "        A.HorizontalFlip(p=0.5),\n",
    "        A.Resize(224, 224),\n",
    "        A.Normalize(mean=(0.485, 0.456, 0.406),\n",
    "                    std=(0.229, 0.224, 0.225)),\n",
    "        ToTensorV2()\n",
    "    ])\n",
    "\n",
    "    transform_test = A.Compose([\n",
    "        A.Resize(224, 224),\n",
    "        A.Normalize(mean=[0.485, 0.456, 0.406],\n",
    "                    std=[0.229, 0.224, 0.225]),\n",
    "        ToTensorV2()\n",
    "    ])\n",
    "\n",
    "    transform_dict = {\n",
    "        0: transform_A,\n",
    "        1: transform_B,\n",
    "        2: transform_C\n",
    "    }\n",
    "\n",
    "    raw_dataset = ImageFolder(root=path_dataset)\n",
    "    classes = raw_dataset.classes\n",
    "\n",
    "    dataset_size = len(raw_dataset)\n",
    "    train_size = int(0.75 * dataset_size)\n",
    "    val_size = dataset_size - train_size\n",
    "    indices = torch.randperm(dataset_size).tolist()\n",
    "    train_indices = indices[:train_size]\n",
    "    val_indices = indices[train_size:]\n",
    "\n",
    "    # 正確使用 class-aware transform 給 training\n",
    "    full_dataset_train = ClassAwareImageFolder(\n",
    "        root=path_dataset,\n",
    "        transform_dict=transform_dict,\n",
    "        default_transform=transform_C\n",
    "    )\n",
    "\n",
    "    # 單一 transform 給 validation\n",
    "    full_dataset_val = AlbumentationsImageFolder(\n",
    "        root=path_dataset,\n",
    "        transform=transform_test,\n",
    "        \n",
    "    )\n",
    "    \n",
    "    trainset = Subset(full_dataset_train, train_indices)\n",
    "    valset = Subset(full_dataset_val, val_indices)\n",
    "\n",
    "    trainloader = DataLoader(trainset, batch_size=12, shuffle=True, num_workers=4)\n",
    "    valloader = DataLoader(valset, batch_size=8, shuffle=False, num_workers=4)\n",
    "\n",
    "    print(f\"Dataset classes: {classes}\")\n",
    "    return trainloader, valloader\n",
    "# Load dataset\n",
    "trainloader, valloader = load_dataset(path_dataset)"
   ]
  },
  {
   "cell_type": "code",
   "execution_count": 5,
   "id": "5c74a429",
   "metadata": {},
   "outputs": [
    {
     "name": "stderr",
     "output_type": "stream",
     "text": [
      "/home/chlunchen/.conda/envs/myenv/lib/python3.9/site-packages/tqdm/auto.py:21: TqdmWarning: IProgress not found. Please update jupyter and ipywidgets. See https://ipywidgets.readthedocs.io/en/stable/user_install.html\n",
      "  from .autonotebook import tqdm as notebook_tqdm\n"
     ]
    },
    {
     "name": "stdout",
     "output_type": "stream",
     "text": [
      "----------------------------------------------------------------\n",
      "        Layer (type)               Output Shape         Param #\n",
      "================================================================\n",
      "            Conv2d-1           [-1, 96, 56, 56]           4,704\n",
      "         LayerNorm-2           [-1, 56, 56, 96]             192\n",
      "        PatchEmbed-3           [-1, 56, 56, 96]               0\n",
      "          Identity-4           [-1, 56, 56, 96]               0\n",
      "         LayerNorm-5           [-1, 56, 56, 96]             192\n",
      "            Linear-6              [-1, 49, 288]          27,936\n",
      "           Softmax-7            [-1, 3, 49, 49]               0\n",
      "           Dropout-8            [-1, 3, 49, 49]               0\n",
      "            Linear-9               [-1, 49, 96]           9,312\n",
      "          Dropout-10               [-1, 49, 96]               0\n",
      "  WindowAttention-11               [-1, 49, 96]               0\n",
      "         Identity-12           [-1, 56, 56, 96]               0\n",
      "        LayerNorm-13             [-1, 3136, 96]             192\n",
      "           Linear-14            [-1, 3136, 384]          37,248\n",
      "             GELU-15            [-1, 3136, 384]               0\n",
      "          Dropout-16            [-1, 3136, 384]               0\n",
      "         Identity-17            [-1, 3136, 384]               0\n",
      "           Linear-18             [-1, 3136, 96]          36,960\n",
      "          Dropout-19             [-1, 3136, 96]               0\n",
      "              Mlp-20             [-1, 3136, 96]               0\n",
      "         Identity-21             [-1, 3136, 96]               0\n",
      "SwinTransformerBlock-22           [-1, 56, 56, 96]               0\n",
      "        LayerNorm-23           [-1, 56, 56, 96]             192\n",
      "           Linear-24              [-1, 49, 288]          27,936\n",
      "          Softmax-25            [-1, 3, 49, 49]               0\n",
      "          Dropout-26            [-1, 3, 49, 49]               0\n",
      "           Linear-27               [-1, 49, 96]           9,312\n",
      "          Dropout-28               [-1, 49, 96]               0\n",
      "  WindowAttention-29               [-1, 49, 96]               0\n",
      "         DropPath-30           [-1, 56, 56, 96]               0\n",
      "        LayerNorm-31             [-1, 3136, 96]             192\n",
      "           Linear-32            [-1, 3136, 384]          37,248\n",
      "             GELU-33            [-1, 3136, 384]               0\n",
      "          Dropout-34            [-1, 3136, 384]               0\n",
      "         Identity-35            [-1, 3136, 384]               0\n",
      "           Linear-36             [-1, 3136, 96]          36,960\n",
      "          Dropout-37             [-1, 3136, 96]               0\n",
      "              Mlp-38             [-1, 3136, 96]               0\n",
      "         DropPath-39             [-1, 3136, 96]               0\n",
      "SwinTransformerBlock-40           [-1, 56, 56, 96]               0\n",
      "SwinTransformerStage-41           [-1, 56, 56, 96]               0\n",
      "        LayerNorm-42          [-1, 28, 28, 384]             768\n",
      "           Linear-43          [-1, 28, 28, 192]          73,728\n",
      "     PatchMerging-44          [-1, 28, 28, 192]               0\n",
      "        LayerNorm-45          [-1, 28, 28, 192]             384\n",
      "           Linear-46              [-1, 49, 576]         111,168\n",
      "          Softmax-47            [-1, 6, 49, 49]               0\n",
      "          Dropout-48            [-1, 6, 49, 49]               0\n",
      "           Linear-49              [-1, 49, 192]          37,056\n",
      "          Dropout-50              [-1, 49, 192]               0\n",
      "  WindowAttention-51              [-1, 49, 192]               0\n",
      "         DropPath-52          [-1, 28, 28, 192]               0\n",
      "        LayerNorm-53             [-1, 784, 192]             384\n",
      "           Linear-54             [-1, 784, 768]         148,224\n",
      "             GELU-55             [-1, 784, 768]               0\n",
      "          Dropout-56             [-1, 784, 768]               0\n",
      "         Identity-57             [-1, 784, 768]               0\n",
      "           Linear-58             [-1, 784, 192]         147,648\n",
      "          Dropout-59             [-1, 784, 192]               0\n",
      "              Mlp-60             [-1, 784, 192]               0\n",
      "         DropPath-61             [-1, 784, 192]               0\n",
      "SwinTransformerBlock-62          [-1, 28, 28, 192]               0\n",
      "        LayerNorm-63          [-1, 28, 28, 192]             384\n",
      "           Linear-64              [-1, 49, 576]         111,168\n",
      "          Softmax-65            [-1, 6, 49, 49]               0\n",
      "          Dropout-66            [-1, 6, 49, 49]               0\n",
      "           Linear-67              [-1, 49, 192]          37,056\n",
      "          Dropout-68              [-1, 49, 192]               0\n",
      "  WindowAttention-69              [-1, 49, 192]               0\n",
      "         DropPath-70          [-1, 28, 28, 192]               0\n",
      "        LayerNorm-71             [-1, 784, 192]             384\n",
      "           Linear-72             [-1, 784, 768]         148,224\n",
      "             GELU-73             [-1, 784, 768]               0\n",
      "          Dropout-74             [-1, 784, 768]               0\n",
      "         Identity-75             [-1, 784, 768]               0\n",
      "           Linear-76             [-1, 784, 192]         147,648\n",
      "          Dropout-77             [-1, 784, 192]               0\n",
      "              Mlp-78             [-1, 784, 192]               0\n",
      "         DropPath-79             [-1, 784, 192]               0\n",
      "SwinTransformerBlock-80          [-1, 28, 28, 192]               0\n",
      "SwinTransformerStage-81          [-1, 28, 28, 192]               0\n",
      "        LayerNorm-82          [-1, 14, 14, 768]           1,536\n",
      "           Linear-83          [-1, 14, 14, 384]         294,912\n",
      "     PatchMerging-84          [-1, 14, 14, 384]               0\n",
      "        LayerNorm-85          [-1, 14, 14, 384]             768\n",
      "           Linear-86             [-1, 49, 1152]         443,520\n",
      "          Softmax-87           [-1, 12, 49, 49]               0\n",
      "          Dropout-88           [-1, 12, 49, 49]               0\n",
      "           Linear-89              [-1, 49, 384]         147,840\n",
      "          Dropout-90              [-1, 49, 384]               0\n",
      "  WindowAttention-91              [-1, 49, 384]               0\n",
      "         DropPath-92          [-1, 14, 14, 384]               0\n",
      "        LayerNorm-93             [-1, 196, 384]             768\n",
      "           Linear-94            [-1, 196, 1536]         591,360\n",
      "             GELU-95            [-1, 196, 1536]               0\n",
      "          Dropout-96            [-1, 196, 1536]               0\n",
      "         Identity-97            [-1, 196, 1536]               0\n",
      "           Linear-98             [-1, 196, 384]         590,208\n",
      "          Dropout-99             [-1, 196, 384]               0\n",
      "             Mlp-100             [-1, 196, 384]               0\n",
      "        DropPath-101             [-1, 196, 384]               0\n",
      "SwinTransformerBlock-102          [-1, 14, 14, 384]               0\n",
      "       LayerNorm-103          [-1, 14, 14, 384]             768\n",
      "          Linear-104             [-1, 49, 1152]         443,520\n",
      "         Softmax-105           [-1, 12, 49, 49]               0\n",
      "         Dropout-106           [-1, 12, 49, 49]               0\n",
      "          Linear-107              [-1, 49, 384]         147,840\n",
      "         Dropout-108              [-1, 49, 384]               0\n",
      " WindowAttention-109              [-1, 49, 384]               0\n",
      "        DropPath-110          [-1, 14, 14, 384]               0\n",
      "       LayerNorm-111             [-1, 196, 384]             768\n",
      "          Linear-112            [-1, 196, 1536]         591,360\n",
      "            GELU-113            [-1, 196, 1536]               0\n",
      "         Dropout-114            [-1, 196, 1536]               0\n",
      "        Identity-115            [-1, 196, 1536]               0\n",
      "          Linear-116             [-1, 196, 384]         590,208\n",
      "         Dropout-117             [-1, 196, 384]               0\n",
      "             Mlp-118             [-1, 196, 384]               0\n",
      "        DropPath-119             [-1, 196, 384]               0\n",
      "SwinTransformerBlock-120          [-1, 14, 14, 384]               0\n",
      "       LayerNorm-121          [-1, 14, 14, 384]             768\n",
      "          Linear-122             [-1, 49, 1152]         443,520\n",
      "         Softmax-123           [-1, 12, 49, 49]               0\n",
      "         Dropout-124           [-1, 12, 49, 49]               0\n",
      "          Linear-125              [-1, 49, 384]         147,840\n",
      "         Dropout-126              [-1, 49, 384]               0\n",
      " WindowAttention-127              [-1, 49, 384]               0\n",
      "        DropPath-128          [-1, 14, 14, 384]               0\n",
      "       LayerNorm-129             [-1, 196, 384]             768\n",
      "          Linear-130            [-1, 196, 1536]         591,360\n",
      "            GELU-131            [-1, 196, 1536]               0\n",
      "         Dropout-132            [-1, 196, 1536]               0\n",
      "        Identity-133            [-1, 196, 1536]               0\n",
      "          Linear-134             [-1, 196, 384]         590,208\n",
      "         Dropout-135             [-1, 196, 384]               0\n",
      "             Mlp-136             [-1, 196, 384]               0\n",
      "        DropPath-137             [-1, 196, 384]               0\n",
      "SwinTransformerBlock-138          [-1, 14, 14, 384]               0\n",
      "       LayerNorm-139          [-1, 14, 14, 384]             768\n",
      "          Linear-140             [-1, 49, 1152]         443,520\n",
      "         Softmax-141           [-1, 12, 49, 49]               0\n",
      "         Dropout-142           [-1, 12, 49, 49]               0\n",
      "          Linear-143              [-1, 49, 384]         147,840\n",
      "         Dropout-144              [-1, 49, 384]               0\n",
      " WindowAttention-145              [-1, 49, 384]               0\n",
      "        DropPath-146          [-1, 14, 14, 384]               0\n",
      "       LayerNorm-147             [-1, 196, 384]             768\n",
      "          Linear-148            [-1, 196, 1536]         591,360\n",
      "            GELU-149            [-1, 196, 1536]               0\n",
      "         Dropout-150            [-1, 196, 1536]               0\n",
      "        Identity-151            [-1, 196, 1536]               0\n",
      "          Linear-152             [-1, 196, 384]         590,208\n",
      "         Dropout-153             [-1, 196, 384]               0\n",
      "             Mlp-154             [-1, 196, 384]               0\n",
      "        DropPath-155             [-1, 196, 384]               0\n",
      "SwinTransformerBlock-156          [-1, 14, 14, 384]               0\n",
      "       LayerNorm-157          [-1, 14, 14, 384]             768\n",
      "          Linear-158             [-1, 49, 1152]         443,520\n",
      "         Softmax-159           [-1, 12, 49, 49]               0\n",
      "         Dropout-160           [-1, 12, 49, 49]               0\n",
      "          Linear-161              [-1, 49, 384]         147,840\n",
      "         Dropout-162              [-1, 49, 384]               0\n",
      " WindowAttention-163              [-1, 49, 384]               0\n",
      "        DropPath-164          [-1, 14, 14, 384]               0\n",
      "       LayerNorm-165             [-1, 196, 384]             768\n",
      "          Linear-166            [-1, 196, 1536]         591,360\n",
      "            GELU-167            [-1, 196, 1536]               0\n",
      "         Dropout-168            [-1, 196, 1536]               0\n",
      "        Identity-169            [-1, 196, 1536]               0\n",
      "          Linear-170             [-1, 196, 384]         590,208\n",
      "         Dropout-171             [-1, 196, 384]               0\n",
      "             Mlp-172             [-1, 196, 384]               0\n",
      "        DropPath-173             [-1, 196, 384]               0\n",
      "SwinTransformerBlock-174          [-1, 14, 14, 384]               0\n",
      "       LayerNorm-175          [-1, 14, 14, 384]             768\n",
      "          Linear-176             [-1, 49, 1152]         443,520\n",
      "         Softmax-177           [-1, 12, 49, 49]               0\n",
      "         Dropout-178           [-1, 12, 49, 49]               0\n",
      "          Linear-179              [-1, 49, 384]         147,840\n",
      "         Dropout-180              [-1, 49, 384]               0\n",
      " WindowAttention-181              [-1, 49, 384]               0\n",
      "        DropPath-182          [-1, 14, 14, 384]               0\n",
      "       LayerNorm-183             [-1, 196, 384]             768\n",
      "          Linear-184            [-1, 196, 1536]         591,360\n",
      "            GELU-185            [-1, 196, 1536]               0\n",
      "         Dropout-186            [-1, 196, 1536]               0\n",
      "        Identity-187            [-1, 196, 1536]               0\n",
      "          Linear-188             [-1, 196, 384]         590,208\n",
      "         Dropout-189             [-1, 196, 384]               0\n",
      "             Mlp-190             [-1, 196, 384]               0\n",
      "        DropPath-191             [-1, 196, 384]               0\n",
      "SwinTransformerBlock-192          [-1, 14, 14, 384]               0\n",
      "SwinTransformerStage-193          [-1, 14, 14, 384]               0\n",
      "       LayerNorm-194           [-1, 7, 7, 1536]           3,072\n",
      "          Linear-195            [-1, 7, 7, 768]       1,179,648\n",
      "    PatchMerging-196            [-1, 7, 7, 768]               0\n",
      "       LayerNorm-197            [-1, 7, 7, 768]           1,536\n",
      "          Linear-198             [-1, 49, 2304]       1,771,776\n",
      "         Softmax-199           [-1, 24, 49, 49]               0\n",
      "         Dropout-200           [-1, 24, 49, 49]               0\n",
      "          Linear-201              [-1, 49, 768]         590,592\n",
      "         Dropout-202              [-1, 49, 768]               0\n",
      " WindowAttention-203              [-1, 49, 768]               0\n",
      "        DropPath-204            [-1, 7, 7, 768]               0\n",
      "       LayerNorm-205              [-1, 49, 768]           1,536\n",
      "          Linear-206             [-1, 49, 3072]       2,362,368\n",
      "            GELU-207             [-1, 49, 3072]               0\n",
      "         Dropout-208             [-1, 49, 3072]               0\n",
      "        Identity-209             [-1, 49, 3072]               0\n",
      "          Linear-210              [-1, 49, 768]       2,360,064\n",
      "         Dropout-211              [-1, 49, 768]               0\n",
      "             Mlp-212              [-1, 49, 768]               0\n",
      "        DropPath-213              [-1, 49, 768]               0\n",
      "SwinTransformerBlock-214            [-1, 7, 7, 768]               0\n",
      "       LayerNorm-215            [-1, 7, 7, 768]           1,536\n",
      "          Linear-216             [-1, 49, 2304]       1,771,776\n",
      "         Softmax-217           [-1, 24, 49, 49]               0\n",
      "         Dropout-218           [-1, 24, 49, 49]               0\n",
      "          Linear-219              [-1, 49, 768]         590,592\n",
      "         Dropout-220              [-1, 49, 768]               0\n",
      " WindowAttention-221              [-1, 49, 768]               0\n",
      "        DropPath-222            [-1, 7, 7, 768]               0\n",
      "       LayerNorm-223              [-1, 49, 768]           1,536\n",
      "          Linear-224             [-1, 49, 3072]       2,362,368\n",
      "            GELU-225             [-1, 49, 3072]               0\n",
      "         Dropout-226             [-1, 49, 3072]               0\n",
      "        Identity-227             [-1, 49, 3072]               0\n",
      "          Linear-228              [-1, 49, 768]       2,360,064\n",
      "         Dropout-229              [-1, 49, 768]               0\n",
      "             Mlp-230              [-1, 49, 768]               0\n",
      "        DropPath-231              [-1, 49, 768]               0\n",
      "SwinTransformerBlock-232            [-1, 7, 7, 768]               0\n",
      "SwinTransformerStage-233            [-1, 7, 7, 768]               0\n",
      "       LayerNorm-234            [-1, 7, 7, 768]           1,536\n",
      "FastAdaptiveAvgPool-235                  [-1, 768]               0\n",
      "        Identity-236                  [-1, 768]               0\n",
      "SelectAdaptivePool2d-237                  [-1, 768]               0\n",
      "         Dropout-238                  [-1, 768]               0\n",
      "          Linear-239                    [-1, 3]           2,307\n",
      "        Identity-240                    [-1, 3]               0\n",
      "  ClassifierHead-241                    [-1, 3]               0\n",
      "================================================================\n",
      "Total params: 27,498,339\n",
      "Trainable params: 27,498,339\n",
      "Non-trainable params: 0\n",
      "----------------------------------------------------------------\n",
      "Input size (MB): 0.57\n",
      "Forward/backward pass size (MB): 298.65\n",
      "Params size (MB): 104.90\n",
      "Estimated Total Size (MB): 404.12\n",
      "----------------------------------------------------------------\n",
      "SwinTransformer(\n",
      "  (patch_embed): PatchEmbed(\n",
      "    (proj): Conv2d(3, 96, kernel_size=(4, 4), stride=(4, 4))\n",
      "    (norm): LayerNorm((96,), eps=1e-05, elementwise_affine=True)\n",
      "  )\n",
      "  (layers): Sequential(\n",
      "    (0): SwinTransformerStage(\n",
      "      (downsample): Identity()\n",
      "      (blocks): Sequential(\n",
      "        (0): SwinTransformerBlock(\n",
      "          (norm1): LayerNorm((96,), eps=1e-05, elementwise_affine=True)\n",
      "          (attn): WindowAttention(\n",
      "            (qkv): Linear(in_features=96, out_features=288, bias=True)\n",
      "            (attn_drop): Dropout(p=0.0, inplace=False)\n",
      "            (proj): Linear(in_features=96, out_features=96, bias=True)\n",
      "            (proj_drop): Dropout(p=0.0, inplace=False)\n",
      "            (softmax): Softmax(dim=-1)\n",
      "          )\n",
      "          (drop_path1): Identity()\n",
      "          (norm2): LayerNorm((96,), eps=1e-05, elementwise_affine=True)\n",
      "          (mlp): Mlp(\n",
      "            (fc1): Linear(in_features=96, out_features=384, bias=True)\n",
      "            (act): GELU(approximate='none')\n",
      "            (drop1): Dropout(p=0.0, inplace=False)\n",
      "            (norm): Identity()\n",
      "            (fc2): Linear(in_features=384, out_features=96, bias=True)\n",
      "            (drop2): Dropout(p=0.0, inplace=False)\n",
      "          )\n",
      "          (drop_path2): Identity()\n",
      "        )\n",
      "        (1): SwinTransformerBlock(\n",
      "          (norm1): LayerNorm((96,), eps=1e-05, elementwise_affine=True)\n",
      "          (attn): WindowAttention(\n",
      "            (qkv): Linear(in_features=96, out_features=288, bias=True)\n",
      "            (attn_drop): Dropout(p=0.0, inplace=False)\n",
      "            (proj): Linear(in_features=96, out_features=96, bias=True)\n",
      "            (proj_drop): Dropout(p=0.0, inplace=False)\n",
      "            (softmax): Softmax(dim=-1)\n",
      "          )\n",
      "          (drop_path1): DropPath(drop_prob=0.009)\n",
      "          (norm2): LayerNorm((96,), eps=1e-05, elementwise_affine=True)\n",
      "          (mlp): Mlp(\n",
      "            (fc1): Linear(in_features=96, out_features=384, bias=True)\n",
      "            (act): GELU(approximate='none')\n",
      "            (drop1): Dropout(p=0.0, inplace=False)\n",
      "            (norm): Identity()\n",
      "            (fc2): Linear(in_features=384, out_features=96, bias=True)\n",
      "            (drop2): Dropout(p=0.0, inplace=False)\n",
      "          )\n",
      "          (drop_path2): DropPath(drop_prob=0.009)\n",
      "        )\n",
      "      )\n",
      "    )\n",
      "    (1): SwinTransformerStage(\n",
      "      (downsample): PatchMerging(\n",
      "        (norm): LayerNorm((384,), eps=1e-05, elementwise_affine=True)\n",
      "        (reduction): Linear(in_features=384, out_features=192, bias=False)\n",
      "      )\n",
      "      (blocks): Sequential(\n",
      "        (0): SwinTransformerBlock(\n",
      "          (norm1): LayerNorm((192,), eps=1e-05, elementwise_affine=True)\n",
      "          (attn): WindowAttention(\n",
      "            (qkv): Linear(in_features=192, out_features=576, bias=True)\n",
      "            (attn_drop): Dropout(p=0.0, inplace=False)\n",
      "            (proj): Linear(in_features=192, out_features=192, bias=True)\n",
      "            (proj_drop): Dropout(p=0.0, inplace=False)\n",
      "            (softmax): Softmax(dim=-1)\n",
      "          )\n",
      "          (drop_path1): DropPath(drop_prob=0.018)\n",
      "          (norm2): LayerNorm((192,), eps=1e-05, elementwise_affine=True)\n",
      "          (mlp): Mlp(\n",
      "            (fc1): Linear(in_features=192, out_features=768, bias=True)\n",
      "            (act): GELU(approximate='none')\n",
      "            (drop1): Dropout(p=0.0, inplace=False)\n",
      "            (norm): Identity()\n",
      "            (fc2): Linear(in_features=768, out_features=192, bias=True)\n",
      "            (drop2): Dropout(p=0.0, inplace=False)\n",
      "          )\n",
      "          (drop_path2): DropPath(drop_prob=0.018)\n",
      "        )\n",
      "        (1): SwinTransformerBlock(\n",
      "          (norm1): LayerNorm((192,), eps=1e-05, elementwise_affine=True)\n",
      "          (attn): WindowAttention(\n",
      "            (qkv): Linear(in_features=192, out_features=576, bias=True)\n",
      "            (attn_drop): Dropout(p=0.0, inplace=False)\n",
      "            (proj): Linear(in_features=192, out_features=192, bias=True)\n",
      "            (proj_drop): Dropout(p=0.0, inplace=False)\n",
      "            (softmax): Softmax(dim=-1)\n",
      "          )\n",
      "          (drop_path1): DropPath(drop_prob=0.027)\n",
      "          (norm2): LayerNorm((192,), eps=1e-05, elementwise_affine=True)\n",
      "          (mlp): Mlp(\n",
      "            (fc1): Linear(in_features=192, out_features=768, bias=True)\n",
      "            (act): GELU(approximate='none')\n",
      "            (drop1): Dropout(p=0.0, inplace=False)\n",
      "            (norm): Identity()\n",
      "            (fc2): Linear(in_features=768, out_features=192, bias=True)\n",
      "            (drop2): Dropout(p=0.0, inplace=False)\n",
      "          )\n",
      "          (drop_path2): DropPath(drop_prob=0.027)\n",
      "        )\n",
      "      )\n",
      "    )\n",
      "    (2): SwinTransformerStage(\n",
      "      (downsample): PatchMerging(\n",
      "        (norm): LayerNorm((768,), eps=1e-05, elementwise_affine=True)\n",
      "        (reduction): Linear(in_features=768, out_features=384, bias=False)\n",
      "      )\n",
      "      (blocks): Sequential(\n",
      "        (0): SwinTransformerBlock(\n",
      "          (norm1): LayerNorm((384,), eps=1e-05, elementwise_affine=True)\n",
      "          (attn): WindowAttention(\n",
      "            (qkv): Linear(in_features=384, out_features=1152, bias=True)\n",
      "            (attn_drop): Dropout(p=0.0, inplace=False)\n",
      "            (proj): Linear(in_features=384, out_features=384, bias=True)\n",
      "            (proj_drop): Dropout(p=0.0, inplace=False)\n",
      "            (softmax): Softmax(dim=-1)\n",
      "          )\n",
      "          (drop_path1): DropPath(drop_prob=0.036)\n",
      "          (norm2): LayerNorm((384,), eps=1e-05, elementwise_affine=True)\n",
      "          (mlp): Mlp(\n",
      "            (fc1): Linear(in_features=384, out_features=1536, bias=True)\n",
      "            (act): GELU(approximate='none')\n",
      "            (drop1): Dropout(p=0.0, inplace=False)\n",
      "            (norm): Identity()\n",
      "            (fc2): Linear(in_features=1536, out_features=384, bias=True)\n",
      "            (drop2): Dropout(p=0.0, inplace=False)\n",
      "          )\n",
      "          (drop_path2): DropPath(drop_prob=0.036)\n",
      "        )\n",
      "        (1): SwinTransformerBlock(\n",
      "          (norm1): LayerNorm((384,), eps=1e-05, elementwise_affine=True)\n",
      "          (attn): WindowAttention(\n",
      "            (qkv): Linear(in_features=384, out_features=1152, bias=True)\n",
      "            (attn_drop): Dropout(p=0.0, inplace=False)\n",
      "            (proj): Linear(in_features=384, out_features=384, bias=True)\n",
      "            (proj_drop): Dropout(p=0.0, inplace=False)\n",
      "            (softmax): Softmax(dim=-1)\n",
      "          )\n",
      "          (drop_path1): DropPath(drop_prob=0.045)\n",
      "          (norm2): LayerNorm((384,), eps=1e-05, elementwise_affine=True)\n",
      "          (mlp): Mlp(\n",
      "            (fc1): Linear(in_features=384, out_features=1536, bias=True)\n",
      "            (act): GELU(approximate='none')\n",
      "            (drop1): Dropout(p=0.0, inplace=False)\n",
      "            (norm): Identity()\n",
      "            (fc2): Linear(in_features=1536, out_features=384, bias=True)\n",
      "            (drop2): Dropout(p=0.0, inplace=False)\n",
      "          )\n",
      "          (drop_path2): DropPath(drop_prob=0.045)\n",
      "        )\n",
      "        (2): SwinTransformerBlock(\n",
      "          (norm1): LayerNorm((384,), eps=1e-05, elementwise_affine=True)\n",
      "          (attn): WindowAttention(\n",
      "            (qkv): Linear(in_features=384, out_features=1152, bias=True)\n",
      "            (attn_drop): Dropout(p=0.0, inplace=False)\n",
      "            (proj): Linear(in_features=384, out_features=384, bias=True)\n",
      "            (proj_drop): Dropout(p=0.0, inplace=False)\n",
      "            (softmax): Softmax(dim=-1)\n",
      "          )\n",
      "          (drop_path1): DropPath(drop_prob=0.055)\n",
      "          (norm2): LayerNorm((384,), eps=1e-05, elementwise_affine=True)\n",
      "          (mlp): Mlp(\n",
      "            (fc1): Linear(in_features=384, out_features=1536, bias=True)\n",
      "            (act): GELU(approximate='none')\n",
      "            (drop1): Dropout(p=0.0, inplace=False)\n",
      "            (norm): Identity()\n",
      "            (fc2): Linear(in_features=1536, out_features=384, bias=True)\n",
      "            (drop2): Dropout(p=0.0, inplace=False)\n",
      "          )\n",
      "          (drop_path2): DropPath(drop_prob=0.055)\n",
      "        )\n",
      "        (3): SwinTransformerBlock(\n",
      "          (norm1): LayerNorm((384,), eps=1e-05, elementwise_affine=True)\n",
      "          (attn): WindowAttention(\n",
      "            (qkv): Linear(in_features=384, out_features=1152, bias=True)\n",
      "            (attn_drop): Dropout(p=0.0, inplace=False)\n",
      "            (proj): Linear(in_features=384, out_features=384, bias=True)\n",
      "            (proj_drop): Dropout(p=0.0, inplace=False)\n",
      "            (softmax): Softmax(dim=-1)\n",
      "          )\n",
      "          (drop_path1): DropPath(drop_prob=0.064)\n",
      "          (norm2): LayerNorm((384,), eps=1e-05, elementwise_affine=True)\n",
      "          (mlp): Mlp(\n",
      "            (fc1): Linear(in_features=384, out_features=1536, bias=True)\n",
      "            (act): GELU(approximate='none')\n",
      "            (drop1): Dropout(p=0.0, inplace=False)\n",
      "            (norm): Identity()\n",
      "            (fc2): Linear(in_features=1536, out_features=384, bias=True)\n",
      "            (drop2): Dropout(p=0.0, inplace=False)\n",
      "          )\n",
      "          (drop_path2): DropPath(drop_prob=0.064)\n",
      "        )\n",
      "        (4): SwinTransformerBlock(\n",
      "          (norm1): LayerNorm((384,), eps=1e-05, elementwise_affine=True)\n",
      "          (attn): WindowAttention(\n",
      "            (qkv): Linear(in_features=384, out_features=1152, bias=True)\n",
      "            (attn_drop): Dropout(p=0.0, inplace=False)\n",
      "            (proj): Linear(in_features=384, out_features=384, bias=True)\n",
      "            (proj_drop): Dropout(p=0.0, inplace=False)\n",
      "            (softmax): Softmax(dim=-1)\n",
      "          )\n",
      "          (drop_path1): DropPath(drop_prob=0.073)\n",
      "          (norm2): LayerNorm((384,), eps=1e-05, elementwise_affine=True)\n",
      "          (mlp): Mlp(\n",
      "            (fc1): Linear(in_features=384, out_features=1536, bias=True)\n",
      "            (act): GELU(approximate='none')\n",
      "            (drop1): Dropout(p=0.0, inplace=False)\n",
      "            (norm): Identity()\n",
      "            (fc2): Linear(in_features=1536, out_features=384, bias=True)\n",
      "            (drop2): Dropout(p=0.0, inplace=False)\n",
      "          )\n",
      "          (drop_path2): DropPath(drop_prob=0.073)\n",
      "        )\n",
      "        (5): SwinTransformerBlock(\n",
      "          (norm1): LayerNorm((384,), eps=1e-05, elementwise_affine=True)\n",
      "          (attn): WindowAttention(\n",
      "            (qkv): Linear(in_features=384, out_features=1152, bias=True)\n",
      "            (attn_drop): Dropout(p=0.0, inplace=False)\n",
      "            (proj): Linear(in_features=384, out_features=384, bias=True)\n",
      "            (proj_drop): Dropout(p=0.0, inplace=False)\n",
      "            (softmax): Softmax(dim=-1)\n",
      "          )\n",
      "          (drop_path1): DropPath(drop_prob=0.082)\n",
      "          (norm2): LayerNorm((384,), eps=1e-05, elementwise_affine=True)\n",
      "          (mlp): Mlp(\n",
      "            (fc1): Linear(in_features=384, out_features=1536, bias=True)\n",
      "            (act): GELU(approximate='none')\n",
      "            (drop1): Dropout(p=0.0, inplace=False)\n",
      "            (norm): Identity()\n",
      "            (fc2): Linear(in_features=1536, out_features=384, bias=True)\n",
      "            (drop2): Dropout(p=0.0, inplace=False)\n",
      "          )\n",
      "          (drop_path2): DropPath(drop_prob=0.082)\n",
      "        )\n",
      "      )\n",
      "    )\n",
      "    (3): SwinTransformerStage(\n",
      "      (downsample): PatchMerging(\n",
      "        (norm): LayerNorm((1536,), eps=1e-05, elementwise_affine=True)\n",
      "        (reduction): Linear(in_features=1536, out_features=768, bias=False)\n",
      "      )\n",
      "      (blocks): Sequential(\n",
      "        (0): SwinTransformerBlock(\n",
      "          (norm1): LayerNorm((768,), eps=1e-05, elementwise_affine=True)\n",
      "          (attn): WindowAttention(\n",
      "            (qkv): Linear(in_features=768, out_features=2304, bias=True)\n",
      "            (attn_drop): Dropout(p=0.0, inplace=False)\n",
      "            (proj): Linear(in_features=768, out_features=768, bias=True)\n",
      "            (proj_drop): Dropout(p=0.0, inplace=False)\n",
      "            (softmax): Softmax(dim=-1)\n",
      "          )\n",
      "          (drop_path1): DropPath(drop_prob=0.091)\n",
      "          (norm2): LayerNorm((768,), eps=1e-05, elementwise_affine=True)\n",
      "          (mlp): Mlp(\n",
      "            (fc1): Linear(in_features=768, out_features=3072, bias=True)\n",
      "            (act): GELU(approximate='none')\n",
      "            (drop1): Dropout(p=0.0, inplace=False)\n",
      "            (norm): Identity()\n",
      "            (fc2): Linear(in_features=3072, out_features=768, bias=True)\n",
      "            (drop2): Dropout(p=0.0, inplace=False)\n",
      "          )\n",
      "          (drop_path2): DropPath(drop_prob=0.091)\n",
      "        )\n",
      "        (1): SwinTransformerBlock(\n",
      "          (norm1): LayerNorm((768,), eps=1e-05, elementwise_affine=True)\n",
      "          (attn): WindowAttention(\n",
      "            (qkv): Linear(in_features=768, out_features=2304, bias=True)\n",
      "            (attn_drop): Dropout(p=0.0, inplace=False)\n",
      "            (proj): Linear(in_features=768, out_features=768, bias=True)\n",
      "            (proj_drop): Dropout(p=0.0, inplace=False)\n",
      "            (softmax): Softmax(dim=-1)\n",
      "          )\n",
      "          (drop_path1): DropPath(drop_prob=0.100)\n",
      "          (norm2): LayerNorm((768,), eps=1e-05, elementwise_affine=True)\n",
      "          (mlp): Mlp(\n",
      "            (fc1): Linear(in_features=768, out_features=3072, bias=True)\n",
      "            (act): GELU(approximate='none')\n",
      "            (drop1): Dropout(p=0.0, inplace=False)\n",
      "            (norm): Identity()\n",
      "            (fc2): Linear(in_features=3072, out_features=768, bias=True)\n",
      "            (drop2): Dropout(p=0.0, inplace=False)\n",
      "          )\n",
      "          (drop_path2): DropPath(drop_prob=0.100)\n",
      "        )\n",
      "      )\n",
      "    )\n",
      "  )\n",
      "  (norm): LayerNorm((768,), eps=1e-05, elementwise_affine=True)\n",
      "  (head): ClassifierHead(\n",
      "    (global_pool): SelectAdaptivePool2d(pool_type=avg, flatten=Identity())\n",
      "    (drop): Dropout(p=0.0, inplace=False)\n",
      "    (fc): Linear(in_features=768, out_features=3, bias=True)\n",
      "    (flatten): Identity()\n",
      "  )\n",
      ")\n"
     ]
    }
   ],
   "source": [
    "def conv3x3(in_planes, out_planes, stride=1):\n",
    "    \"\"\"3x3 convolution with padding\"\"\"\n",
    "    return nn.Conv2d(in_planes, out_planes, kernel_size=3, stride=stride,\n",
    "                     padding=1, bias=False)\n",
    "\n",
    "class BasicBlock(nn.Module):\n",
    "    expansion = 1\n",
    "\n",
    "    def __init__(self, inplanes, planes, stride=1, downsample=None):\n",
    "        super(BasicBlock, self).__init__()\n",
    "        self.conv1 = conv3x3(inplanes, planes, stride)\n",
    "        self.bn1 = nn.BatchNorm2d(planes)\n",
    "        self.relu = nn.ReLU(inplace=True)\n",
    "        self.conv2 = conv3x3(planes, planes)\n",
    "        self.bn2 = nn.BatchNorm2d(planes)\n",
    "        self.downsample = downsample\n",
    "        self.stride = stride\n",
    "\n",
    "    def forward(self, x):\n",
    "        residual = x\n",
    "\n",
    "        out = self.conv1(x)\n",
    "        out = self.bn1(out)\n",
    "        out = self.relu(out)\n",
    "\n",
    "        out = self.conv2(out)\n",
    "        out = self.bn2(out)\n",
    "\n",
    "        if self.downsample is not None:\n",
    "            residual = self.downsample(x)\n",
    "\n",
    "        out += residual\n",
    "        out = self.relu(out)\n",
    "\n",
    "        return out\n",
    "    \n",
    "class ResNet(nn.Module):\n",
    "    def __init__(self):\n",
    "        super(ResNet, self).__init__()\n",
    "        self.inplanes = 48\n",
    "        self.conv1 = nn.Conv2d(3, 48, kernel_size=3, stride=1, padding=1, bias=False)\n",
    "        self.bn1 = nn.BatchNorm2d(48)\n",
    "        self.relu = nn.ReLU(inplace=True)\n",
    "        self.maxpool = nn.MaxPool2d(kernel_size=2, stride=2)\n",
    "\n",
    "        self.layer1 = self._make_layer(BasicBlock, 48, blocks=2, stride=1)\n",
    "        self.layer2 = self._make_layer(BasicBlock, 96, blocks=3, stride=2)\n",
    "        self.layer3 = self._make_layer(BasicBlock, 192, blocks=1, stride=2)\n",
    "        self.layer4 = self._make_layer(BasicBlock, 384, blocks=1, stride=2)\n",
    "\n",
    "        self.avgpool = nn.AdaptiveAvgPool2d((1, 1))\n",
    "        self.fc = nn.Linear(384 * BasicBlock.expansion, 3)\n",
    "\n",
    "        for m in self.modules():\n",
    "            if isinstance(m, nn.Conv2d):\n",
    "                nn.init.kaiming_normal_(m.weight, mode='fan_out', nonlinearity='relu')\n",
    "            elif isinstance(m, nn.BatchNorm2d):\n",
    "                nn.init.constant_(m.weight, 1)\n",
    "                nn.init.constant_(m.bias, 0)\n",
    "\n",
    "    def _make_layer(self, block, planes, blocks, stride=1):\n",
    "        downsample = None\n",
    "        if stride != 1 or self.inplanes != planes * block.expansion:\n",
    "            downsample = nn.Sequential(\n",
    "                nn.Conv2d(self.inplanes, planes * block.expansion,\n",
    "                          kernel_size=1, stride=stride, bias=False),\n",
    "                nn.BatchNorm2d(planes * block.expansion),\n",
    "            )\n",
    "\n",
    "        layers = []\n",
    "        layers.append(block(self.inplanes, planes, stride, downsample))\n",
    "        self.inplanes = planes * block.expansion\n",
    "        for i in range(1, blocks):\n",
    "            layers.append(block(self.inplanes, planes))\n",
    "\n",
    "        return nn.Sequential(*layers)\n",
    "\n",
    "    def forward(self, x):\n",
    "        x = self.conv1(x)\n",
    "        x = self.bn1(x)\n",
    "        x = self.relu(x)\n",
    "        x = self.maxpool(x)\n",
    "\n",
    "        x = self.layer1(x)\n",
    "        x = self.layer2(x)\n",
    "        x = self.layer3(x)\n",
    "        x = self.layer4(x)\n",
    "\n",
    "        x = self.avgpool(x)\n",
    "        x = x.view(x.size(0), -1)\n",
    "        x = self.fc(x)\n",
    "\n",
    "        return x\n",
    "'''model_ = ResNet().to(device)'''\n",
    "from timm import create_model\n",
    "model_ = create_model('swin_tiny_patch4_window7_224',pretrained=True,num_classes=3).to(device)\n",
    "model_.to(device)\n",
    "\n",
    "summary(model_, (3, 224, 224))\n",
    "print(model_)"
   ]
  },
  {
   "cell_type": "code",
   "execution_count": 6,
   "id": "bdd5809c",
   "metadata": {},
   "outputs": [],
   "source": [
    "class EarlyStopping:\n",
    "    def __init__(self, patience=5, delta=0.001):\n",
    "        self.patience = patience\n",
    "        self.delta = delta\n",
    "        self.counter = 0\n",
    "        self.best_score = None\n",
    "        self.early_stop = False\n",
    "\n",
    "    def __call__(self, val_acc):\n",
    "        if self.best_score is None:\n",
    "            self.best_score = val_acc\n",
    "        elif val_acc < self.best_score + self.delta:\n",
    "            self.counter += 1\n",
    "            if self.counter >= self.patience:\n",
    "                self.early_stop = True\n",
    "        else:\n",
    "            self.best_score = val_acc\n",
    "            self.counter = 0\n"
   ]
  },
  {
   "cell_type": "markdown",
   "id": "2a4f73a5",
   "metadata": {},
   "source": [
    "Train"
   ]
  },
  {
   "cell_type": "code",
   "execution_count": 7,
   "id": "2c56582e",
   "metadata": {},
   "outputs": [],
   "source": [
    "import copy\n",
    "class ModelEMA:\n",
    "    def __init__(self, model, decay=0.99):\n",
    "        self.ema_model = copy.deepcopy(model)\n",
    "        self.decay = decay\n",
    "        self.ema_model.eval()\n",
    "        for p in self.ema_model.parameters():\n",
    "            p.requires_grad_(False)\n",
    "\n",
    "    def update(self, model):\n",
    "        with torch.no_grad():\n",
    "            msd = model.state_dict()\n",
    "            for k, ema_v in self.ema_model.state_dict().items():\n",
    "                model_v = msd[k].detach()\n",
    "                if isinstance(ema_v, torch.Tensor):\n",
    "                    ema_v.copy_(ema_v * self.decay + (1. - self.decay) * model_v)\n",
    "\n",
    "def train(model, trainloader, valloader, epochs):\n",
    "    best_val_acc = 0.0\n",
    "    #class_counts = torch.tensor([348, 156, 210], dtype=torch.float)\n",
    "    #class_weights = 1.0 / class_counts\n",
    "    #class_weights = class_weights / class_weights.sum()  # normalize (optional)\n",
    "    #class_weights = class_weights.to(device)\n",
    "    class_weights = torch.tensor([1.1, 1, 1.6]).to(device)\n",
    "    criterion = nn.CrossEntropyLoss(weight=class_weights,label_smoothing=0.05)\n",
    "    optimizer = torch.optim.Adam(model.parameters(), lr=0.00007, weight_decay=1e-4)\n",
    "    #scheduler = torch.optim.lr_scheduler.ReduceLROnPlateau(optimizer, mode='max', patience=3)\n",
    "    scheduler = CosineAnnealingLR(optimizer, T_max=epochs)\n",
    "    early_stopper = EarlyStopping(patience=5, delta=0.005)\n",
    "    ema = ModelEMA(model, decay=0.99)\n",
    "    \n",
    "    train_losses = []\n",
    "    train_accuracies = []\n",
    "    val_losses = []\n",
    "    val_accuracies = []\n",
    "\n",
    "    for epoch in range(epochs):\n",
    "        model.train()\n",
    "        running_loss = 0.0\n",
    "        correct = 0\n",
    "        total = 0\n",
    "\n",
    "        loop = tqdm(enumerate(trainloader), total=len(trainloader), leave=True)\n",
    "        for i, data in loop:\n",
    "            inputs, labels = data\n",
    "            inputs, labels = inputs.to(device), labels.to(device)\n",
    "            optimizer.zero_grad()\n",
    "\n",
    "            outputs = model(inputs)\n",
    "            loss = criterion(outputs, labels)\n",
    "            loss.backward()\n",
    "            optimizer.step()\n",
    "\n",
    "            ema.update(model)\n",
    "\n",
    "            _, predicted = torch.max(outputs.data, 1)\n",
    "            total += labels.size(0)\n",
    "            correct += (predicted == labels).sum().item()\n",
    "\n",
    "            running_loss += loss.item()\n",
    "            loop.set_description(f\"Epoch [{epoch+1}/{epochs}]\")\n",
    "            loop.set_postfix(loss=running_loss/(i+1), accuracy=100.*correct/total)\n",
    "\n",
    "        epoch_train_loss = running_loss / len(trainloader)\n",
    "        epoch_train_acc = 100. * correct / total\n",
    "        train_losses.append(epoch_train_loss)\n",
    "        train_accuracies.append(epoch_train_acc)\n",
    "\n",
    "        ema.ema_model.eval()\n",
    "        val_running_loss = 0.0\n",
    "        val_correct = 0\n",
    "        val_total = 0\n",
    "\n",
    "        with torch.no_grad():\n",
    "            for data in valloader:\n",
    "                images, labels = data\n",
    "                images, labels = images.to(device), labels.to(device)\n",
    "                outputs = ema.ema_model(images)\n",
    "                loss = criterion(outputs, labels)\n",
    "                val_running_loss += loss.item()\n",
    "                _, predicted = torch.max(outputs.data, 1)\n",
    "                val_total += labels.size(0)\n",
    "                val_correct += (predicted == labels).sum().item()\n",
    "\n",
    "        epoch_val_loss = val_running_loss / len(valloader)\n",
    "        epoch_val_acc = 100. * val_correct / val_total\n",
    "        val_losses.append(epoch_val_loss)\n",
    "        val_accuracies.append(epoch_val_acc)\n",
    "        \n",
    "        print(f\"Epoch {epoch+1}/{epochs}\")\n",
    "        print(f\"Train Loss: {epoch_train_loss:.4f}, Train Acc: {epoch_train_acc:.2f}%\")\n",
    "        print(f\"Val Loss: {epoch_val_loss:.4f}, Val Acc: {epoch_val_acc:.2f}%\")\n",
    "        print(\"-\" * 60)\n",
    "\n",
    "        if epoch_val_acc > best_val_acc:\n",
    "            best_val_acc = epoch_val_acc\n",
    "            torch.save(ema.ema_model.state_dict(), \"best_model.pth\")\n",
    "            print(f\"Saved best EMA model with Val Acc: {epoch_val_acc:.2f}%\")\n",
    "        torch.save(ema.ema_model.state_dict(), \"final_model.pth\")\n",
    "        scheduler.step()\n",
    "\n",
    "        '''early_stopper(epoch_val_acc)\n",
    "        if early_stopper.early_stop:\n",
    "            print(\"⛔ Early stopping triggered.\")\n",
    "            break'''\n",
    "    \n",
    "\n",
    "    print('Finished Training')\n",
    "    return ema.ema_model, train_losses, train_accuracies, val_losses, val_accuracies\n"
   ]
  },
  {
   "cell_type": "code",
   "execution_count": 8,
   "id": "924bfecc",
   "metadata": {},
   "outputs": [],
   "source": [
    "def evaluate(model, valloader):\n",
    "\n",
    "    model.eval()\n",
    "    correct = 0\n",
    "    total = 0\n",
    "    \n",
    "    # Initialize lists for per-class accuracy\n",
    "    num_classes = len(classes)\n",
    "    class_correct = list(0. for i in range(num_classes))\n",
    "    class_total = list(0. for i in range(num_classes))\n",
    "    \n",
    "    # Initialize confusion matrix\n",
    "    confusion_matrix = torch.zeros(num_classes, num_classes)\n",
    "    \n",
    "    with torch.no_grad():\n",
    "        for data in tqdm(valloader, desc=\"Evaluating\"):\n",
    "            images, labels = data\n",
    "            images, labels = images.to(device), labels.to(device)\n",
    "            outputs = model(images)\n",
    "            _, predicted = torch.max(outputs.data, 1)\n",
    "            total += labels.size(0)\n",
    "            correct += (predicted == labels).sum().item()\n",
    "            \n",
    "            # Calculate per-class accuracy\n",
    "            for pred, label in zip(predicted, labels):\n",
    "                label = label.item()\n",
    "                pred = pred.item()\n",
    "                class_correct[label] += int(pred == label)\n",
    "                class_total[label] += 1\n",
    "                confusion_matrix[label, pred] += 1\n",
    "\n",
    "    overall_accuracy = 100 * correct / total\n",
    "    print(f'Overall Accuracy: {overall_accuracy:.2f}%')\n",
    "\n",
    "    \n",
    "    return class_correct, class_total, confusion_matrix\n",
    "def Save_Model():\n",
    "    torch.save(model_.state_dict(), 'best_model.pth')\n",
    "    print(\"Model saved successfully!\")\n",
    "    return\n",
    "\n",
    "def Load_Model():\n",
    "    model_.load_state_dict(torch.load('best_model.pth'))\n",
    "    model_.eval()\n",
    "    print(\"Model loaded successfully!\")\n",
    "    return"
   ]
  },
  {
   "cell_type": "code",
   "execution_count": 9,
   "id": "90dff4d7",
   "metadata": {},
   "outputs": [
    {
     "name": "stdout",
     "output_type": "stream",
     "text": [
      "Starting training...\n"
     ]
    },
    {
     "name": "stderr",
     "output_type": "stream",
     "text": [
      "  0%|          | 0/45 [00:00<?, ?it/s]"
     ]
    },
    {
     "name": "stderr",
     "output_type": "stream",
     "text": [
      "Epoch [1/50]: 100%|██████████| 45/45 [00:03<00:00, 12.67it/s, accuracy=75.9, loss=0.602]\n"
     ]
    },
    {
     "name": "stdout",
     "output_type": "stream",
     "text": [
      "Epoch 1/50\n",
      "Train Loss: 0.6021, Train Acc: 75.93%\n",
      "Val Loss: 0.7818, Val Acc: 75.42%\n",
      "------------------------------------------------------------\n",
      "Saved best EMA model with Val Acc: 75.42%\n"
     ]
    },
    {
     "name": "stderr",
     "output_type": "stream",
     "text": [
      "Epoch [2/50]: 100%|██████████| 45/45 [00:02<00:00, 15.95it/s, accuracy=96.3, loss=0.283]\n"
     ]
    },
    {
     "name": "stdout",
     "output_type": "stream",
     "text": [
      "Epoch 2/50\n",
      "Train Loss: 0.2832, Train Acc: 96.27%\n",
      "Val Loss: 0.5313, Val Acc: 84.36%\n",
      "------------------------------------------------------------\n",
      "Saved best EMA model with Val Acc: 84.36%\n"
     ]
    },
    {
     "name": "stderr",
     "output_type": "stream",
     "text": [
      "Epoch [3/50]: 100%|██████████| 45/45 [00:02<00:00, 16.22it/s, accuracy=97.9, loss=0.232]\n"
     ]
    },
    {
     "name": "stdout",
     "output_type": "stream",
     "text": [
      "Epoch 3/50\n",
      "Train Loss: 0.2318, Train Acc: 97.95%\n",
      "Val Loss: 0.4086, Val Acc: 90.50%\n",
      "------------------------------------------------------------\n",
      "Saved best EMA model with Val Acc: 90.50%\n"
     ]
    },
    {
     "name": "stderr",
     "output_type": "stream",
     "text": [
      "Epoch [4/50]: 100%|██████████| 45/45 [00:02<00:00, 15.50it/s, accuracy=98.9, loss=0.209]\n"
     ]
    },
    {
     "name": "stdout",
     "output_type": "stream",
     "text": [
      "Epoch 4/50\n",
      "Train Loss: 0.2094, Train Acc: 98.88%\n",
      "Val Loss: 0.3454, Val Acc: 92.74%\n",
      "------------------------------------------------------------\n",
      "Saved best EMA model with Val Acc: 92.74%\n"
     ]
    },
    {
     "name": "stderr",
     "output_type": "stream",
     "text": [
      "Epoch [5/50]: 100%|██████████| 45/45 [00:02<00:00, 15.66it/s, accuracy=99.8, loss=0.192]\n"
     ]
    },
    {
     "name": "stdout",
     "output_type": "stream",
     "text": [
      "Epoch 5/50\n",
      "Train Loss: 0.1923, Train Acc: 99.81%\n",
      "Val Loss: 0.3065, Val Acc: 95.53%\n",
      "------------------------------------------------------------\n",
      "Saved best EMA model with Val Acc: 95.53%\n"
     ]
    },
    {
     "name": "stderr",
     "output_type": "stream",
     "text": [
      "Epoch [6/50]: 100%|██████████| 45/45 [00:02<00:00, 15.76it/s, accuracy=98.9, loss=0.204]\n"
     ]
    },
    {
     "name": "stdout",
     "output_type": "stream",
     "text": [
      "Epoch 6/50\n",
      "Train Loss: 0.2036, Train Acc: 98.88%\n",
      "Val Loss: 0.2845, Val Acc: 95.53%\n",
      "------------------------------------------------------------\n"
     ]
    },
    {
     "name": "stderr",
     "output_type": "stream",
     "text": [
      "Epoch [7/50]: 100%|██████████| 45/45 [00:02<00:00, 15.87it/s, accuracy=99.6, loss=0.191]\n"
     ]
    },
    {
     "name": "stdout",
     "output_type": "stream",
     "text": [
      "Epoch 7/50\n",
      "Train Loss: 0.1910, Train Acc: 99.63%\n",
      "Val Loss: 0.2703, Val Acc: 97.21%\n",
      "------------------------------------------------------------\n",
      "Saved best EMA model with Val Acc: 97.21%\n"
     ]
    },
    {
     "name": "stderr",
     "output_type": "stream",
     "text": [
      "Epoch [8/50]: 100%|██████████| 45/45 [00:02<00:00, 15.87it/s, accuracy=98.9, loss=0.2]  \n"
     ]
    },
    {
     "name": "stdout",
     "output_type": "stream",
     "text": [
      "Epoch 8/50\n",
      "Train Loss: 0.2001, Train Acc: 98.88%\n",
      "Val Loss: 0.2589, Val Acc: 96.65%\n",
      "------------------------------------------------------------\n"
     ]
    },
    {
     "name": "stderr",
     "output_type": "stream",
     "text": [
      "Epoch [9/50]: 100%|██████████| 45/45 [00:02<00:00, 15.50it/s, accuracy=99.8, loss=0.182]\n"
     ]
    },
    {
     "name": "stdout",
     "output_type": "stream",
     "text": [
      "Epoch 9/50\n",
      "Train Loss: 0.1821, Train Acc: 99.81%\n",
      "Val Loss: 0.2429, Val Acc: 97.21%\n",
      "------------------------------------------------------------\n"
     ]
    },
    {
     "name": "stderr",
     "output_type": "stream",
     "text": [
      "Epoch [10/50]: 100%|██████████| 45/45 [00:02<00:00, 15.52it/s, accuracy=100, loss=0.178]\n"
     ]
    },
    {
     "name": "stdout",
     "output_type": "stream",
     "text": [
      "Epoch 10/50\n",
      "Train Loss: 0.1785, Train Acc: 100.00%\n",
      "Val Loss: 0.2492, Val Acc: 97.21%\n",
      "------------------------------------------------------------\n"
     ]
    },
    {
     "name": "stderr",
     "output_type": "stream",
     "text": [
      "Epoch [11/50]: 100%|██████████| 45/45 [00:02<00:00, 15.28it/s, accuracy=100, loss=0.179]\n"
     ]
    },
    {
     "name": "stdout",
     "output_type": "stream",
     "text": [
      "Epoch 11/50\n",
      "Train Loss: 0.1791, Train Acc: 100.00%\n",
      "Val Loss: 0.2599, Val Acc: 96.65%\n",
      "------------------------------------------------------------\n"
     ]
    },
    {
     "name": "stderr",
     "output_type": "stream",
     "text": [
      "Epoch [12/50]: 100%|██████████| 45/45 [00:02<00:00, 15.59it/s, accuracy=100, loss=0.178]\n"
     ]
    },
    {
     "name": "stdout",
     "output_type": "stream",
     "text": [
      "Epoch 12/50\n",
      "Train Loss: 0.1778, Train Acc: 100.00%\n",
      "Val Loss: 0.2693, Val Acc: 96.09%\n",
      "------------------------------------------------------------\n"
     ]
    },
    {
     "name": "stderr",
     "output_type": "stream",
     "text": [
      "Epoch [13/50]: 100%|██████████| 45/45 [00:02<00:00, 15.74it/s, accuracy=100, loss=0.176]\n"
     ]
    },
    {
     "name": "stdout",
     "output_type": "stream",
     "text": [
      "Epoch 13/50\n",
      "Train Loss: 0.1760, Train Acc: 100.00%\n",
      "Val Loss: 0.2709, Val Acc: 96.09%\n",
      "------------------------------------------------------------\n"
     ]
    },
    {
     "name": "stderr",
     "output_type": "stream",
     "text": [
      "Epoch [14/50]: 100%|██████████| 45/45 [00:02<00:00, 15.71it/s, accuracy=99.4, loss=0.195]\n"
     ]
    },
    {
     "name": "stdout",
     "output_type": "stream",
     "text": [
      "Epoch 14/50\n",
      "Train Loss: 0.1949, Train Acc: 99.44%\n",
      "Val Loss: 0.2648, Val Acc: 95.53%\n",
      "------------------------------------------------------------\n"
     ]
    },
    {
     "name": "stderr",
     "output_type": "stream",
     "text": [
      "Epoch [15/50]: 100%|██████████| 45/45 [00:02<00:00, 15.65it/s, accuracy=99.8, loss=0.184]\n"
     ]
    },
    {
     "name": "stdout",
     "output_type": "stream",
     "text": [
      "Epoch 15/50\n",
      "Train Loss: 0.1845, Train Acc: 99.81%\n",
      "Val Loss: 0.2733, Val Acc: 94.41%\n",
      "------------------------------------------------------------\n"
     ]
    },
    {
     "name": "stderr",
     "output_type": "stream",
     "text": [
      "Epoch [16/50]: 100%|██████████| 45/45 [00:02<00:00, 15.57it/s, accuracy=99.8, loss=0.185]\n"
     ]
    },
    {
     "name": "stdout",
     "output_type": "stream",
     "text": [
      "Epoch 16/50\n",
      "Train Loss: 0.1851, Train Acc: 99.81%\n",
      "Val Loss: 0.2802, Val Acc: 94.41%\n",
      "------------------------------------------------------------\n"
     ]
    },
    {
     "name": "stderr",
     "output_type": "stream",
     "text": [
      "Epoch [17/50]: 100%|██████████| 45/45 [00:02<00:00, 15.70it/s, accuracy=98.7, loss=0.199]\n"
     ]
    },
    {
     "name": "stdout",
     "output_type": "stream",
     "text": [
      "Epoch 17/50\n",
      "Train Loss: 0.1986, Train Acc: 98.69%\n",
      "Val Loss: 0.2736, Val Acc: 94.97%\n",
      "------------------------------------------------------------\n"
     ]
    },
    {
     "name": "stderr",
     "output_type": "stream",
     "text": [
      "Epoch [18/50]: 100%|██████████| 45/45 [00:02<00:00, 15.29it/s, accuracy=99.1, loss=0.194]\n"
     ]
    },
    {
     "name": "stdout",
     "output_type": "stream",
     "text": [
      "Epoch 18/50\n",
      "Train Loss: 0.1941, Train Acc: 99.07%\n",
      "Val Loss: 0.3196, Val Acc: 94.97%\n",
      "------------------------------------------------------------\n"
     ]
    },
    {
     "name": "stderr",
     "output_type": "stream",
     "text": [
      "Epoch [19/50]: 100%|██████████| 45/45 [00:02<00:00, 15.87it/s, accuracy=100, loss=0.182]\n"
     ]
    },
    {
     "name": "stdout",
     "output_type": "stream",
     "text": [
      "Epoch 19/50\n",
      "Train Loss: 0.1820, Train Acc: 100.00%\n",
      "Val Loss: 0.3293, Val Acc: 94.97%\n",
      "------------------------------------------------------------\n"
     ]
    },
    {
     "name": "stderr",
     "output_type": "stream",
     "text": [
      "Epoch [20/50]: 100%|██████████| 45/45 [00:02<00:00, 15.68it/s, accuracy=99.8, loss=0.178]\n"
     ]
    },
    {
     "name": "stdout",
     "output_type": "stream",
     "text": [
      "Epoch 20/50\n",
      "Train Loss: 0.1777, Train Acc: 99.81%\n",
      "Val Loss: 0.3268, Val Acc: 94.97%\n",
      "------------------------------------------------------------\n"
     ]
    },
    {
     "name": "stderr",
     "output_type": "stream",
     "text": [
      "Epoch [21/50]: 100%|██████████| 45/45 [00:02<00:00, 15.77it/s, accuracy=100, loss=0.174]\n"
     ]
    },
    {
     "name": "stdout",
     "output_type": "stream",
     "text": [
      "Epoch 21/50\n",
      "Train Loss: 0.1735, Train Acc: 100.00%\n",
      "Val Loss: 0.3282, Val Acc: 94.97%\n",
      "------------------------------------------------------------\n"
     ]
    },
    {
     "name": "stderr",
     "output_type": "stream",
     "text": [
      "Epoch [22/50]: 100%|██████████| 45/45 [00:02<00:00, 15.47it/s, accuracy=100, loss=0.174]\n"
     ]
    },
    {
     "name": "stdout",
     "output_type": "stream",
     "text": [
      "Epoch 22/50\n",
      "Train Loss: 0.1740, Train Acc: 100.00%\n",
      "Val Loss: 0.3236, Val Acc: 94.97%\n",
      "------------------------------------------------------------\n"
     ]
    },
    {
     "name": "stderr",
     "output_type": "stream",
     "text": [
      "Epoch [23/50]: 100%|██████████| 45/45 [00:02<00:00, 15.58it/s, accuracy=100, loss=0.173]\n"
     ]
    },
    {
     "name": "stdout",
     "output_type": "stream",
     "text": [
      "Epoch 23/50\n",
      "Train Loss: 0.1728, Train Acc: 100.00%\n",
      "Val Loss: 0.3181, Val Acc: 94.97%\n",
      "------------------------------------------------------------\n"
     ]
    },
    {
     "name": "stderr",
     "output_type": "stream",
     "text": [
      "Epoch [24/50]: 100%|██████████| 45/45 [00:02<00:00, 15.96it/s, accuracy=99.8, loss=0.174]\n"
     ]
    },
    {
     "name": "stdout",
     "output_type": "stream",
     "text": [
      "Epoch 24/50\n",
      "Train Loss: 0.1735, Train Acc: 99.81%\n",
      "Val Loss: 0.3157, Val Acc: 94.97%\n",
      "------------------------------------------------------------\n"
     ]
    },
    {
     "name": "stderr",
     "output_type": "stream",
     "text": [
      "Epoch [25/50]: 100%|██████████| 45/45 [00:02<00:00, 15.80it/s, accuracy=100, loss=0.173]\n"
     ]
    },
    {
     "name": "stdout",
     "output_type": "stream",
     "text": [
      "Epoch 25/50\n",
      "Train Loss: 0.1731, Train Acc: 100.00%\n",
      "Val Loss: 0.3163, Val Acc: 94.97%\n",
      "------------------------------------------------------------\n"
     ]
    },
    {
     "name": "stderr",
     "output_type": "stream",
     "text": [
      "Epoch [26/50]: 100%|██████████| 45/45 [00:02<00:00, 15.70it/s, accuracy=100, loss=0.173]\n"
     ]
    },
    {
     "name": "stdout",
     "output_type": "stream",
     "text": [
      "Epoch 26/50\n",
      "Train Loss: 0.1733, Train Acc: 100.00%\n",
      "Val Loss: 0.3020, Val Acc: 94.97%\n",
      "------------------------------------------------------------\n"
     ]
    },
    {
     "name": "stderr",
     "output_type": "stream",
     "text": [
      "Epoch [27/50]: 100%|██████████| 45/45 [00:02<00:00, 16.00it/s, accuracy=100, loss=0.172]\n"
     ]
    },
    {
     "name": "stdout",
     "output_type": "stream",
     "text": [
      "Epoch 27/50\n",
      "Train Loss: 0.1724, Train Acc: 100.00%\n",
      "Val Loss: 0.2892, Val Acc: 94.97%\n",
      "------------------------------------------------------------\n"
     ]
    },
    {
     "name": "stderr",
     "output_type": "stream",
     "text": [
      "Epoch [28/50]: 100%|██████████| 45/45 [00:02<00:00, 15.42it/s, accuracy=100, loss=0.173]\n"
     ]
    },
    {
     "name": "stdout",
     "output_type": "stream",
     "text": [
      "Epoch 28/50\n",
      "Train Loss: 0.1725, Train Acc: 100.00%\n",
      "Val Loss: 0.2826, Val Acc: 95.53%\n",
      "------------------------------------------------------------\n"
     ]
    },
    {
     "name": "stderr",
     "output_type": "stream",
     "text": [
      "Epoch [29/50]: 100%|██████████| 45/45 [00:02<00:00, 15.72it/s, accuracy=99.8, loss=0.179]\n"
     ]
    },
    {
     "name": "stdout",
     "output_type": "stream",
     "text": [
      "Epoch 29/50\n",
      "Train Loss: 0.1786, Train Acc: 99.81%\n",
      "Val Loss: 0.2809, Val Acc: 95.53%\n",
      "------------------------------------------------------------\n"
     ]
    },
    {
     "name": "stderr",
     "output_type": "stream",
     "text": [
      "Epoch [30/50]: 100%|██████████| 45/45 [00:02<00:00, 16.33it/s, accuracy=100, loss=0.173]\n"
     ]
    },
    {
     "name": "stdout",
     "output_type": "stream",
     "text": [
      "Epoch 30/50\n",
      "Train Loss: 0.1732, Train Acc: 100.00%\n",
      "Val Loss: 0.2721, Val Acc: 96.09%\n",
      "------------------------------------------------------------\n"
     ]
    },
    {
     "name": "stderr",
     "output_type": "stream",
     "text": [
      "Epoch [31/50]: 100%|██████████| 45/45 [00:02<00:00, 15.71it/s, accuracy=100, loss=0.172]\n"
     ]
    },
    {
     "name": "stdout",
     "output_type": "stream",
     "text": [
      "Epoch 31/50\n",
      "Train Loss: 0.1722, Train Acc: 100.00%\n",
      "Val Loss: 0.2737, Val Acc: 96.09%\n",
      "------------------------------------------------------------\n"
     ]
    },
    {
     "name": "stderr",
     "output_type": "stream",
     "text": [
      "Epoch [32/50]: 100%|██████████| 45/45 [00:02<00:00, 15.56it/s, accuracy=99.6, loss=0.182]\n"
     ]
    },
    {
     "name": "stdout",
     "output_type": "stream",
     "text": [
      "Epoch 32/50\n",
      "Train Loss: 0.1824, Train Acc: 99.63%\n",
      "Val Loss: 0.2896, Val Acc: 96.09%\n",
      "------------------------------------------------------------\n"
     ]
    },
    {
     "name": "stderr",
     "output_type": "stream",
     "text": [
      "Epoch [33/50]: 100%|██████████| 45/45 [00:02<00:00, 16.25it/s, accuracy=99.8, loss=0.177]\n"
     ]
    },
    {
     "name": "stdout",
     "output_type": "stream",
     "text": [
      "Epoch 33/50\n",
      "Train Loss: 0.1770, Train Acc: 99.81%\n",
      "Val Loss: 0.2891, Val Acc: 96.09%\n",
      "------------------------------------------------------------\n"
     ]
    },
    {
     "name": "stderr",
     "output_type": "stream",
     "text": [
      "Epoch [34/50]: 100%|██████████| 45/45 [00:02<00:00, 15.96it/s, accuracy=99.8, loss=0.175]\n"
     ]
    },
    {
     "name": "stdout",
     "output_type": "stream",
     "text": [
      "Epoch 34/50\n",
      "Train Loss: 0.1754, Train Acc: 99.81%\n",
      "Val Loss: 0.2884, Val Acc: 94.97%\n",
      "------------------------------------------------------------\n"
     ]
    },
    {
     "name": "stderr",
     "output_type": "stream",
     "text": [
      "Epoch [35/50]: 100%|██████████| 45/45 [00:02<00:00, 15.77it/s, accuracy=100, loss=0.173]\n"
     ]
    },
    {
     "name": "stdout",
     "output_type": "stream",
     "text": [
      "Epoch 35/50\n",
      "Train Loss: 0.1725, Train Acc: 100.00%\n",
      "Val Loss: 0.2870, Val Acc: 94.97%\n",
      "------------------------------------------------------------\n"
     ]
    },
    {
     "name": "stderr",
     "output_type": "stream",
     "text": [
      "Epoch [36/50]: 100%|██████████| 45/45 [00:02<00:00, 15.96it/s, accuracy=100, loss=0.172]\n"
     ]
    },
    {
     "name": "stdout",
     "output_type": "stream",
     "text": [
      "Epoch 36/50\n",
      "Train Loss: 0.1723, Train Acc: 100.00%\n",
      "Val Loss: 0.2929, Val Acc: 94.41%\n",
      "------------------------------------------------------------\n"
     ]
    },
    {
     "name": "stderr",
     "output_type": "stream",
     "text": [
      "Epoch [37/50]: 100%|██████████| 45/45 [00:02<00:00, 16.27it/s, accuracy=100, loss=0.172]\n"
     ]
    },
    {
     "name": "stdout",
     "output_type": "stream",
     "text": [
      "Epoch 37/50\n",
      "Train Loss: 0.1722, Train Acc: 100.00%\n",
      "Val Loss: 0.2975, Val Acc: 94.41%\n",
      "------------------------------------------------------------\n"
     ]
    },
    {
     "name": "stderr",
     "output_type": "stream",
     "text": [
      "Epoch [38/50]: 100%|██████████| 45/45 [00:02<00:00, 15.61it/s, accuracy=100, loss=0.172]\n"
     ]
    },
    {
     "name": "stdout",
     "output_type": "stream",
     "text": [
      "Epoch 38/50\n",
      "Train Loss: 0.1720, Train Acc: 100.00%\n",
      "Val Loss: 0.3033, Val Acc: 94.41%\n",
      "------------------------------------------------------------\n"
     ]
    },
    {
     "name": "stderr",
     "output_type": "stream",
     "text": [
      "Epoch [39/50]: 100%|██████████| 45/45 [00:02<00:00, 15.95it/s, accuracy=100, loss=0.172]\n"
     ]
    },
    {
     "name": "stdout",
     "output_type": "stream",
     "text": [
      "Epoch 39/50\n",
      "Train Loss: 0.1719, Train Acc: 100.00%\n",
      "Val Loss: 0.3071, Val Acc: 94.41%\n",
      "------------------------------------------------------------\n"
     ]
    },
    {
     "name": "stderr",
     "output_type": "stream",
     "text": [
      "Epoch [40/50]: 100%|██████████| 45/45 [00:02<00:00, 15.81it/s, accuracy=100, loss=0.172]\n"
     ]
    },
    {
     "name": "stdout",
     "output_type": "stream",
     "text": [
      "Epoch 40/50\n",
      "Train Loss: 0.1725, Train Acc: 100.00%\n",
      "Val Loss: 0.3076, Val Acc: 94.41%\n",
      "------------------------------------------------------------\n"
     ]
    },
    {
     "name": "stderr",
     "output_type": "stream",
     "text": [
      "Epoch [41/50]: 100%|██████████| 45/45 [00:02<00:00, 15.57it/s, accuracy=100, loss=0.174]\n"
     ]
    },
    {
     "name": "stdout",
     "output_type": "stream",
     "text": [
      "Epoch 41/50\n",
      "Train Loss: 0.1738, Train Acc: 100.00%\n",
      "Val Loss: 0.3064, Val Acc: 94.97%\n",
      "------------------------------------------------------------\n"
     ]
    },
    {
     "name": "stderr",
     "output_type": "stream",
     "text": [
      "Epoch [42/50]: 100%|██████████| 45/45 [00:02<00:00, 15.37it/s, accuracy=100, loss=0.172]\n"
     ]
    },
    {
     "name": "stdout",
     "output_type": "stream",
     "text": [
      "Epoch 42/50\n",
      "Train Loss: 0.1722, Train Acc: 100.00%\n",
      "Val Loss: 0.3061, Val Acc: 94.97%\n",
      "------------------------------------------------------------\n"
     ]
    },
    {
     "name": "stderr",
     "output_type": "stream",
     "text": [
      "Epoch [43/50]: 100%|██████████| 45/45 [00:02<00:00, 15.55it/s, accuracy=100, loss=0.172]\n"
     ]
    },
    {
     "name": "stdout",
     "output_type": "stream",
     "text": [
      "Epoch 43/50\n",
      "Train Loss: 0.1720, Train Acc: 100.00%\n",
      "Val Loss: 0.3077, Val Acc: 94.97%\n",
      "------------------------------------------------------------\n"
     ]
    },
    {
     "name": "stderr",
     "output_type": "stream",
     "text": [
      "Epoch [44/50]: 100%|██████████| 45/45 [00:02<00:00, 15.77it/s, accuracy=99.8, loss=0.173]\n"
     ]
    },
    {
     "name": "stdout",
     "output_type": "stream",
     "text": [
      "Epoch 44/50\n",
      "Train Loss: 0.1732, Train Acc: 99.81%\n",
      "Val Loss: 0.3054, Val Acc: 94.97%\n",
      "------------------------------------------------------------\n"
     ]
    },
    {
     "name": "stderr",
     "output_type": "stream",
     "text": [
      "Epoch [45/50]: 100%|██████████| 45/45 [00:02<00:00, 15.53it/s, accuracy=100, loss=0.172]\n"
     ]
    },
    {
     "name": "stdout",
     "output_type": "stream",
     "text": [
      "Epoch 45/50\n",
      "Train Loss: 0.1716, Train Acc: 100.00%\n",
      "Val Loss: 0.3019, Val Acc: 94.97%\n",
      "------------------------------------------------------------\n"
     ]
    },
    {
     "name": "stderr",
     "output_type": "stream",
     "text": [
      "Epoch [46/50]: 100%|██████████| 45/45 [00:02<00:00, 15.96it/s, accuracy=100, loss=0.172]\n"
     ]
    },
    {
     "name": "stdout",
     "output_type": "stream",
     "text": [
      "Epoch 46/50\n",
      "Train Loss: 0.1716, Train Acc: 100.00%\n",
      "Val Loss: 0.2994, Val Acc: 94.97%\n",
      "------------------------------------------------------------\n"
     ]
    },
    {
     "name": "stderr",
     "output_type": "stream",
     "text": [
      "Epoch [47/50]: 100%|██████████| 45/45 [00:02<00:00, 15.81it/s, accuracy=100, loss=0.172]\n"
     ]
    },
    {
     "name": "stdout",
     "output_type": "stream",
     "text": [
      "Epoch 47/50\n",
      "Train Loss: 0.1718, Train Acc: 100.00%\n",
      "Val Loss: 0.2984, Val Acc: 95.53%\n",
      "------------------------------------------------------------\n"
     ]
    },
    {
     "name": "stderr",
     "output_type": "stream",
     "text": [
      "Epoch [48/50]: 100%|██████████| 45/45 [00:02<00:00, 15.63it/s, accuracy=100, loss=0.171]\n"
     ]
    },
    {
     "name": "stdout",
     "output_type": "stream",
     "text": [
      "Epoch 48/50\n",
      "Train Loss: 0.1714, Train Acc: 100.00%\n",
      "Val Loss: 0.2978, Val Acc: 95.53%\n",
      "------------------------------------------------------------\n"
     ]
    },
    {
     "name": "stderr",
     "output_type": "stream",
     "text": [
      "Epoch [49/50]: 100%|██████████| 45/45 [00:02<00:00, 15.83it/s, accuracy=100, loss=0.172]\n"
     ]
    },
    {
     "name": "stdout",
     "output_type": "stream",
     "text": [
      "Epoch 49/50\n",
      "Train Loss: 0.1721, Train Acc: 100.00%\n",
      "Val Loss: 0.2975, Val Acc: 95.53%\n",
      "------------------------------------------------------------\n"
     ]
    },
    {
     "name": "stderr",
     "output_type": "stream",
     "text": [
      "Epoch [50/50]: 100%|██████████| 45/45 [00:02<00:00, 15.86it/s, accuracy=100, loss=0.172]\n"
     ]
    },
    {
     "name": "stdout",
     "output_type": "stream",
     "text": [
      "Epoch 50/50\n",
      "Train Loss: 0.1717, Train Acc: 100.00%\n",
      "Val Loss: 0.2972, Val Acc: 95.53%\n",
      "------------------------------------------------------------\n",
      "Finished Training\n"
     ]
    }
   ],
   "source": [
    "print(\"Starting training...\")\n",
    "#model_.load_state_dict(torch.load(\"best_model.pth\"))\n",
    "trained_model, train_losses, train_accuracies, val_losses, val_accuracies = train(\n",
    "    model_, trainloader, valloader, epochs=50)"
   ]
  },
  {
   "cell_type": "code",
   "execution_count": 10,
   "id": "fc6e1565",
   "metadata": {},
   "outputs": [
    {
     "data": {
      "text/plain": [
       "SwinTransformer(\n",
       "  (patch_embed): PatchEmbed(\n",
       "    (proj): Conv2d(3, 96, kernel_size=(4, 4), stride=(4, 4))\n",
       "    (norm): LayerNorm((96,), eps=1e-05, elementwise_affine=True)\n",
       "  )\n",
       "  (layers): Sequential(\n",
       "    (0): SwinTransformerStage(\n",
       "      (downsample): Identity()\n",
       "      (blocks): Sequential(\n",
       "        (0): SwinTransformerBlock(\n",
       "          (norm1): LayerNorm((96,), eps=1e-05, elementwise_affine=True)\n",
       "          (attn): WindowAttention(\n",
       "            (qkv): Linear(in_features=96, out_features=288, bias=True)\n",
       "            (attn_drop): Dropout(p=0.0, inplace=False)\n",
       "            (proj): Linear(in_features=96, out_features=96, bias=True)\n",
       "            (proj_drop): Dropout(p=0.0, inplace=False)\n",
       "            (softmax): Softmax(dim=-1)\n",
       "          )\n",
       "          (drop_path1): Identity()\n",
       "          (norm2): LayerNorm((96,), eps=1e-05, elementwise_affine=True)\n",
       "          (mlp): Mlp(\n",
       "            (fc1): Linear(in_features=96, out_features=384, bias=True)\n",
       "            (act): GELU(approximate='none')\n",
       "            (drop1): Dropout(p=0.0, inplace=False)\n",
       "            (norm): Identity()\n",
       "            (fc2): Linear(in_features=384, out_features=96, bias=True)\n",
       "            (drop2): Dropout(p=0.0, inplace=False)\n",
       "          )\n",
       "          (drop_path2): Identity()\n",
       "        )\n",
       "        (1): SwinTransformerBlock(\n",
       "          (norm1): LayerNorm((96,), eps=1e-05, elementwise_affine=True)\n",
       "          (attn): WindowAttention(\n",
       "            (qkv): Linear(in_features=96, out_features=288, bias=True)\n",
       "            (attn_drop): Dropout(p=0.0, inplace=False)\n",
       "            (proj): Linear(in_features=96, out_features=96, bias=True)\n",
       "            (proj_drop): Dropout(p=0.0, inplace=False)\n",
       "            (softmax): Softmax(dim=-1)\n",
       "          )\n",
       "          (drop_path1): DropPath(drop_prob=0.009)\n",
       "          (norm2): LayerNorm((96,), eps=1e-05, elementwise_affine=True)\n",
       "          (mlp): Mlp(\n",
       "            (fc1): Linear(in_features=96, out_features=384, bias=True)\n",
       "            (act): GELU(approximate='none')\n",
       "            (drop1): Dropout(p=0.0, inplace=False)\n",
       "            (norm): Identity()\n",
       "            (fc2): Linear(in_features=384, out_features=96, bias=True)\n",
       "            (drop2): Dropout(p=0.0, inplace=False)\n",
       "          )\n",
       "          (drop_path2): DropPath(drop_prob=0.009)\n",
       "        )\n",
       "      )\n",
       "    )\n",
       "    (1): SwinTransformerStage(\n",
       "      (downsample): PatchMerging(\n",
       "        (norm): LayerNorm((384,), eps=1e-05, elementwise_affine=True)\n",
       "        (reduction): Linear(in_features=384, out_features=192, bias=False)\n",
       "      )\n",
       "      (blocks): Sequential(\n",
       "        (0): SwinTransformerBlock(\n",
       "          (norm1): LayerNorm((192,), eps=1e-05, elementwise_affine=True)\n",
       "          (attn): WindowAttention(\n",
       "            (qkv): Linear(in_features=192, out_features=576, bias=True)\n",
       "            (attn_drop): Dropout(p=0.0, inplace=False)\n",
       "            (proj): Linear(in_features=192, out_features=192, bias=True)\n",
       "            (proj_drop): Dropout(p=0.0, inplace=False)\n",
       "            (softmax): Softmax(dim=-1)\n",
       "          )\n",
       "          (drop_path1): DropPath(drop_prob=0.018)\n",
       "          (norm2): LayerNorm((192,), eps=1e-05, elementwise_affine=True)\n",
       "          (mlp): Mlp(\n",
       "            (fc1): Linear(in_features=192, out_features=768, bias=True)\n",
       "            (act): GELU(approximate='none')\n",
       "            (drop1): Dropout(p=0.0, inplace=False)\n",
       "            (norm): Identity()\n",
       "            (fc2): Linear(in_features=768, out_features=192, bias=True)\n",
       "            (drop2): Dropout(p=0.0, inplace=False)\n",
       "          )\n",
       "          (drop_path2): DropPath(drop_prob=0.018)\n",
       "        )\n",
       "        (1): SwinTransformerBlock(\n",
       "          (norm1): LayerNorm((192,), eps=1e-05, elementwise_affine=True)\n",
       "          (attn): WindowAttention(\n",
       "            (qkv): Linear(in_features=192, out_features=576, bias=True)\n",
       "            (attn_drop): Dropout(p=0.0, inplace=False)\n",
       "            (proj): Linear(in_features=192, out_features=192, bias=True)\n",
       "            (proj_drop): Dropout(p=0.0, inplace=False)\n",
       "            (softmax): Softmax(dim=-1)\n",
       "          )\n",
       "          (drop_path1): DropPath(drop_prob=0.027)\n",
       "          (norm2): LayerNorm((192,), eps=1e-05, elementwise_affine=True)\n",
       "          (mlp): Mlp(\n",
       "            (fc1): Linear(in_features=192, out_features=768, bias=True)\n",
       "            (act): GELU(approximate='none')\n",
       "            (drop1): Dropout(p=0.0, inplace=False)\n",
       "            (norm): Identity()\n",
       "            (fc2): Linear(in_features=768, out_features=192, bias=True)\n",
       "            (drop2): Dropout(p=0.0, inplace=False)\n",
       "          )\n",
       "          (drop_path2): DropPath(drop_prob=0.027)\n",
       "        )\n",
       "      )\n",
       "    )\n",
       "    (2): SwinTransformerStage(\n",
       "      (downsample): PatchMerging(\n",
       "        (norm): LayerNorm((768,), eps=1e-05, elementwise_affine=True)\n",
       "        (reduction): Linear(in_features=768, out_features=384, bias=False)\n",
       "      )\n",
       "      (blocks): Sequential(\n",
       "        (0): SwinTransformerBlock(\n",
       "          (norm1): LayerNorm((384,), eps=1e-05, elementwise_affine=True)\n",
       "          (attn): WindowAttention(\n",
       "            (qkv): Linear(in_features=384, out_features=1152, bias=True)\n",
       "            (attn_drop): Dropout(p=0.0, inplace=False)\n",
       "            (proj): Linear(in_features=384, out_features=384, bias=True)\n",
       "            (proj_drop): Dropout(p=0.0, inplace=False)\n",
       "            (softmax): Softmax(dim=-1)\n",
       "          )\n",
       "          (drop_path1): DropPath(drop_prob=0.036)\n",
       "          (norm2): LayerNorm((384,), eps=1e-05, elementwise_affine=True)\n",
       "          (mlp): Mlp(\n",
       "            (fc1): Linear(in_features=384, out_features=1536, bias=True)\n",
       "            (act): GELU(approximate='none')\n",
       "            (drop1): Dropout(p=0.0, inplace=False)\n",
       "            (norm): Identity()\n",
       "            (fc2): Linear(in_features=1536, out_features=384, bias=True)\n",
       "            (drop2): Dropout(p=0.0, inplace=False)\n",
       "          )\n",
       "          (drop_path2): DropPath(drop_prob=0.036)\n",
       "        )\n",
       "        (1): SwinTransformerBlock(\n",
       "          (norm1): LayerNorm((384,), eps=1e-05, elementwise_affine=True)\n",
       "          (attn): WindowAttention(\n",
       "            (qkv): Linear(in_features=384, out_features=1152, bias=True)\n",
       "            (attn_drop): Dropout(p=0.0, inplace=False)\n",
       "            (proj): Linear(in_features=384, out_features=384, bias=True)\n",
       "            (proj_drop): Dropout(p=0.0, inplace=False)\n",
       "            (softmax): Softmax(dim=-1)\n",
       "          )\n",
       "          (drop_path1): DropPath(drop_prob=0.045)\n",
       "          (norm2): LayerNorm((384,), eps=1e-05, elementwise_affine=True)\n",
       "          (mlp): Mlp(\n",
       "            (fc1): Linear(in_features=384, out_features=1536, bias=True)\n",
       "            (act): GELU(approximate='none')\n",
       "            (drop1): Dropout(p=0.0, inplace=False)\n",
       "            (norm): Identity()\n",
       "            (fc2): Linear(in_features=1536, out_features=384, bias=True)\n",
       "            (drop2): Dropout(p=0.0, inplace=False)\n",
       "          )\n",
       "          (drop_path2): DropPath(drop_prob=0.045)\n",
       "        )\n",
       "        (2): SwinTransformerBlock(\n",
       "          (norm1): LayerNorm((384,), eps=1e-05, elementwise_affine=True)\n",
       "          (attn): WindowAttention(\n",
       "            (qkv): Linear(in_features=384, out_features=1152, bias=True)\n",
       "            (attn_drop): Dropout(p=0.0, inplace=False)\n",
       "            (proj): Linear(in_features=384, out_features=384, bias=True)\n",
       "            (proj_drop): Dropout(p=0.0, inplace=False)\n",
       "            (softmax): Softmax(dim=-1)\n",
       "          )\n",
       "          (drop_path1): DropPath(drop_prob=0.055)\n",
       "          (norm2): LayerNorm((384,), eps=1e-05, elementwise_affine=True)\n",
       "          (mlp): Mlp(\n",
       "            (fc1): Linear(in_features=384, out_features=1536, bias=True)\n",
       "            (act): GELU(approximate='none')\n",
       "            (drop1): Dropout(p=0.0, inplace=False)\n",
       "            (norm): Identity()\n",
       "            (fc2): Linear(in_features=1536, out_features=384, bias=True)\n",
       "            (drop2): Dropout(p=0.0, inplace=False)\n",
       "          )\n",
       "          (drop_path2): DropPath(drop_prob=0.055)\n",
       "        )\n",
       "        (3): SwinTransformerBlock(\n",
       "          (norm1): LayerNorm((384,), eps=1e-05, elementwise_affine=True)\n",
       "          (attn): WindowAttention(\n",
       "            (qkv): Linear(in_features=384, out_features=1152, bias=True)\n",
       "            (attn_drop): Dropout(p=0.0, inplace=False)\n",
       "            (proj): Linear(in_features=384, out_features=384, bias=True)\n",
       "            (proj_drop): Dropout(p=0.0, inplace=False)\n",
       "            (softmax): Softmax(dim=-1)\n",
       "          )\n",
       "          (drop_path1): DropPath(drop_prob=0.064)\n",
       "          (norm2): LayerNorm((384,), eps=1e-05, elementwise_affine=True)\n",
       "          (mlp): Mlp(\n",
       "            (fc1): Linear(in_features=384, out_features=1536, bias=True)\n",
       "            (act): GELU(approximate='none')\n",
       "            (drop1): Dropout(p=0.0, inplace=False)\n",
       "            (norm): Identity()\n",
       "            (fc2): Linear(in_features=1536, out_features=384, bias=True)\n",
       "            (drop2): Dropout(p=0.0, inplace=False)\n",
       "          )\n",
       "          (drop_path2): DropPath(drop_prob=0.064)\n",
       "        )\n",
       "        (4): SwinTransformerBlock(\n",
       "          (norm1): LayerNorm((384,), eps=1e-05, elementwise_affine=True)\n",
       "          (attn): WindowAttention(\n",
       "            (qkv): Linear(in_features=384, out_features=1152, bias=True)\n",
       "            (attn_drop): Dropout(p=0.0, inplace=False)\n",
       "            (proj): Linear(in_features=384, out_features=384, bias=True)\n",
       "            (proj_drop): Dropout(p=0.0, inplace=False)\n",
       "            (softmax): Softmax(dim=-1)\n",
       "          )\n",
       "          (drop_path1): DropPath(drop_prob=0.073)\n",
       "          (norm2): LayerNorm((384,), eps=1e-05, elementwise_affine=True)\n",
       "          (mlp): Mlp(\n",
       "            (fc1): Linear(in_features=384, out_features=1536, bias=True)\n",
       "            (act): GELU(approximate='none')\n",
       "            (drop1): Dropout(p=0.0, inplace=False)\n",
       "            (norm): Identity()\n",
       "            (fc2): Linear(in_features=1536, out_features=384, bias=True)\n",
       "            (drop2): Dropout(p=0.0, inplace=False)\n",
       "          )\n",
       "          (drop_path2): DropPath(drop_prob=0.073)\n",
       "        )\n",
       "        (5): SwinTransformerBlock(\n",
       "          (norm1): LayerNorm((384,), eps=1e-05, elementwise_affine=True)\n",
       "          (attn): WindowAttention(\n",
       "            (qkv): Linear(in_features=384, out_features=1152, bias=True)\n",
       "            (attn_drop): Dropout(p=0.0, inplace=False)\n",
       "            (proj): Linear(in_features=384, out_features=384, bias=True)\n",
       "            (proj_drop): Dropout(p=0.0, inplace=False)\n",
       "            (softmax): Softmax(dim=-1)\n",
       "          )\n",
       "          (drop_path1): DropPath(drop_prob=0.082)\n",
       "          (norm2): LayerNorm((384,), eps=1e-05, elementwise_affine=True)\n",
       "          (mlp): Mlp(\n",
       "            (fc1): Linear(in_features=384, out_features=1536, bias=True)\n",
       "            (act): GELU(approximate='none')\n",
       "            (drop1): Dropout(p=0.0, inplace=False)\n",
       "            (norm): Identity()\n",
       "            (fc2): Linear(in_features=1536, out_features=384, bias=True)\n",
       "            (drop2): Dropout(p=0.0, inplace=False)\n",
       "          )\n",
       "          (drop_path2): DropPath(drop_prob=0.082)\n",
       "        )\n",
       "      )\n",
       "    )\n",
       "    (3): SwinTransformerStage(\n",
       "      (downsample): PatchMerging(\n",
       "        (norm): LayerNorm((1536,), eps=1e-05, elementwise_affine=True)\n",
       "        (reduction): Linear(in_features=1536, out_features=768, bias=False)\n",
       "      )\n",
       "      (blocks): Sequential(\n",
       "        (0): SwinTransformerBlock(\n",
       "          (norm1): LayerNorm((768,), eps=1e-05, elementwise_affine=True)\n",
       "          (attn): WindowAttention(\n",
       "            (qkv): Linear(in_features=768, out_features=2304, bias=True)\n",
       "            (attn_drop): Dropout(p=0.0, inplace=False)\n",
       "            (proj): Linear(in_features=768, out_features=768, bias=True)\n",
       "            (proj_drop): Dropout(p=0.0, inplace=False)\n",
       "            (softmax): Softmax(dim=-1)\n",
       "          )\n",
       "          (drop_path1): DropPath(drop_prob=0.091)\n",
       "          (norm2): LayerNorm((768,), eps=1e-05, elementwise_affine=True)\n",
       "          (mlp): Mlp(\n",
       "            (fc1): Linear(in_features=768, out_features=3072, bias=True)\n",
       "            (act): GELU(approximate='none')\n",
       "            (drop1): Dropout(p=0.0, inplace=False)\n",
       "            (norm): Identity()\n",
       "            (fc2): Linear(in_features=3072, out_features=768, bias=True)\n",
       "            (drop2): Dropout(p=0.0, inplace=False)\n",
       "          )\n",
       "          (drop_path2): DropPath(drop_prob=0.091)\n",
       "        )\n",
       "        (1): SwinTransformerBlock(\n",
       "          (norm1): LayerNorm((768,), eps=1e-05, elementwise_affine=True)\n",
       "          (attn): WindowAttention(\n",
       "            (qkv): Linear(in_features=768, out_features=2304, bias=True)\n",
       "            (attn_drop): Dropout(p=0.0, inplace=False)\n",
       "            (proj): Linear(in_features=768, out_features=768, bias=True)\n",
       "            (proj_drop): Dropout(p=0.0, inplace=False)\n",
       "            (softmax): Softmax(dim=-1)\n",
       "          )\n",
       "          (drop_path1): DropPath(drop_prob=0.100)\n",
       "          (norm2): LayerNorm((768,), eps=1e-05, elementwise_affine=True)\n",
       "          (mlp): Mlp(\n",
       "            (fc1): Linear(in_features=768, out_features=3072, bias=True)\n",
       "            (act): GELU(approximate='none')\n",
       "            (drop1): Dropout(p=0.0, inplace=False)\n",
       "            (norm): Identity()\n",
       "            (fc2): Linear(in_features=3072, out_features=768, bias=True)\n",
       "            (drop2): Dropout(p=0.0, inplace=False)\n",
       "          )\n",
       "          (drop_path2): DropPath(drop_prob=0.100)\n",
       "        )\n",
       "      )\n",
       "    )\n",
       "  )\n",
       "  (norm): LayerNorm((768,), eps=1e-05, elementwise_affine=True)\n",
       "  (head): ClassifierHead(\n",
       "    (global_pool): SelectAdaptivePool2d(pool_type=avg, flatten=Identity())\n",
       "    (drop): Dropout(p=0.0, inplace=False)\n",
       "    (fc): Linear(in_features=768, out_features=3, bias=True)\n",
       "    (flatten): Identity()\n",
       "  )\n",
       ")"
      ]
     },
     "execution_count": 10,
     "metadata": {},
     "output_type": "execute_result"
    }
   ],
   "source": [
    "#best_model = ResNet().to(device)\n",
    "best_model = create_model('swin_tiny_patch4_window7_224', pretrained=False, num_classes=3)\n",
    "best_model.to(device)\n",
    "best_model.load_state_dict(torch.load(\"best_model.pth\"))\n",
    "best_model.eval()"
   ]
  },
  {
   "cell_type": "code",
   "execution_count": 11,
   "id": "79552359",
   "metadata": {},
   "outputs": [
    {
     "name": "stdout",
     "output_type": "stream",
     "text": [
      "Starting evaluating...\n"
     ]
    },
    {
     "name": "stderr",
     "output_type": "stream",
     "text": [
      "Evaluating: 100%|██████████| 23/23 [00:00<00:00, 50.22it/s]"
     ]
    },
    {
     "name": "stdout",
     "output_type": "stream",
     "text": [
      "Overall Accuracy: 97.21%\n"
     ]
    },
    {
     "name": "stderr",
     "output_type": "stream",
     "text": [
      "\n"
     ]
    }
   ],
   "source": [
    "print(\"Starting evaluating...\")\n",
    "class_correct, class_total, confusion_matrix = evaluate(best_model, valloader)"
   ]
  },
  {
   "cell_type": "code",
   "execution_count": 12,
   "id": "a22538dd",
   "metadata": {},
   "outputs": [
    {
     "data": {
      "image/png": "[encoded data removed]",
      "text/plain": [
       "<Figure size 1500x500 with 2 Axes>"
      ]
     },
     "metadata": {},
     "output_type": "display_data"
    },
    {
     "name": "stdout",
     "output_type": "stream",
     "text": [
      "Training metrics plot saved as 'training_metrics.png'\n",
      "\n",
      "Per-class Accuracy:\n",
      "--------------------------------------------------\n",
      "Class A: 97.53% (79/81)\n",
      "Class B: 100.00% (38/38)\n",
      "Class C: 95.00% (57/60)\n"
     ]
    },
    {
     "data": {
      "image/png": "[encoded data removed]",
      "text/plain": [
       "<Figure size 1200x600 with 1 Axes>"
      ]
     },
     "metadata": {},
     "output_type": "display_data"
    },
    {
     "data": {
      "image/png": "[encoded data removed]",
      "text/plain": [
       "<Figure size 1000x800 with 2 Axes>"
      ]
     },
     "metadata": {},
     "output_type": "display_data"
    }
   ],
   "source": [
    "def plot_training_metrics(train_losses, train_accuracies, val_losses, val_accuracies):\n",
    "\n",
    "    epochs = range(1, len(train_losses) + 1)\n",
    "    \n",
    "    fig, (ax1, ax2) = plt.subplots(1, 2, figsize=(15, 5))\n",
    "\n",
    "    ax1.plot(epochs, train_losses, 'b-', label='Training Loss')\n",
    "    ax1.plot(epochs, val_losses, 'r-', label='Validation Loss')\n",
    "    ax1.set_title('Training and Validation Loss')\n",
    "    ax1.set_xlabel('Epochs')\n",
    "    ax1.set_ylabel('Loss')\n",
    "    ax1.legend()\n",
    "    ax1.grid(True)\n",
    "    \n",
    "    ax2.plot(epochs, train_accuracies, 'b-', label='Training Accuracy')\n",
    "    ax2.plot(epochs, val_accuracies, 'r-', label='Validation Accuracy')\n",
    "    ax2.set_title('Training and Validation Accuracy')\n",
    "    ax2.set_xlabel('Epochs')\n",
    "    ax2.set_ylabel('Accuracy (%)')\n",
    "    ax2.legend()\n",
    "    ax2.grid(True)\n",
    "    \n",
    "    plt.tight_layout()\n",
    "    plt.show()\n",
    "    \n",
    "    fig.savefig('training_metrics.png')\n",
    "    print(\"Training metrics plot saved as 'training_metrics.png'\")\n",
    "    return\n",
    "def plot_evaluation_metrics(class_correct, class_total, confusion_matrix):\n",
    "\n",
    "    num_classes = len(classes)\n",
    "    \n",
    "    # Calculate accuracies and identify valid classes\n",
    "    accuracies = []\n",
    "    valid_classes = []\n",
    "    \n",
    "    print(\"\\nPer-class Accuracy:\")\n",
    "    print(\"-\" * 50)\n",
    "    for i in range(num_classes):\n",
    "        if class_total[i] > 0:  # Avoid division by zero\n",
    "            accuracy = 100 * class_correct[i] / class_total[i]\n",
    "            print(f'{classes[i]}: {accuracy:.2f}% ({int(class_correct[i])}/{int(class_total[i])})')\n",
    "            accuracies.append(accuracy)\n",
    "            valid_classes.append(classes[i])\n",
    "        else:\n",
    "            print(f'{classes[i]}: No samples')\n",
    "    \n",
    "    # Plot per-class accuracy as a bar chart\n",
    "    plt.figure(figsize=(12, 6))\n",
    "    plt.bar(valid_classes, accuracies, color='skyblue')\n",
    "    plt.xlabel('Classes')\n",
    "    plt.ylabel('Accuracy (%)')\n",
    "    plt.title('Per-class Accuracy')\n",
    "    plt.xticks(rotation=45, ha='right')\n",
    "    plt.tight_layout()\n",
    "    plt.savefig('per_class_accuracy.png')\n",
    "    plt.show()\n",
    "    \n",
    "    # Normalize confusion matrix by row (true labels) and plot\n",
    "    normalized_confusion_matrix = confusion_matrix.clone()  # Create a copy to avoid modifying the original\n",
    "    for i in range(num_classes):\n",
    "        if normalized_confusion_matrix[i].sum() > 0:\n",
    "            normalized_confusion_matrix[i] = normalized_confusion_matrix[i] / normalized_confusion_matrix[i].sum()\n",
    "    \n",
    "    # Plot confusion matrix\n",
    "    plt.figure(figsize=(10, 8))\n",
    "    plt.imshow(normalized_confusion_matrix.cpu().numpy(), interpolation='nearest', cmap=plt.cm.Blues)\n",
    "    plt.title('Normalized Confusion Matrix')\n",
    "    plt.colorbar()\n",
    "    tick_marks = np.arange(num_classes)\n",
    "    plt.xticks(tick_marks, classes, rotation=45, ha='right')\n",
    "    plt.yticks(tick_marks, classes)\n",
    "   \n",
    "    thresh = normalized_confusion_matrix.cpu().numpy().max() / 2.0\n",
    "    for i in range(num_classes):\n",
    "        for j in range(num_classes):\n",
    "            plt.text(j, i, f'{normalized_confusion_matrix[i, j]:.2f}',\n",
    "                     horizontalalignment=\"center\",\n",
    "                     color=\"white\" if normalized_confusion_matrix[i, j] > thresh else \"black\")\n",
    "    \n",
    "    plt.tight_layout()\n",
    "    plt.ylabel('True label')\n",
    "    plt.xlabel('Predicted label')\n",
    "    plt.savefig('confusion_matrix.png')\n",
    "    plt.show()\n",
    "    \n",
    "    return\n",
    "plot_training_metrics(train_losses, train_accuracies, val_losses, val_accuracies)\n",
    "plot_evaluation_metrics(class_correct, class_total, confusion_matrix)"
   ]
  },
  {
   "cell_type": "code",
   "execution_count": 13,
   "id": "39a77b70",
   "metadata": {},
   "outputs": [
    {
     "name": "stdout",
     "output_type": "stream",
     "text": [
      "Model saved successfully!\n"
     ]
    }
   ],
   "source": [
    "Save_Model()"
   ]
  },
  {
   "cell_type": "code",
   "execution_count": 14,
   "id": "395a70ca",
   "metadata": {},
   "outputs": [],
   "source": [
    "label_mapping = {\n",
    "    0: \"A\",\n",
    "    1: \"B\",\n",
    "    2: \"C\"}"
   ]
  },
  {
   "cell_type": "code",
   "execution_count": 15,
   "id": "66e9a974",
   "metadata": {},
   "outputs": [
    {
     "name": "stdout",
     "output_type": "stream",
     "text": [
      "Loaded CSV with 152 entries\n"
     ]
    },
    {
     "name": "stderr",
     "output_type": "stream",
     "text": [
      "100%|██████████| 152/152 [00:01<00:00, 88.21it/s] "
     ]
    },
    {
     "name": "stdout",
     "output_type": "stream",
     "text": [
      "Updated CSV saved to submission_example.csv\n"
     ]
    },
    {
     "name": "stderr",
     "output_type": "stream",
     "text": [
      "\n"
     ]
    }
   ],
   "source": [
    "import os\n",
    "# Change this part to your path\n",
    "test_folder_path=\"/home/NAS/homes/chlunchen-10030/DeepLearning_assignment/competition1/column-classify/dataset_column/test\"        \n",
    "csv_file_path=\"submission_example.csv\"\n",
    "model_path=\"best_model.pth\"\n",
    "file_extension=\".jpg\" \n",
    "        \n",
    "# Load CSV file\n",
    "df = pd.read_csv(csv_file_path)\n",
    "print(f\"Loaded CSV with {len(df)} entries\")\n",
    "\n",
    "# Get column names\n",
    "columns = df.columns.tolist()\n",
    "first_col = columns[0]  # Image name column\n",
    "second_col = columns[1]  # Empty column for predictions\n",
    "\n",
    "# Load model\n",
    "'''model_final = ResNet().to(device)  \n",
    "model_final.load_state_dict(torch.load(model_path, map_location=device))\n",
    "model_final.eval()'''\n",
    "model_final = create_model('swin_tiny_patch4_window7_224', pretrained=False, num_classes=3)\n",
    "model_final.to(device)\n",
    "model_final.load_state_dict(torch.load(model_path, map_location=device))\n",
    "model_final.eval()\n",
    "\n",
    "# Set up transformation (same as we set up earlier in the dataloaidng part, put I put here again for clarity)\n",
    "transform = transforms.Compose([\n",
    "    transforms.Resize([224, 224]),  \n",
    "    transforms.ToTensor(),\n",
    "    transforms.Normalize(mean=[0.485, 0.456, 0.406], std=[0.229, 0.224, 0.225]),\n",
    "])\n",
    "\n",
    "\n",
    "for idx, row in tqdm(df.iterrows(), total=len(df)):\n",
    "    try:\n",
    "        img_name = str(row[first_col]).strip()\n",
    "        \n",
    "        img_path = os.path.join(test_folder_path, img_name + file_extension)\n",
    "               \n",
    "        # Process the image\n",
    "        img = Image.open(img_path).convert('RGB')\n",
    "        img_tensor = transform(img).unsqueeze(0).to(device)\n",
    "\n",
    "         \n",
    "        # Predict\n",
    "        with torch.no_grad():\n",
    "            output = model_final(img_tensor)\n",
    "            _, predicted = torch.max(output.data, 1)\n",
    "            predicted_idx = predicted.item()\n",
    "            mapped_label = label_mapping[predicted_idx]\n",
    "        df.at[idx, second_col] = mapped_label\n",
    "    except Exception as e:\n",
    "        print(f\"Error with image {img_name}: {e}\")\n",
    "\n",
    "# Save updated CSV\n",
    "df.to_csv(csv_file_path, index=False)\n",
    "print(f\"Updated CSV saved to {csv_file_path}\")\n"
   ]
  }
 ],
 "metadata": {
  "kernelspec": {
   "display_name": "myenv",
   "language": "python",
   "name": "python3"
  },
  "language_info": {
   "codemirror_mode": {
    "name": "ipython",
    "version": 3
   },
   "file_extension": ".py",
   "mimetype": "text/x-python",
   "name": "python",
   "nbconvert_exporter": "python",
   "pygments_lexer": "ipython3",
   "version": "3.9.21"
  }
 },
 "nbformat": 4,
 "nbformat_minor": 5
}
