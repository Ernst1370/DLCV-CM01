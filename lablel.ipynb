{
 "cells": [
  {
   "cell_type": "code",
   "execution_count": 5,
   "id": "7cfa0863",
   "metadata": {},
   "outputs": [
    {
     "name": "stdout",
     "output_type": "stream",
     "text": [
      "✅ 已成功建立 labels.csv，包含以下類別欄位：\n",
      "['Diagonal', 'Horizontal', 'Horizontal_large', 'Rebar', 'Small crack', 'Vertical', 'Vertical_large', 'Web', 'X-shape']\n"
     ]
    }
   ],
   "source": [
    "import os\n",
    "import pandas as pd\n",
    "from collections import defaultdict\n",
    "\n",
    "# 設定你的訓練資料夾路徑\n",
    "train_dir = \"/home/NAS/homes/chlunchen-10030/DeepLearning_assignment/competition2/column-train\"\n",
    "\n",
    "# 建立圖片對應類別的字典\n",
    "image_labels = defaultdict(set)\n",
    "\n",
    "# 掃描每個類別資料夾\n",
    "for class_name in os.listdir(train_dir):\n",
    "    class_path = os.path.join(train_dir, class_name)\n",
    "    if not os.path.isdir(class_path):\n",
    "        continue\n",
    "    for fname in os.listdir(class_path):\n",
    "        if fname.lower().endswith(('.jpg', '.png', '.jpeg')):\n",
    "            image_labels[fname].add(class_name)\n",
    "\n",
    "# 獲取所有類別名稱（排序確保一致性）\n",
    "all_classes = sorted({cls for labels in image_labels.values() for cls in labels})\n",
    "\n",
    "# 建立 one-hot dataframe\n",
    "rows = []\n",
    "for fname, labels in image_labels.items():\n",
    "    row = {'filename': fname}\n",
    "    for cls in all_classes:\n",
    "        row[cls] = int(cls in labels)\n",
    "    rows.append(row)\n",
    "\n",
    "# 產生 DataFrame 並儲存\n",
    "labels_df = pd.DataFrame(rows)\n",
    "labels_df = labels_df[['filename'] + all_classes]  # 調整欄位順序\n",
    "labels_df.to_csv(\"labels.csv\", index=False)\n",
    "\n",
    "print(\"✅ 已成功建立 labels.csv，包含以下類別欄位：\")\n",
    "print(all_classes)"
   ]
  }
 ],
 "metadata": {
  "kernelspec": {
   "display_name": "myenv",
   "language": "python",
   "name": "python3"
  },
  "language_info": {
   "codemirror_mode": {
    "name": "ipython",
    "version": 3
   },
   "file_extension": ".py",
   "mimetype": "text/x-python",
   "name": "python",
   "nbconvert_exporter": "python",
   "pygments_lexer": "ipython3",
   "version": "3.9.21"
  }
 },
 "nbformat": 4,
 "nbformat_minor": 5
}
