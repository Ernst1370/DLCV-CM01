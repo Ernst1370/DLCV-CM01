{
  "cells": [
    {
      "cell_type": "markdown",
      "metadata": {
        "id": "TeXJOgV7v6gp"
      },
      "source": [
        "Import necessary modules"
      ]
    },
    {
      "cell_type": "code",
      "source": [
        "from google.colab import drive\n",
        "drive.mount('/content/drive')"
      ],
      "metadata": {
        "colab": {
          "base_uri": "https://localhost:8080/"
        },
        "id": "RCczppb8wRsI",
        "outputId": "e5127343-301e-49b5-f7c9-b5d205261f3f"
      },
      "execution_count": 1,
      "outputs": [
        {
          "output_type": "stream",
          "name": "stdout",
          "text": [
            "Mounted at /content/drive\n"
          ]
        }
      ]
    },
    {
      "cell_type": "code",
      "execution_count": 2,
      "metadata": {
        "id": "3DDdp5Bjv6gr"
      },
      "outputs": [],
      "source": [
        "from torchvision import datasets, transforms\n",
        "from torch.utils.data import DataLoader, random_split\n",
        "import torch\n",
        "import matplotlib.pyplot as plt\n",
        "import random\n",
        "import cv2\n",
        "import torch.nn as nn\n",
        "from torchsummary import summary\n",
        "from tqdm import tqdm\n",
        "import torch.optim as optim\n",
        "import numpy as np\n",
        "from PIL import Image\n",
        "from torchvision import datasets, transforms, models\n",
        "import os\n",
        "from torch.utils.data import Dataset\n",
        "import pandas as pd"
      ]
    },
    {
      "cell_type": "markdown",
      "metadata": {
        "id": "jXWheioov6gt"
      },
      "source": [
        "Some necessary settings (GPU)"
      ]
    },
    {
      "cell_type": "code",
      "execution_count": 17,
      "metadata": {
        "colab": {
          "base_uri": "https://localhost:8080/"
        },
        "id": "Wp_gLRmgv6gt",
        "outputId": "7fd5796d-f654-4c0c-d9b4-bea81d137a32"
      },
      "outputs": [
        {
          "output_type": "stream",
          "name": "stdout",
          "text": [
            "You are using device: cuda\n",
            "You are using PyTorch version: 2.6.0+cu124\n"
          ]
        }
      ],
      "source": [
        "# Check if GPU is available\n",
        "device = torch.device('cuda' if torch.cuda.is_available() else 'cpu')\n",
        "print(\"You are using device: %s\" % device)\n",
        "print(\"You are using PyTorch version: %s\" % torch.__version__)\n",
        "\n",
        "# define class names\n",
        "classes = ('A', 'B', 'C')\n",
        "\n",
        "# define the path to the dataset\n",
        "path_dataset = \"dataset_beam/\""
      ]
    },
    {
      "cell_type": "markdown",
      "metadata": {
        "id": "cJHFQRxwv6gu"
      },
      "source": [
        "Data loading and processing"
      ]
    },
    {
      "cell_type": "markdown",
      "metadata": {
        "id": "yAxcP71Mv6gv"
      },
      "source": [
        "Edge detection function using morphological operations (Dilation and Erosion)"
      ]
    },
    {
      "cell_type": "code",
      "source": [
        "def compute_mean_std(image_dir):\n",
        "    \"\"\"\n",
        "    Compute the mean and standard deviation of images in a directory.\n",
        "    Args:\n",
        "        image_dir (str): Root directory containing class subfolders of images\n",
        "    Returns:\n",
        "        mean (tuple): Mean of R, G, B channels\n",
        "        std (tuple): Standard deviation of R, G, B channels\n",
        "    \"\"\"\n",
        "    transform = transforms.Compose([\n",
        "        transforms.Resize((224, 224)),  # Resize to a consistent size\n",
        "        transforms.ToTensor()           # Convert to [0, 1] and shape (C, H, W)\n",
        "    ])\n",
        "\n",
        "    image_paths = []\n",
        "    for root, _, files in os.walk(image_dir):\n",
        "        for file in files:\n",
        "            if file.lower().endswith(('.jpg', '.jpeg', '.png')):\n",
        "                image_paths.append(os.path.join(root, file))\n",
        "\n",
        "    print(f\"Found {len(image_paths)} images.\")\n",
        "\n",
        "    channel_sum = np.zeros(3)\n",
        "    channel_squared_sum = np.zeros(3)\n",
        "    num_pixels = 0\n",
        "\n",
        "    for path in tqdm(image_paths, desc=\"Computing mean & std\"):\n",
        "        image = Image.open(path).convert(\"RGB\")\n",
        "        image_tensor = transform(image)\n",
        "        np_image = image_tensor.numpy()\n",
        "\n",
        "        channel_sum += np_image.sum(axis=(1, 2))\n",
        "        channel_squared_sum += (np_image ** 2).sum(axis=(1, 2))\n",
        "        num_pixels += np_image.shape[1] * np_image.shape[2]\n",
        "\n",
        "    mean = channel_sum / num_pixels\n",
        "    std = np.sqrt(channel_squared_sum / num_pixels - mean ** 2)\n",
        "\n",
        "    return tuple(mean), tuple(std)"
      ],
      "metadata": {
        "id": "q6gPRMJk5AT0"
      },
      "execution_count": 4,
      "outputs": []
    },
    {
      "cell_type": "code",
      "execution_count": 5,
      "metadata": {
        "id": "PDiWZRgEv6gv"
      },
      "outputs": [],
      "source": [
        "class QuadraExpandedDataset(Dataset):\n",
        "    def __init__(self, traindataset, transform1, transform2, transform3):\n",
        "        self.subset = traindataset\n",
        "        self.indices = traindataset.indices  # Indices of Subset\n",
        "        self.base_dataset = traindataset.dataset  # Original ImageFolder\n",
        "        self.samples = self.base_dataset.samples\n",
        "        self.loader = self.base_dataset.loader\n",
        "\n",
        "        self.transform1 = transform1\n",
        "        self.transform2 = transform2\n",
        "        self.transform3 = transform3\n",
        "\n",
        "        self.total_len = len(self.indices) * 3  # Each image will be used 4 times\n",
        "\n",
        "    def __len__(self):\n",
        "        return self.total_len\n",
        "\n",
        "    def __getitem__(self, idx):\n",
        "        base_idx = idx // 3              # which original image\n",
        "        aug_idx = idx % 3                 # which augmentation to apply\n",
        "        true_idx = self.indices[base_idx] # actual index in ImageFolder\n",
        "\n",
        "        path, label = self.samples[true_idx]\n",
        "        image = self.loader(path)\n",
        "\n",
        "        if aug_idx == 0:\n",
        "            image = self.transform1(image)\n",
        "        elif aug_idx == 1:\n",
        "            image = self.transform2(image)\n",
        "        else:\n",
        "            image = self.transform3(image)\n",
        "\n",
        "        return image, label\n"
      ]
    },
    {
      "cell_type": "code",
      "source": [
        "from torch.utils.data import Dataset\n",
        "from torchvision import datasets\n",
        "from torchvision import transforms\n",
        "import os\n",
        "\n",
        "class OvRDataset(Dataset):\n",
        "    def __init__(self, root, target_class_idx, transform=None):\n",
        "        \"\"\"\n",
        "        root: path to crack folder\n",
        "        target_class_idx: integer, the class index we are currently training (0-9)\n",
        "        \"\"\"\n",
        "        self.base_dataset = datasets.ImageFolder(root=root, transform=transform)\n",
        "        self.target_class_idx = target_class_idx\n",
        "\n",
        "    def __len__(self):\n",
        "        return len(self.base_dataset)\n",
        "\n",
        "    def __getitem__(self, index):\n",
        "        image, label = self.base_dataset[index]\n",
        "\n",
        "        # One-vs-Rest relabeling:\n",
        "        binary_label = 1.0 if label == self.target_class_idx else 0.0\n",
        "\n",
        "        return image, binary_label"
      ],
      "metadata": {
        "id": "iCksFC2JBcC0"
      },
      "execution_count": 6,
      "outputs": []
    },
    {
      "cell_type": "code",
      "execution_count": 7,
      "metadata": {
        "id": "WptRtNtWv6gw",
        "colab": {
          "base_uri": "https://localhost:8080/"
        },
        "outputId": "38c93b96-138c-4ccc-b26d-2fb2dc1c4f21"
      },
      "outputs": [
        {
          "output_type": "stream",
          "name": "stdout",
          "text": [
            "Found 389 images.\n"
          ]
        },
        {
          "output_type": "stream",
          "name": "stderr",
          "text": [
            "Computing mean & std: 100%|██████████| 389/389 [03:14<00:00,  2.00it/s]"
          ]
        },
        {
          "output_type": "stream",
          "name": "stdout",
          "text": [
            "['Class A', 'Class B', 'Class C']\n",
            "{'Class A': 0, 'Class B': 1, 'Class C': 2}\n"
          ]
        },
        {
          "output_type": "stream",
          "name": "stderr",
          "text": [
            "\n"
          ]
        }
      ],
      "source": [
        "def load_dataset(dataset_path):\n",
        "\n",
        "    # print the size of an image\n",
        "    # img_path = '/Users/wengtzucheng/Documents/Documents - Weng’s MacBook Pro/碩班/深度學習/Competition/dataset_beam/beam_damage/Class A/007_yang_jpg.rf.e0f01c59605ebc5502e8020751cd684a.jpg'\n",
        "    # img = cv2.imread(img_path)\n",
        "    # height, width, channels = img.shape\n",
        "    # print(f\"Image size: {width}x{height}, Channels: {channels}\")\n",
        "\n",
        "\n",
        "    # Calculate mean and standard of images\n",
        "    mean, std = compute_mean_std(dataset_path)\n",
        "    # Define a transforms\n",
        "    transform = transforms.Compose([\n",
        "      transforms.Resize((224, 224)),\n",
        "      transforms.ToTensor(),\n",
        "      transforms.Normalize(mean, std)\n",
        "    ])\n",
        "\n",
        "\n",
        "    transform2 = transforms.Compose([\n",
        "      transforms.Resize((224, 224)),\n",
        "      transforms.RandomRotation(15),\n",
        "      transforms.ColorJitter(brightness=0.2, contrast=0.2),\n",
        "      transforms.ToTensor(),\n",
        "      transforms.Normalize(mean, std)\n",
        "    ])\n",
        "\n",
        "    transform3 = transforms.Compose([\n",
        "      transforms.Resize((224, 224)),\n",
        "      transforms.RandomPerspective(distortion_scale=0.5, p=0.5),\n",
        "      transforms.ToTensor(),\n",
        "      transforms.Normalize(mean, std)\n",
        "    ])\n",
        "\n",
        "    transform4 = transforms.Compose([\n",
        "      transforms.RandomResizedCrop(224, scale=(0.8, 1.0), ratio=(0.9, 1.1)),\n",
        "      transforms.RandomGrayscale(p=0.2),\n",
        "      transforms.ToTensor(),\n",
        "      transforms.Normalize(mean, std)\n",
        "    ])\n",
        "\n",
        "    # Load full dataset\n",
        "    full_dataset = datasets.ImageFolder(root = dataset_path, transform=transform)\n",
        "\n",
        "    # split full dataset into validation and train dataset\n",
        "    dataset_size = len(full_dataset)\n",
        "    train_size = int(0.8 * dataset_size)\n",
        "    val_size = dataset_size - train_size\n",
        "    train_subset, val_subset = random_split(full_dataset, [train_size, val_size])\n",
        "\n",
        "    train_dataset = QuadraExpandedDataset(train_subset, transform2, transform3, transform4)\n",
        "\n",
        "\n",
        "    # Create dataLoaders\n",
        "    train_loader = DataLoader(train_dataset, batch_size=64, shuffle=True)\n",
        "    validation_loader = DataLoader(val_subset, batch_size=64, shuffle=True)\n",
        "\n",
        "    # Check class names and indices\n",
        "    print(full_dataset.classes)  # ['ClassA', 'ClassB', 'ClassC']\n",
        "    print(full_dataset.class_to_idx)  # {'ClassA': 0, 'ClassB': 1, 'ClassC': 2}\n",
        "\n",
        "    return train_loader, validation_loader, full_dataset\n",
        "\n",
        "# Load dataset\n",
        "damage_dataset_path = '/content/drive/MyDrive/dataset_beam/beam_damage'\n",
        "damage_train_loader, damage_validation_loader, damage_full_dataset = load_dataset(damage_dataset_path)\n",
        "\n",
        "\n",
        "\n",
        "\n",
        "\n"
      ]
    },
    {
      "cell_type": "code",
      "source": [
        "# Load ImageFolder once to get class_to_idx mapping\n",
        "crack_dataset_path = '/content/drive/MyDrive/classification/crack'\n",
        "base_crack_dataset = datasets.ImageFolder(root=crack_dataset_path)\n",
        "crack_class_to_idx = base_crack_dataset.class_to_idx\n",
        "crack_class_names = base_crack_dataset.classes\n",
        "\n",
        "print(\"Crack classes:\", crack_class_names)\n",
        "print(\"Crack class_to_idx:\", crack_class_to_idx)\n",
        "\n",
        "\n",
        "# Transforms\n",
        "mean, std = compute_mean_std(crack_dataset_path)\n",
        "crack_transforms = transforms.Compose([\n",
        "    transforms.Resize((224, 224)),  # Or 256x256 depending on your model\n",
        "    transforms.ToTensor(),\n",
        "    transforms.Normalize(mean, std)\n",
        "])\n",
        "\n",
        "batch_size = 64\n",
        "num_classes = len(crack_class_names)  # Should be 10\n",
        "\n",
        "train_loaders = []\n",
        "val_loaders = []\n",
        "\n",
        "for class_idx in range(num_classes):\n",
        "    print(f\"\\nPreparing loaders for class {class_idx}: {crack_class_names[class_idx]}\")\n",
        "\n",
        "    # Create OvRDataset for this class\n",
        "    ovr_dataset = OvRDataset(root=crack_dataset_path, target_class_idx=class_idx, transform=crack_transforms)\n",
        "\n",
        "    # Split into train/val\n",
        "    train_size = int(0.8 * len(ovr_dataset))\n",
        "    val_size = len(ovr_dataset) - train_size\n",
        "    train_dataset, val_dataset = random_split(ovr_dataset, [train_size, val_size])\n",
        "\n",
        "    # DataLoaders\n",
        "    train_loader = DataLoader(train_dataset, batch_size=batch_size, shuffle=True, num_workers=4)\n",
        "    val_loader = DataLoader(val_dataset, batch_size=batch_size, shuffle=False, num_workers=4)\n",
        "\n",
        "    # Append to lists\n",
        "    train_loaders.append(train_loader)\n",
        "    val_loaders.append(val_loader)"
      ],
      "metadata": {
        "colab": {
          "base_uri": "https://localhost:8080/"
        },
        "id": "pfYRN47lCH5l",
        "outputId": "f6ceef3c-e9ed-41e0-e2a4-1b2a198a93a2"
      },
      "execution_count": 8,
      "outputs": [
        {
          "output_type": "stream",
          "name": "stdout",
          "text": [
            "Crack classes: ['0_ExposedRebar', '10_SmallCracks', '1_NoSignificantDamage', '3_XAndV-shapedCracks', '4_ContinuousDiagonalCracks', '5_DiscontinuousDiagonalCracks', '6_ContinuousVerticalCracks', '7_DiscontinuousVerticalCracks', '8_ContinuosHorizontalCracks', '9_DiscontinuousHorizontalCracks']\n",
            "Crack class_to_idx: {'0_ExposedRebar': 0, '10_SmallCracks': 1, '1_NoSignificantDamage': 2, '3_XAndV-shapedCracks': 3, '4_ContinuousDiagonalCracks': 4, '5_DiscontinuousDiagonalCracks': 5, '6_ContinuousVerticalCracks': 6, '7_DiscontinuousVerticalCracks': 7, '8_ContinuosHorizontalCracks': 8, '9_DiscontinuousHorizontalCracks': 9}\n",
            "Found 1616 images.\n"
          ]
        },
        {
          "output_type": "stream",
          "name": "stderr",
          "text": [
            "Computing mean & std: 100%|██████████| 1616/1616 [15:37<00:00,  1.72it/s]\n",
            "/usr/local/lib/python3.11/dist-packages/torch/utils/data/dataloader.py:624: UserWarning: This DataLoader will create 4 worker processes in total. Our suggested max number of worker in current system is 2, which is smaller than what this DataLoader is going to create. Please be aware that excessive worker creation might get DataLoader running slow or even freeze, lower the worker number to avoid potential slowness/freeze if necessary.\n",
            "  warnings.warn(\n"
          ]
        },
        {
          "output_type": "stream",
          "name": "stdout",
          "text": [
            "\n",
            "Preparing loaders for class 0: 0_ExposedRebar\n",
            "\n",
            "Preparing loaders for class 1: 10_SmallCracks\n",
            "\n",
            "Preparing loaders for class 2: 1_NoSignificantDamage\n",
            "\n",
            "Preparing loaders for class 3: 3_XAndV-shapedCracks\n",
            "\n",
            "Preparing loaders for class 4: 4_ContinuousDiagonalCracks\n",
            "\n",
            "Preparing loaders for class 5: 5_DiscontinuousDiagonalCracks\n",
            "\n",
            "Preparing loaders for class 6: 6_ContinuousVerticalCracks\n",
            "\n",
            "Preparing loaders for class 7: 7_DiscontinuousVerticalCracks\n",
            "\n",
            "Preparing loaders for class 8: 8_ContinuosHorizontalCracks\n",
            "\n",
            "Preparing loaders for class 9: 9_DiscontinuousHorizontalCracks\n"
          ]
        }
      ]
    },
    {
      "cell_type": "markdown",
      "source": [
        "Mapping"
      ],
      "metadata": {
        "id": "klRXd_Im1j9W"
      }
    },
    {
      "cell_type": "code",
      "source": [
        "damage_class_names = ['Class A', 'Class B', 'Class C']\n",
        "damage_class_to_idx = {'Class A': 0, 'Class B': 1, 'Class C': 2}\n",
        "\n",
        "# Mapping ImageFolder index → 18/19/20\n",
        "damage_label_mapping = {\n",
        "    damage_class_to_idx['Class A']: 18,\n",
        "    damage_class_to_idx['Class B']: 19,\n",
        "    damage_class_to_idx['Class C']: 20\n",
        "}\n",
        "\n",
        "crack_class_names = [\n",
        "    '0_ExposedRebar',\n",
        "    '10_SmallCracks',\n",
        "    '1_NoSignificantDamage',\n",
        "    '3_XAndV-shapedCracks',\n",
        "    '4_ContinuousDiagonalCracks',\n",
        "    '5_DiscontinuousDiagonalCracks',\n",
        "    '6_ContinuousVerticalCracks',\n",
        "    '7_DiscontinuousVerticalCracks',\n",
        "    '8_ContinuosHorizontalCracks',\n",
        "    '9_DiscontinuousHorizontalCracks'\n",
        "]\n",
        "\n",
        "crack_class_to_idx = {\n",
        "    '0_ExposedRebar': 0,\n",
        "    '10_SmallCracks': 1,\n",
        "    '1_NoSignificantDamage': 2,\n",
        "    '3_XAndV-shapedCracks': 3,\n",
        "    '4_ContinuousDiagonalCracks': 4,\n",
        "    '5_DiscontinuousDiagonalCracks': 5,\n",
        "    '6_ContinuousVerticalCracks': 6,\n",
        "    '7_DiscontinuousVerticalCracks': 7,\n",
        "    '8_ContinuosHorizontalCracks': 8,\n",
        "    '9_DiscontinuousHorizontalCracks': 9\n",
        "}\n",
        "\n",
        "# Build mapping: ImageFolder index → index in class list\n",
        "crack_label_mapping = {\n",
        "    crack_class_to_idx['0_ExposedRebar']: 0,\n",
        "    crack_class_to_idx['10_SmallCracks']: 10,\n",
        "    crack_class_to_idx['1_NoSignificantDamage']: 1,\n",
        "    crack_class_to_idx['3_XAndV-shapedCracks']: 3,\n",
        "    crack_class_to_idx['4_ContinuousDiagonalCracks']: 4,\n",
        "    crack_class_to_idx['5_DiscontinuousDiagonalCracks']: 5,\n",
        "    crack_class_to_idx['6_ContinuousVerticalCracks']: 6,\n",
        "    crack_class_to_idx['7_DiscontinuousVerticalCracks']: 7,\n",
        "    crack_class_to_idx['8_ContinuosHorizontalCracks']: 8,\n",
        "    crack_class_to_idx['9_DiscontinuousHorizontalCracks']: 9\n",
        "}\n",
        "\n",
        "print(\"Damage label mapping:\", damage_label_mapping)\n",
        "print(\"Crack label mapping:\", crack_label_mapping)"
      ],
      "metadata": {
        "colab": {
          "base_uri": "https://localhost:8080/"
        },
        "id": "0HH383Mh1k5e",
        "outputId": "f6a7206a-8d24-47f2-c258-6c26789d09e5"
      },
      "execution_count": 9,
      "outputs": [
        {
          "output_type": "stream",
          "name": "stdout",
          "text": [
            "Damage label mapping: {0: 18, 1: 19, 2: 20}\n",
            "Crack label mapping: {0: 0, 1: 10, 2: 1, 3: 3, 4: 4, 5: 5, 6: 6, 7: 7, 8: 8, 9: 9}\n"
          ]
        }
      ]
    },
    {
      "cell_type": "code",
      "source": [
        "# Example\n",
        "for images, labels in damage_train_loader:\n",
        "    print(images.shape, labels)\n",
        "    break\n",
        "\n",
        "# Example: print every batch in train_loaders[1]\n",
        "\n",
        "for batch_idx, (images, labels) in enumerate(train_loaders[1]):\n",
        "    print(f\"Batch {batch_idx}:\")\n",
        "    print(\"  images.shape:\", images.shape)  # e.g., (batch_size, 3, 224, 224)\n",
        "    print(\"  labels:\", labels)              # Tensor of size (batch_size,) with 1.0 or 0.0\n",
        "    print(\"-\" * 40)\n",
        "\n",
        "  # Count total number of 1's in train_loader[1]\n",
        "\n"
      ],
      "metadata": {
        "colab": {
          "base_uri": "https://localhost:8080/"
        },
        "id": "EoXdIEl1-ucU",
        "outputId": "cf8cc8bc-ff24-444d-975c-0e292d696383"
      },
      "execution_count": 13,
      "outputs": [
        {
          "output_type": "stream",
          "name": "stdout",
          "text": [
            "torch.Size([64, 3, 224, 224]) tensor([2, 1, 0, 2, 1, 0, 2, 0, 2, 2, 0, 1, 0, 1, 1, 1, 1, 1, 2, 2, 0, 1, 0, 0,\n",
            "        1, 2, 0, 0, 1, 2, 1, 0, 0, 0, 2, 2, 1, 0, 1, 2, 1, 2, 0, 0, 2, 2, 2, 2,\n",
            "        1, 1, 0, 2, 2, 2, 1, 2, 0, 2, 0, 1, 1, 1, 1, 2])\n",
            "Batch 0:\n",
            "  images.shape: torch.Size([64, 3, 224, 224])\n",
            "  labels: tensor([0., 0., 0., 0., 0., 1., 0., 1., 0., 0., 0., 0., 0., 0., 0., 0., 0., 0.,\n",
            "        0., 0., 0., 0., 0., 1., 0., 0., 0., 0., 0., 0., 0., 0., 0., 0., 0., 0.,\n",
            "        0., 0., 0., 0., 0., 0., 0., 0., 0., 0., 0., 0., 1., 0., 0., 1., 0., 0.,\n",
            "        0., 0., 0., 0., 0., 0., 0., 0., 0., 0.], dtype=torch.float64)\n",
            "----------------------------------------\n",
            "Batch 1:\n",
            "  images.shape: torch.Size([64, 3, 224, 224])\n",
            "  labels: tensor([0., 0., 0., 0., 0., 0., 1., 0., 0., 0., 0., 0., 0., 0., 0., 1., 0., 0.,\n",
            "        1., 0., 0., 0., 0., 0., 0., 0., 0., 0., 0., 0., 0., 0., 0., 0., 0., 0.,\n",
            "        0., 0., 0., 0., 0., 0., 0., 0., 0., 0., 0., 0., 0., 0., 0., 0., 0., 0.,\n",
            "        0., 0., 0., 0., 0., 0., 0., 0., 0., 0.], dtype=torch.float64)\n",
            "----------------------------------------\n",
            "Batch 2:\n",
            "  images.shape: torch.Size([64, 3, 224, 224])\n",
            "  labels: tensor([0., 0., 0., 0., 0., 0., 0., 0., 0., 0., 0., 0., 0., 0., 0., 0., 0., 0.,\n",
            "        0., 0., 0., 0., 0., 0., 0., 0., 0., 0., 0., 0., 0., 0., 0., 0., 0., 0.,\n",
            "        0., 0., 0., 0., 0., 0., 0., 0., 0., 1., 0., 0., 0., 0., 0., 0., 0., 0.,\n",
            "        0., 1., 0., 0., 0., 0., 0., 0., 0., 0.], dtype=torch.float64)\n",
            "----------------------------------------\n",
            "Batch 3:\n",
            "  images.shape: torch.Size([64, 3, 224, 224])\n",
            "  labels: tensor([0., 0., 0., 0., 0., 0., 0., 0., 0., 0., 0., 0., 0., 0., 0., 0., 0., 0.,\n",
            "        0., 0., 0., 0., 0., 0., 0., 0., 0., 0., 0., 0., 0., 0., 0., 0., 0., 0.,\n",
            "        0., 0., 0., 0., 0., 0., 0., 0., 0., 0., 0., 0., 0., 0., 1., 0., 0., 0.,\n",
            "        0., 0., 0., 1., 0., 0., 0., 0., 0., 0.], dtype=torch.float64)\n",
            "----------------------------------------\n",
            "Batch 4:\n",
            "  images.shape: torch.Size([64, 3, 224, 224])\n",
            "  labels: tensor([0., 0., 0., 0., 0., 0., 1., 0., 0., 0., 0., 0., 0., 0., 0., 0., 0., 0.,\n",
            "        0., 0., 0., 0., 0., 0., 0., 0., 0., 0., 0., 0., 0., 0., 0., 0., 0., 0.,\n",
            "        0., 0., 0., 0., 0., 0., 0., 0., 0., 0., 0., 0., 1., 0., 0., 0., 0., 0.,\n",
            "        0., 1., 0., 1., 0., 0., 0., 0., 0., 0.], dtype=torch.float64)\n",
            "----------------------------------------\n",
            "Batch 5:\n",
            "  images.shape: torch.Size([64, 3, 224, 224])\n",
            "  labels: tensor([0., 0., 0., 0., 0., 0., 0., 0., 0., 0., 1., 0., 0., 0., 0., 0., 0., 0.,\n",
            "        0., 0., 0., 0., 1., 0., 0., 0., 0., 0., 0., 0., 0., 0., 0., 0., 0., 0.,\n",
            "        0., 0., 0., 0., 0., 0., 0., 0., 0., 1., 0., 0., 0., 0., 0., 0., 1., 0.,\n",
            "        1., 0., 0., 0., 0., 0., 0., 0., 0., 0.], dtype=torch.float64)\n",
            "----------------------------------------\n",
            "Batch 6:\n",
            "  images.shape: torch.Size([64, 3, 224, 224])\n",
            "  labels: tensor([0., 0., 0., 0., 0., 0., 0., 0., 0., 0., 0., 0., 0., 1., 0., 0., 1., 0.,\n",
            "        0., 0., 0., 0., 0., 1., 0., 0., 0., 0., 0., 0., 0., 0., 0., 0., 0., 0.,\n",
            "        0., 0., 0., 0., 0., 0., 0., 0., 0., 0., 0., 0., 0., 0., 0., 0., 0., 0.,\n",
            "        0., 0., 0., 0., 0., 0., 0., 0., 0., 0.], dtype=torch.float64)\n",
            "----------------------------------------\n",
            "Batch 7:\n",
            "  images.shape: torch.Size([64, 3, 224, 224])\n",
            "  labels: tensor([0., 0., 0., 0., 0., 0., 0., 0., 0., 0., 0., 0., 0., 0., 0., 0., 0., 0.,\n",
            "        0., 0., 0., 0., 0., 0., 0., 0., 0., 0., 0., 0., 0., 0., 0., 0., 0., 0.,\n",
            "        0., 1., 0., 0., 0., 0., 0., 0., 0., 0., 0., 0., 0., 0., 0., 1., 0., 0.,\n",
            "        0., 0., 1., 0., 0., 0., 0., 0., 0., 0.], dtype=torch.float64)\n",
            "----------------------------------------\n",
            "Batch 8:\n",
            "  images.shape: torch.Size([64, 3, 224, 224])\n",
            "  labels: tensor([0., 0., 0., 0., 0., 0., 0., 0., 0., 0., 0., 0., 0., 0., 0., 1., 0., 0.,\n",
            "        0., 1., 0., 0., 0., 1., 0., 0., 0., 0., 0., 0., 0., 0., 0., 0., 1., 0.,\n",
            "        0., 0., 0., 1., 0., 0., 0., 0., 0., 0., 0., 1., 0., 0., 0., 0., 0., 0.,\n",
            "        0., 0., 0., 0., 0., 0., 0., 0., 0., 0.], dtype=torch.float64)\n",
            "----------------------------------------\n",
            "Batch 9:\n",
            "  images.shape: torch.Size([64, 3, 224, 224])\n",
            "  labels: tensor([0., 0., 0., 0., 0., 0., 1., 0., 0., 1., 1., 0., 0., 0., 0., 0., 0., 0.,\n",
            "        0., 0., 0., 0., 0., 0., 0., 0., 0., 0., 0., 0., 0., 1., 0., 0., 0., 0.,\n",
            "        0., 0., 0., 0., 0., 0., 0., 0., 0., 0., 1., 0., 0., 0., 0., 0., 0., 0.,\n",
            "        0., 0., 1., 0., 0., 0., 0., 0., 0., 0.], dtype=torch.float64)\n",
            "----------------------------------------\n",
            "Batch 10:\n",
            "  images.shape: torch.Size([64, 3, 224, 224])\n",
            "  labels: tensor([0., 0., 0., 0., 0., 1., 0., 0., 0., 0., 0., 0., 0., 0., 0., 1., 0., 0.,\n",
            "        0., 0., 0., 0., 0., 0., 1., 0., 0., 0., 1., 0., 0., 0., 0., 0., 0., 1.,\n",
            "        1., 0., 0., 0., 0., 0., 0., 0., 0., 1., 0., 0., 0., 0., 1., 0., 1., 0.,\n",
            "        0., 0., 1., 0., 0., 0., 0., 0., 0., 0.], dtype=torch.float64)\n",
            "----------------------------------------\n",
            "Batch 11:\n",
            "  images.shape: torch.Size([64, 3, 224, 224])\n",
            "  labels: tensor([0., 0., 0., 0., 0., 0., 0., 0., 0., 0., 0., 1., 0., 0., 0., 0., 0., 0.,\n",
            "        0., 0., 0., 0., 0., 1., 0., 0., 0., 0., 0., 0., 0., 0., 0., 0., 0., 0.,\n",
            "        0., 1., 0., 0., 0., 0., 0., 0., 0., 0., 0., 0., 0., 0., 0., 0., 0., 0.,\n",
            "        0., 0., 0., 0., 0., 0., 0., 0., 0., 0.], dtype=torch.float64)\n",
            "----------------------------------------\n",
            "Batch 12:\n",
            "  images.shape: torch.Size([64, 3, 224, 224])\n",
            "  labels: tensor([0., 0., 0., 0., 0., 0., 0., 0., 0., 0., 0., 0., 0., 0., 0., 0., 0., 0.,\n",
            "        0., 0., 0., 1., 0., 0., 0., 1., 0., 0., 0., 0., 0., 0., 0., 0., 0., 0.,\n",
            "        0., 0., 0., 0., 0., 0., 0., 0., 0., 0., 0., 0., 0., 0., 0., 0., 0., 0.,\n",
            "        0., 0., 0., 0., 0., 0., 0., 0., 0., 0.], dtype=torch.float64)\n",
            "----------------------------------------\n",
            "Batch 13:\n",
            "  images.shape: torch.Size([64, 3, 224, 224])\n",
            "  labels: tensor([0., 0., 0., 0., 0., 0., 0., 0., 0., 0., 0., 0., 0., 0., 0., 0., 0., 0.,\n",
            "        0., 0., 0., 0., 0., 0., 0., 1., 0., 1., 0., 0., 0., 1., 0., 0., 0., 0.,\n",
            "        0., 0., 0., 0., 0., 0., 0., 0., 0., 0., 0., 0., 0., 0., 0., 1., 0., 0.,\n",
            "        0., 0., 0., 0., 0., 0., 0., 0., 0., 0.], dtype=torch.float64)\n",
            "----------------------------------------\n",
            "Batch 14:\n",
            "  images.shape: torch.Size([64, 3, 224, 224])\n",
            "  labels: tensor([0., 0., 0., 0., 0., 0., 0., 0., 0., 0., 0., 0., 0., 1., 0., 0., 0., 0.,\n",
            "        0., 0., 0., 0., 0., 0., 0., 0., 0., 0., 0., 0., 0., 0., 1., 0., 0., 0.,\n",
            "        0., 0., 0., 0., 0., 0., 0., 0., 0., 0., 0., 0., 0., 0., 0., 0., 0., 0.,\n",
            "        0., 0., 0., 0., 1., 0., 0., 0., 0., 1.], dtype=torch.float64)\n",
            "----------------------------------------\n",
            "Batch 15:\n",
            "  images.shape: torch.Size([64, 3, 224, 224])\n",
            "  labels: tensor([0., 0., 0., 0., 0., 0., 0., 0., 0., 0., 0., 0., 0., 0., 0., 0., 0., 0.,\n",
            "        1., 0., 0., 0., 0., 0., 0., 0., 0., 0., 0., 0., 0., 0., 0., 0., 0., 0.,\n",
            "        0., 0., 0., 0., 0., 1., 1., 0., 0., 1., 0., 0., 0., 0., 1., 0., 0., 0.,\n",
            "        0., 0., 0., 0., 0., 0., 0., 0., 0., 0.], dtype=torch.float64)\n",
            "----------------------------------------\n",
            "Batch 16:\n",
            "  images.shape: torch.Size([64, 3, 224, 224])\n",
            "  labels: tensor([0., 0., 0., 0., 0., 0., 0., 0., 0., 0., 0., 0., 1., 0., 0., 0., 0., 0.,\n",
            "        0., 0., 0., 0., 0., 0., 0., 1., 0., 0., 0., 0., 0., 0., 0., 0., 0., 0.,\n",
            "        0., 0., 1., 0., 0., 0., 0., 0., 1., 0., 0., 0., 0., 0., 0., 1., 0., 0.,\n",
            "        0., 0., 0., 0., 0., 0., 0., 0., 0., 0.], dtype=torch.float64)\n",
            "----------------------------------------\n",
            "Batch 17:\n",
            "  images.shape: torch.Size([64, 3, 224, 224])\n",
            "  labels: tensor([0., 0., 0., 0., 0., 0., 0., 0., 0., 0., 0., 0., 0., 0., 0., 0., 0., 0.,\n",
            "        0., 0., 0., 0., 0., 0., 0., 0., 0., 0., 0., 0., 0., 1., 0., 0., 0., 0.,\n",
            "        0., 0., 0., 0., 0., 0., 0., 0., 0., 0., 0., 0., 0., 0., 0., 0., 0., 0.,\n",
            "        0., 1., 0., 0., 1., 0., 0., 0., 1., 0.], dtype=torch.float64)\n",
            "----------------------------------------\n",
            "Batch 18:\n",
            "  images.shape: torch.Size([64, 3, 224, 224])\n",
            "  labels: tensor([0., 0., 0., 1., 0., 0., 0., 0., 0., 0., 0., 0., 0., 0., 0., 0., 0., 0.,\n",
            "        0., 0., 0., 0., 0., 0., 0., 0., 0., 0., 0., 0., 1., 0., 0., 0., 0., 0.,\n",
            "        0., 1., 0., 0., 1., 0., 0., 0., 0., 0., 0., 0., 0., 1., 0., 0., 0., 0.,\n",
            "        0., 0., 0., 0., 0., 0., 0., 0., 0., 0.], dtype=torch.float64)\n",
            "----------------------------------------\n",
            "Batch 19:\n",
            "  images.shape: torch.Size([64, 3, 224, 224])\n",
            "  labels: tensor([0., 0., 0., 0., 0., 0., 0., 0., 0., 0., 0., 0., 0., 0., 0., 0., 0., 0.,\n",
            "        1., 0., 0., 0., 0., 0., 0., 0., 0., 0., 0., 0., 0., 0., 0., 0., 0., 0.,\n",
            "        0., 0., 0., 0., 0., 1., 0., 0., 0., 0., 0., 0., 0., 0., 0., 0., 0., 0.,\n",
            "        0., 0., 0., 0., 1., 0., 0., 0., 0., 0.], dtype=torch.float64)\n",
            "----------------------------------------\n",
            "Batch 20:\n",
            "  images.shape: torch.Size([12, 3, 224, 224])\n",
            "  labels: tensor([0., 0., 0., 0., 0., 0., 0., 0., 1., 0., 0., 0.], dtype=torch.float64)\n",
            "----------------------------------------\n",
            "Total samples in train_loader[1]: 1292\n",
            "Total number of 1's (positives) in train_loader[1]: 85\n",
            "Percentage of positives: 6.58%\n"
          ]
        }
      ]
    },
    {
      "cell_type": "code",
      "source": [
        "total_ones = 0\n",
        "total_samples = 0\n",
        "for images, labels in train_loaders[8]:\n",
        "    # Count number of 1.0 labels in this batch\n",
        "    num_ones = (labels == 1.0).sum().item()\n",
        "\n",
        "    total_ones += num_ones\n",
        "    total_samples += labels.size(0)\n",
        "\n",
        "print(f\"Total samples in train_loader[1]: {total_samples}\")\n",
        "print(f\"Total number of 1's (positives) in train_loader[1]: {total_ones}\")\n",
        "print(f\"Percentage of positives: {100 * total_ones / total_samples:.2f}%\")"
      ],
      "metadata": {
        "colab": {
          "base_uri": "https://localhost:8080/"
        },
        "id": "6ocYmlWit-9i",
        "outputId": "2009c7e4-e31b-4e08-df12-80a686075a3c"
      },
      "execution_count": 17,
      "outputs": [
        {
          "output_type": "stream",
          "name": "stdout",
          "text": [
            "Total samples in train_loader[1]: 1292\n",
            "Total number of 1's (positives) in train_loader[1]: 235\n",
            "Percentage of positives: 18.19%\n"
          ]
        }
      ]
    },
    {
      "cell_type": "markdown",
      "metadata": {
        "id": "vF7e5Gm2v6gy"
      },
      "source": [
        "Model definition"
      ]
    },
    {
      "cell_type": "code",
      "execution_count": 19,
      "metadata": {
        "colab": {
          "base_uri": "https://localhost:8080/"
        },
        "id": "rU23rF4Vv6gy",
        "outputId": "bb68d326-04b2-4fd6-c13e-40f1fc41a9d3"
      },
      "outputs": [
        {
          "output_type": "stream",
          "name": "stderr",
          "text": [
            "/usr/local/lib/python3.11/dist-packages/torchvision/models/_utils.py:223: UserWarning: Arguments other than a weight enum or `None` for 'weights' are deprecated since 0.13 and may be removed in the future. The current behavior is equivalent to passing `weights=ConvNeXt_Tiny_Weights.IMAGENET1K_V1`. You can also use `weights=ConvNeXt_Tiny_Weights.DEFAULT` to get the most up-to-date weights.\n",
            "  warnings.warn(msg)\n"
          ]
        },
        {
          "output_type": "stream",
          "name": "stdout",
          "text": [
            "=== Damage Level Classifier ===\n",
            "----------------------------------------------------------------\n",
            "        Layer (type)               Output Shape         Param #\n",
            "================================================================\n",
            "            Conv2d-1           [-1, 96, 56, 56]           4,704\n",
            "       LayerNorm2d-2           [-1, 96, 56, 56]             192\n",
            "            Conv2d-3           [-1, 96, 56, 56]           4,800\n",
            "           Permute-4           [-1, 56, 56, 96]               0\n",
            "         LayerNorm-5           [-1, 56, 56, 96]             192\n",
            "            Linear-6          [-1, 56, 56, 384]          37,248\n",
            "              GELU-7          [-1, 56, 56, 384]               0\n",
            "            Linear-8           [-1, 56, 56, 96]          36,960\n",
            "           Permute-9           [-1, 96, 56, 56]               0\n",
            "  StochasticDepth-10           [-1, 96, 56, 56]               0\n",
            "          CNBlock-11           [-1, 96, 56, 56]               0\n",
            "           Conv2d-12           [-1, 96, 56, 56]           4,800\n",
            "          Permute-13           [-1, 56, 56, 96]               0\n",
            "        LayerNorm-14           [-1, 56, 56, 96]             192\n",
            "           Linear-15          [-1, 56, 56, 384]          37,248\n",
            "             GELU-16          [-1, 56, 56, 384]               0\n",
            "           Linear-17           [-1, 56, 56, 96]          36,960\n",
            "          Permute-18           [-1, 96, 56, 56]               0\n",
            "  StochasticDepth-19           [-1, 96, 56, 56]               0\n",
            "          CNBlock-20           [-1, 96, 56, 56]               0\n",
            "           Conv2d-21           [-1, 96, 56, 56]           4,800\n",
            "          Permute-22           [-1, 56, 56, 96]               0\n",
            "        LayerNorm-23           [-1, 56, 56, 96]             192\n",
            "           Linear-24          [-1, 56, 56, 384]          37,248\n",
            "             GELU-25          [-1, 56, 56, 384]               0\n",
            "           Linear-26           [-1, 56, 56, 96]          36,960\n",
            "          Permute-27           [-1, 96, 56, 56]               0\n",
            "  StochasticDepth-28           [-1, 96, 56, 56]               0\n",
            "          CNBlock-29           [-1, 96, 56, 56]               0\n",
            "      LayerNorm2d-30           [-1, 96, 56, 56]             192\n",
            "           Conv2d-31          [-1, 192, 28, 28]          73,920\n",
            "           Conv2d-32          [-1, 192, 28, 28]           9,600\n",
            "          Permute-33          [-1, 28, 28, 192]               0\n",
            "        LayerNorm-34          [-1, 28, 28, 192]             384\n",
            "           Linear-35          [-1, 28, 28, 768]         148,224\n",
            "             GELU-36          [-1, 28, 28, 768]               0\n",
            "           Linear-37          [-1, 28, 28, 192]         147,648\n",
            "          Permute-38          [-1, 192, 28, 28]               0\n",
            "  StochasticDepth-39          [-1, 192, 28, 28]               0\n",
            "          CNBlock-40          [-1, 192, 28, 28]               0\n",
            "           Conv2d-41          [-1, 192, 28, 28]           9,600\n",
            "          Permute-42          [-1, 28, 28, 192]               0\n",
            "        LayerNorm-43          [-1, 28, 28, 192]             384\n",
            "           Linear-44          [-1, 28, 28, 768]         148,224\n",
            "             GELU-45          [-1, 28, 28, 768]               0\n",
            "           Linear-46          [-1, 28, 28, 192]         147,648\n",
            "          Permute-47          [-1, 192, 28, 28]               0\n",
            "  StochasticDepth-48          [-1, 192, 28, 28]               0\n",
            "          CNBlock-49          [-1, 192, 28, 28]               0\n",
            "           Conv2d-50          [-1, 192, 28, 28]           9,600\n",
            "          Permute-51          [-1, 28, 28, 192]               0\n",
            "        LayerNorm-52          [-1, 28, 28, 192]             384\n",
            "           Linear-53          [-1, 28, 28, 768]         148,224\n",
            "             GELU-54          [-1, 28, 28, 768]               0\n",
            "           Linear-55          [-1, 28, 28, 192]         147,648\n",
            "          Permute-56          [-1, 192, 28, 28]               0\n",
            "  StochasticDepth-57          [-1, 192, 28, 28]               0\n",
            "          CNBlock-58          [-1, 192, 28, 28]               0\n",
            "      LayerNorm2d-59          [-1, 192, 28, 28]             384\n",
            "           Conv2d-60          [-1, 384, 14, 14]         295,296\n",
            "           Conv2d-61          [-1, 384, 14, 14]          19,200\n",
            "          Permute-62          [-1, 14, 14, 384]               0\n",
            "        LayerNorm-63          [-1, 14, 14, 384]             768\n",
            "           Linear-64         [-1, 14, 14, 1536]         591,360\n",
            "             GELU-65         [-1, 14, 14, 1536]               0\n",
            "           Linear-66          [-1, 14, 14, 384]         590,208\n",
            "          Permute-67          [-1, 384, 14, 14]               0\n",
            "  StochasticDepth-68          [-1, 384, 14, 14]               0\n",
            "          CNBlock-69          [-1, 384, 14, 14]               0\n",
            "           Conv2d-70          [-1, 384, 14, 14]          19,200\n",
            "          Permute-71          [-1, 14, 14, 384]               0\n",
            "        LayerNorm-72          [-1, 14, 14, 384]             768\n",
            "           Linear-73         [-1, 14, 14, 1536]         591,360\n",
            "             GELU-74         [-1, 14, 14, 1536]               0\n",
            "           Linear-75          [-1, 14, 14, 384]         590,208\n",
            "          Permute-76          [-1, 384, 14, 14]               0\n",
            "  StochasticDepth-77          [-1, 384, 14, 14]               0\n",
            "          CNBlock-78          [-1, 384, 14, 14]               0\n",
            "           Conv2d-79          [-1, 384, 14, 14]          19,200\n",
            "          Permute-80          [-1, 14, 14, 384]               0\n",
            "        LayerNorm-81          [-1, 14, 14, 384]             768\n",
            "           Linear-82         [-1, 14, 14, 1536]         591,360\n",
            "             GELU-83         [-1, 14, 14, 1536]               0\n",
            "           Linear-84          [-1, 14, 14, 384]         590,208\n",
            "          Permute-85          [-1, 384, 14, 14]               0\n",
            "  StochasticDepth-86          [-1, 384, 14, 14]               0\n",
            "          CNBlock-87          [-1, 384, 14, 14]               0\n",
            "           Conv2d-88          [-1, 384, 14, 14]          19,200\n",
            "          Permute-89          [-1, 14, 14, 384]               0\n",
            "        LayerNorm-90          [-1, 14, 14, 384]             768\n",
            "           Linear-91         [-1, 14, 14, 1536]         591,360\n",
            "             GELU-92         [-1, 14, 14, 1536]               0\n",
            "           Linear-93          [-1, 14, 14, 384]         590,208\n",
            "          Permute-94          [-1, 384, 14, 14]               0\n",
            "  StochasticDepth-95          [-1, 384, 14, 14]               0\n",
            "          CNBlock-96          [-1, 384, 14, 14]               0\n",
            "           Conv2d-97          [-1, 384, 14, 14]          19,200\n",
            "          Permute-98          [-1, 14, 14, 384]               0\n",
            "        LayerNorm-99          [-1, 14, 14, 384]             768\n",
            "          Linear-100         [-1, 14, 14, 1536]         591,360\n",
            "            GELU-101         [-1, 14, 14, 1536]               0\n",
            "          Linear-102          [-1, 14, 14, 384]         590,208\n",
            "         Permute-103          [-1, 384, 14, 14]               0\n",
            " StochasticDepth-104          [-1, 384, 14, 14]               0\n",
            "         CNBlock-105          [-1, 384, 14, 14]               0\n",
            "          Conv2d-106          [-1, 384, 14, 14]          19,200\n",
            "         Permute-107          [-1, 14, 14, 384]               0\n",
            "       LayerNorm-108          [-1, 14, 14, 384]             768\n",
            "          Linear-109         [-1, 14, 14, 1536]         591,360\n",
            "            GELU-110         [-1, 14, 14, 1536]               0\n",
            "          Linear-111          [-1, 14, 14, 384]         590,208\n",
            "         Permute-112          [-1, 384, 14, 14]               0\n",
            " StochasticDepth-113          [-1, 384, 14, 14]               0\n",
            "         CNBlock-114          [-1, 384, 14, 14]               0\n",
            "          Conv2d-115          [-1, 384, 14, 14]          19,200\n",
            "         Permute-116          [-1, 14, 14, 384]               0\n",
            "       LayerNorm-117          [-1, 14, 14, 384]             768\n",
            "          Linear-118         [-1, 14, 14, 1536]         591,360\n",
            "            GELU-119         [-1, 14, 14, 1536]               0\n",
            "          Linear-120          [-1, 14, 14, 384]         590,208\n",
            "         Permute-121          [-1, 384, 14, 14]               0\n",
            " StochasticDepth-122          [-1, 384, 14, 14]               0\n",
            "         CNBlock-123          [-1, 384, 14, 14]               0\n",
            "          Conv2d-124          [-1, 384, 14, 14]          19,200\n",
            "         Permute-125          [-1, 14, 14, 384]               0\n",
            "       LayerNorm-126          [-1, 14, 14, 384]             768\n",
            "          Linear-127         [-1, 14, 14, 1536]         591,360\n",
            "            GELU-128         [-1, 14, 14, 1536]               0\n",
            "          Linear-129          [-1, 14, 14, 384]         590,208\n",
            "         Permute-130          [-1, 384, 14, 14]               0\n",
            " StochasticDepth-131          [-1, 384, 14, 14]               0\n",
            "         CNBlock-132          [-1, 384, 14, 14]               0\n",
            "          Conv2d-133          [-1, 384, 14, 14]          19,200\n",
            "         Permute-134          [-1, 14, 14, 384]               0\n",
            "       LayerNorm-135          [-1, 14, 14, 384]             768\n",
            "          Linear-136         [-1, 14, 14, 1536]         591,360\n",
            "            GELU-137         [-1, 14, 14, 1536]               0\n",
            "          Linear-138          [-1, 14, 14, 384]         590,208\n",
            "         Permute-139          [-1, 384, 14, 14]               0\n",
            " StochasticDepth-140          [-1, 384, 14, 14]               0\n",
            "         CNBlock-141          [-1, 384, 14, 14]               0\n",
            "     LayerNorm2d-142          [-1, 384, 14, 14]             768\n",
            "          Conv2d-143            [-1, 768, 7, 7]       1,180,416\n",
            "          Conv2d-144            [-1, 768, 7, 7]          38,400\n",
            "         Permute-145            [-1, 7, 7, 768]               0\n",
            "       LayerNorm-146            [-1, 7, 7, 768]           1,536\n",
            "          Linear-147           [-1, 7, 7, 3072]       2,362,368\n",
            "            GELU-148           [-1, 7, 7, 3072]               0\n",
            "          Linear-149            [-1, 7, 7, 768]       2,360,064\n",
            "         Permute-150            [-1, 768, 7, 7]               0\n",
            " StochasticDepth-151            [-1, 768, 7, 7]               0\n",
            "         CNBlock-152            [-1, 768, 7, 7]               0\n",
            "          Conv2d-153            [-1, 768, 7, 7]          38,400\n",
            "         Permute-154            [-1, 7, 7, 768]               0\n",
            "       LayerNorm-155            [-1, 7, 7, 768]           1,536\n",
            "          Linear-156           [-1, 7, 7, 3072]       2,362,368\n",
            "            GELU-157           [-1, 7, 7, 3072]               0\n",
            "          Linear-158            [-1, 7, 7, 768]       2,360,064\n",
            "         Permute-159            [-1, 768, 7, 7]               0\n",
            " StochasticDepth-160            [-1, 768, 7, 7]               0\n",
            "         CNBlock-161            [-1, 768, 7, 7]               0\n",
            "          Conv2d-162            [-1, 768, 7, 7]          38,400\n",
            "         Permute-163            [-1, 7, 7, 768]               0\n",
            "       LayerNorm-164            [-1, 7, 7, 768]           1,536\n",
            "          Linear-165           [-1, 7, 7, 3072]       2,362,368\n",
            "            GELU-166           [-1, 7, 7, 3072]               0\n",
            "          Linear-167            [-1, 7, 7, 768]       2,360,064\n",
            "         Permute-168            [-1, 768, 7, 7]               0\n",
            " StochasticDepth-169            [-1, 768, 7, 7]               0\n",
            "         CNBlock-170            [-1, 768, 7, 7]               0\n",
            "AdaptiveAvgPool2d-171            [-1, 768, 1, 1]               0\n",
            "     LayerNorm2d-172            [-1, 768, 1, 1]           1,536\n",
            "         Flatten-173                  [-1, 768]               0\n",
            "          Linear-174                    [-1, 3]           2,307\n",
            "================================================================\n",
            "Total params: 27,815,811\n",
            "Trainable params: 27,815,811\n",
            "Non-trainable params: 0\n",
            "----------------------------------------------------------------\n",
            "Input size (MB): 0.57\n",
            "Forward/backward pass size (MB): 256.12\n",
            "Params size (MB): 106.11\n",
            "Estimated Total Size (MB): 362.80\n",
            "----------------------------------------------------------------\n",
            "=== Crack Multi-label Classifier ===\n",
            "----------------------------------------------------------------\n",
            "        Layer (type)               Output Shape         Param #\n",
            "================================================================\n",
            "            Conv2d-1           [-1, 96, 56, 56]           4,704\n",
            "       LayerNorm2d-2           [-1, 96, 56, 56]             192\n",
            "            Conv2d-3           [-1, 96, 56, 56]           4,800\n",
            "           Permute-4           [-1, 56, 56, 96]               0\n",
            "         LayerNorm-5           [-1, 56, 56, 96]             192\n",
            "            Linear-6          [-1, 56, 56, 384]          37,248\n",
            "              GELU-7          [-1, 56, 56, 384]               0\n",
            "            Linear-8           [-1, 56, 56, 96]          36,960\n",
            "           Permute-9           [-1, 96, 56, 56]               0\n",
            "  StochasticDepth-10           [-1, 96, 56, 56]               0\n",
            "          CNBlock-11           [-1, 96, 56, 56]               0\n",
            "           Conv2d-12           [-1, 96, 56, 56]           4,800\n",
            "          Permute-13           [-1, 56, 56, 96]               0\n",
            "        LayerNorm-14           [-1, 56, 56, 96]             192\n",
            "           Linear-15          [-1, 56, 56, 384]          37,248\n",
            "             GELU-16          [-1, 56, 56, 384]               0\n",
            "           Linear-17           [-1, 56, 56, 96]          36,960\n",
            "          Permute-18           [-1, 96, 56, 56]               0\n",
            "  StochasticDepth-19           [-1, 96, 56, 56]               0\n",
            "          CNBlock-20           [-1, 96, 56, 56]               0\n",
            "           Conv2d-21           [-1, 96, 56, 56]           4,800\n",
            "          Permute-22           [-1, 56, 56, 96]               0\n",
            "        LayerNorm-23           [-1, 56, 56, 96]             192\n",
            "           Linear-24          [-1, 56, 56, 384]          37,248\n",
            "             GELU-25          [-1, 56, 56, 384]               0\n",
            "           Linear-26           [-1, 56, 56, 96]          36,960\n",
            "          Permute-27           [-1, 96, 56, 56]               0\n",
            "  StochasticDepth-28           [-1, 96, 56, 56]               0\n",
            "          CNBlock-29           [-1, 96, 56, 56]               0\n",
            "      LayerNorm2d-30           [-1, 96, 56, 56]             192\n",
            "           Conv2d-31          [-1, 192, 28, 28]          73,920\n",
            "           Conv2d-32          [-1, 192, 28, 28]           9,600\n",
            "          Permute-33          [-1, 28, 28, 192]               0\n",
            "        LayerNorm-34          [-1, 28, 28, 192]             384\n",
            "           Linear-35          [-1, 28, 28, 768]         148,224\n",
            "             GELU-36          [-1, 28, 28, 768]               0\n",
            "           Linear-37          [-1, 28, 28, 192]         147,648\n",
            "          Permute-38          [-1, 192, 28, 28]               0\n",
            "  StochasticDepth-39          [-1, 192, 28, 28]               0\n",
            "          CNBlock-40          [-1, 192, 28, 28]               0\n",
            "           Conv2d-41          [-1, 192, 28, 28]           9,600\n",
            "          Permute-42          [-1, 28, 28, 192]               0\n",
            "        LayerNorm-43          [-1, 28, 28, 192]             384\n",
            "           Linear-44          [-1, 28, 28, 768]         148,224\n",
            "             GELU-45          [-1, 28, 28, 768]               0\n",
            "           Linear-46          [-1, 28, 28, 192]         147,648\n",
            "          Permute-47          [-1, 192, 28, 28]               0\n",
            "  StochasticDepth-48          [-1, 192, 28, 28]               0\n",
            "          CNBlock-49          [-1, 192, 28, 28]               0\n",
            "           Conv2d-50          [-1, 192, 28, 28]           9,600\n",
            "          Permute-51          [-1, 28, 28, 192]               0\n",
            "        LayerNorm-52          [-1, 28, 28, 192]             384\n",
            "           Linear-53          [-1, 28, 28, 768]         148,224\n",
            "             GELU-54          [-1, 28, 28, 768]               0\n",
            "           Linear-55          [-1, 28, 28, 192]         147,648\n",
            "          Permute-56          [-1, 192, 28, 28]               0\n",
            "  StochasticDepth-57          [-1, 192, 28, 28]               0\n",
            "          CNBlock-58          [-1, 192, 28, 28]               0\n",
            "      LayerNorm2d-59          [-1, 192, 28, 28]             384\n",
            "           Conv2d-60          [-1, 384, 14, 14]         295,296\n",
            "           Conv2d-61          [-1, 384, 14, 14]          19,200\n",
            "          Permute-62          [-1, 14, 14, 384]               0\n",
            "        LayerNorm-63          [-1, 14, 14, 384]             768\n",
            "           Linear-64         [-1, 14, 14, 1536]         591,360\n",
            "             GELU-65         [-1, 14, 14, 1536]               0\n",
            "           Linear-66          [-1, 14, 14, 384]         590,208\n",
            "          Permute-67          [-1, 384, 14, 14]               0\n",
            "  StochasticDepth-68          [-1, 384, 14, 14]               0\n",
            "          CNBlock-69          [-1, 384, 14, 14]               0\n",
            "           Conv2d-70          [-1, 384, 14, 14]          19,200\n",
            "          Permute-71          [-1, 14, 14, 384]               0\n",
            "        LayerNorm-72          [-1, 14, 14, 384]             768\n",
            "           Linear-73         [-1, 14, 14, 1536]         591,360\n",
            "             GELU-74         [-1, 14, 14, 1536]               0\n",
            "           Linear-75          [-1, 14, 14, 384]         590,208\n",
            "          Permute-76          [-1, 384, 14, 14]               0\n",
            "  StochasticDepth-77          [-1, 384, 14, 14]               0\n",
            "          CNBlock-78          [-1, 384, 14, 14]               0\n",
            "           Conv2d-79          [-1, 384, 14, 14]          19,200\n",
            "          Permute-80          [-1, 14, 14, 384]               0\n",
            "        LayerNorm-81          [-1, 14, 14, 384]             768\n",
            "           Linear-82         [-1, 14, 14, 1536]         591,360\n",
            "             GELU-83         [-1, 14, 14, 1536]               0\n",
            "           Linear-84          [-1, 14, 14, 384]         590,208\n",
            "          Permute-85          [-1, 384, 14, 14]               0\n",
            "  StochasticDepth-86          [-1, 384, 14, 14]               0\n",
            "          CNBlock-87          [-1, 384, 14, 14]               0\n",
            "           Conv2d-88          [-1, 384, 14, 14]          19,200\n",
            "          Permute-89          [-1, 14, 14, 384]               0\n",
            "        LayerNorm-90          [-1, 14, 14, 384]             768\n",
            "           Linear-91         [-1, 14, 14, 1536]         591,360\n",
            "             GELU-92         [-1, 14, 14, 1536]               0\n",
            "           Linear-93          [-1, 14, 14, 384]         590,208\n",
            "          Permute-94          [-1, 384, 14, 14]               0\n",
            "  StochasticDepth-95          [-1, 384, 14, 14]               0\n",
            "          CNBlock-96          [-1, 384, 14, 14]               0\n",
            "           Conv2d-97          [-1, 384, 14, 14]          19,200\n",
            "          Permute-98          [-1, 14, 14, 384]               0\n",
            "        LayerNorm-99          [-1, 14, 14, 384]             768\n",
            "          Linear-100         [-1, 14, 14, 1536]         591,360\n",
            "            GELU-101         [-1, 14, 14, 1536]               0\n",
            "          Linear-102          [-1, 14, 14, 384]         590,208\n",
            "         Permute-103          [-1, 384, 14, 14]               0\n",
            " StochasticDepth-104          [-1, 384, 14, 14]               0\n",
            "         CNBlock-105          [-1, 384, 14, 14]               0\n",
            "          Conv2d-106          [-1, 384, 14, 14]          19,200\n",
            "         Permute-107          [-1, 14, 14, 384]               0\n",
            "       LayerNorm-108          [-1, 14, 14, 384]             768\n",
            "          Linear-109         [-1, 14, 14, 1536]         591,360\n",
            "            GELU-110         [-1, 14, 14, 1536]               0\n",
            "          Linear-111          [-1, 14, 14, 384]         590,208\n",
            "         Permute-112          [-1, 384, 14, 14]               0\n",
            " StochasticDepth-113          [-1, 384, 14, 14]               0\n",
            "         CNBlock-114          [-1, 384, 14, 14]               0\n",
            "          Conv2d-115          [-1, 384, 14, 14]          19,200\n",
            "         Permute-116          [-1, 14, 14, 384]               0\n",
            "       LayerNorm-117          [-1, 14, 14, 384]             768\n",
            "          Linear-118         [-1, 14, 14, 1536]         591,360\n",
            "            GELU-119         [-1, 14, 14, 1536]               0\n",
            "          Linear-120          [-1, 14, 14, 384]         590,208\n",
            "         Permute-121          [-1, 384, 14, 14]               0\n",
            " StochasticDepth-122          [-1, 384, 14, 14]               0\n",
            "         CNBlock-123          [-1, 384, 14, 14]               0\n",
            "          Conv2d-124          [-1, 384, 14, 14]          19,200\n",
            "         Permute-125          [-1, 14, 14, 384]               0\n",
            "       LayerNorm-126          [-1, 14, 14, 384]             768\n",
            "          Linear-127         [-1, 14, 14, 1536]         591,360\n",
            "            GELU-128         [-1, 14, 14, 1536]               0\n",
            "          Linear-129          [-1, 14, 14, 384]         590,208\n",
            "         Permute-130          [-1, 384, 14, 14]               0\n",
            " StochasticDepth-131          [-1, 384, 14, 14]               0\n",
            "         CNBlock-132          [-1, 384, 14, 14]               0\n",
            "          Conv2d-133          [-1, 384, 14, 14]          19,200\n",
            "         Permute-134          [-1, 14, 14, 384]               0\n",
            "       LayerNorm-135          [-1, 14, 14, 384]             768\n",
            "          Linear-136         [-1, 14, 14, 1536]         591,360\n",
            "            GELU-137         [-1, 14, 14, 1536]               0\n",
            "          Linear-138          [-1, 14, 14, 384]         590,208\n",
            "         Permute-139          [-1, 384, 14, 14]               0\n",
            " StochasticDepth-140          [-1, 384, 14, 14]               0\n",
            "         CNBlock-141          [-1, 384, 14, 14]               0\n",
            "     LayerNorm2d-142          [-1, 384, 14, 14]             768\n",
            "          Conv2d-143            [-1, 768, 7, 7]       1,180,416\n",
            "          Conv2d-144            [-1, 768, 7, 7]          38,400\n",
            "         Permute-145            [-1, 7, 7, 768]               0\n",
            "       LayerNorm-146            [-1, 7, 7, 768]           1,536\n",
            "          Linear-147           [-1, 7, 7, 3072]       2,362,368\n",
            "            GELU-148           [-1, 7, 7, 3072]               0\n",
            "          Linear-149            [-1, 7, 7, 768]       2,360,064\n",
            "         Permute-150            [-1, 768, 7, 7]               0\n",
            " StochasticDepth-151            [-1, 768, 7, 7]               0\n",
            "         CNBlock-152            [-1, 768, 7, 7]               0\n",
            "          Conv2d-153            [-1, 768, 7, 7]          38,400\n",
            "         Permute-154            [-1, 7, 7, 768]               0\n",
            "       LayerNorm-155            [-1, 7, 7, 768]           1,536\n",
            "          Linear-156           [-1, 7, 7, 3072]       2,362,368\n",
            "            GELU-157           [-1, 7, 7, 3072]               0\n",
            "          Linear-158            [-1, 7, 7, 768]       2,360,064\n",
            "         Permute-159            [-1, 768, 7, 7]               0\n",
            " StochasticDepth-160            [-1, 768, 7, 7]               0\n",
            "         CNBlock-161            [-1, 768, 7, 7]               0\n",
            "          Conv2d-162            [-1, 768, 7, 7]          38,400\n",
            "         Permute-163            [-1, 7, 7, 768]               0\n",
            "       LayerNorm-164            [-1, 7, 7, 768]           1,536\n",
            "          Linear-165           [-1, 7, 7, 3072]       2,362,368\n",
            "            GELU-166           [-1, 7, 7, 3072]               0\n",
            "          Linear-167            [-1, 7, 7, 768]       2,360,064\n",
            "         Permute-168            [-1, 768, 7, 7]               0\n",
            " StochasticDepth-169            [-1, 768, 7, 7]               0\n",
            "         CNBlock-170            [-1, 768, 7, 7]               0\n",
            "AdaptiveAvgPool2d-171            [-1, 768, 1, 1]               0\n",
            "     LayerNorm2d-172            [-1, 768, 1, 1]           1,536\n",
            "         Flatten-173                  [-1, 768]               0\n",
            "          Linear-174                   [-1, 10]           7,690\n",
            "================================================================\n",
            "Total params: 27,821,194\n",
            "Trainable params: 27,821,194\n",
            "Non-trainable params: 0\n",
            "----------------------------------------------------------------\n",
            "Input size (MB): 0.57\n",
            "Forward/backward pass size (MB): 256.12\n",
            "Params size (MB): 106.13\n",
            "Estimated Total Size (MB): 362.82\n",
            "----------------------------------------------------------------\n"
          ]
        }
      ],
      "source": [
        "# === Network 1 → Damage level classification ===\n",
        "model_damage = models.convnext_tiny(pretrained=True)\n",
        "num_damage_classes = 3  # You have 3 classes\n",
        "\n",
        "model_damage.classifier[2] = nn.Linear(model_damage.classifier[2].in_features, num_damage_classes)  # 3 classes\n",
        "model_damage = model_damage.to(device)\n",
        "\n",
        "# Print summary for sanity check\n",
        "print(\"=== Damage Level Classifier ===\")\n",
        "summary(model_damage, (3, 224, 224))\n",
        "\n",
        "# === Network 2 → Crack multi-label classification ===\n",
        "model_crack = models.convnext_tiny(pretrained=True)\n",
        "num_crack_classes = 10  # You have 0-10 → 11 classes total\n",
        "\n",
        "model_crack.classifier[2] = nn.Linear(model_crack.classifier[2].in_features, num_crack_classes)\n",
        "# Note: no need to add sigmoid here → use BCEWithLogitsLoss → sigmoid is applied inside loss\n",
        "model_crack = model_crack.to(device)\n",
        "\n",
        "# Print summary\n",
        "print(\"=== Crack Multi-label Classifier ===\")\n",
        "summary(model_crack, (3, 224, 224))\n",
        "\n",
        "\n",
        "num_classes = 10\n",
        "models_crack = []\n",
        "optimizers = []\n",
        "\n",
        "for i in range(num_classes):\n",
        "    model = models.convnext_tiny(pretrained=True)\n",
        "    model.classifier[2] = nn.Linear(model.classifier[2].in_features, 1)  # binary output\n",
        "    model = model.to(device)\n",
        "\n",
        "    optimizer = torch.optim.Adam(model.parameters(), lr=1e-4, weight_decay=1e-4)\n",
        "\n",
        "    models_crack.append(model)\n",
        "    optimizers.append(optimizer)\n"
      ]
    },
    {
      "cell_type": "markdown",
      "metadata": {
        "id": "JMbhBDf8v6gz"
      },
      "source": [
        "Model training"
      ]
    },
    {
      "cell_type": "code",
      "execution_count": 15,
      "metadata": {
        "id": "vtps--dTv6gz"
      },
      "outputs": [],
      "source": [
        "def train(model, trainloader, valloader, optimizer, device,\n",
        "          epochs=10, mode='single', patience=5):\n",
        "\n",
        "    # Select loss based on mode\n",
        "    if mode == 'single':\n",
        "        criterion = nn.CrossEntropyLoss()\n",
        "    elif mode == 'multi':\n",
        "        criterion = nn.BCEWithLogitsLoss()\n",
        "    else:\n",
        "        raise ValueError(f\"Unsupported mode: {mode}\")\n",
        "\n",
        "    scheduler = optim.lr_scheduler.ReduceLROnPlateau(\n",
        "        optimizer, mode='min', factor=0.5, patience=2, verbose=True)\n",
        "\n",
        "    # For early stopping\n",
        "    best_val_loss = float('inf')\n",
        "    patience_counter = 0\n",
        "\n",
        "    # Lists for plotting\n",
        "    train_losses = []\n",
        "    train_accuracies = []\n",
        "    val_losses = []\n",
        "    val_accuracies = []\n",
        "\n",
        "    # Training loop\n",
        "    for epoch in range(epochs):\n",
        "        # Training phase\n",
        "        model.train()\n",
        "        running_loss = 0.0\n",
        "        correct = 0\n",
        "        total = 0\n",
        "\n",
        "        loop = tqdm(enumerate(trainloader), total=len(trainloader), leave=True)\n",
        "        for i, data in loop:\n",
        "            inputs, labels = data\n",
        "            inputs = inputs.to(device)\n",
        "            labels = labels.to(device)\n",
        "\n",
        "            # Multi-label needs labels as float\n",
        "            if mode == 'multi':\n",
        "                labels = labels.float()\n",
        "\n",
        "            optimizer.zero_grad()\n",
        "            outputs = model(inputs)\n",
        "            loss = criterion(outputs, labels)\n",
        "            loss.backward()\n",
        "            optimizer.step()\n",
        "\n",
        "            # Accuracy calculation\n",
        "            if mode == 'single':\n",
        "                _, predicted = torch.max(outputs.data, 1)\n",
        "                total += labels.size(0)\n",
        "                correct += (predicted == labels).sum().item()\n",
        "            elif mode == 'multi':\n",
        "                # Multi-label accuracy: threshold 0.5 → compare with ground truth\n",
        "                preds = (torch.sigmoid(outputs) > 0.5).float()\n",
        "                total += labels.numel()\n",
        "                correct += (preds == labels).sum().item()\n",
        "\n",
        "            running_loss += loss.item()\n",
        "\n",
        "            # Update progress bar\n",
        "            loop.set_description(f\"Epoch [{epoch+1}/{epochs}]\")\n",
        "            loop.set_postfix(loss=running_loss/(i+1), accuracy=100.*correct/total)\n",
        "\n",
        "        # Training stats\n",
        "        epoch_train_loss = running_loss / len(trainloader)\n",
        "        epoch_train_acc = 100. * correct / total\n",
        "        train_losses.append(epoch_train_loss)\n",
        "        train_accuracies.append(epoch_train_acc)\n",
        "\n",
        "        # Validation phase\n",
        "        model.eval()\n",
        "        val_running_loss = 0.0\n",
        "        val_correct = 0\n",
        "        val_total = 0\n",
        "\n",
        "        with torch.no_grad():\n",
        "            for data in valloader:\n",
        "                images, labels = data\n",
        "                images = images.to(device)\n",
        "                labels = labels.to(device)\n",
        "\n",
        "                if mode == 'multi':\n",
        "                    labels = labels.float()\n",
        "\n",
        "                outputs = model(images)\n",
        "                loss = criterion(outputs, labels)\n",
        "                val_running_loss += loss.item()\n",
        "\n",
        "                if mode == 'single':\n",
        "                    _, predicted = torch.max(outputs.data, 1)\n",
        "                    val_total += labels.size(0)\n",
        "                    val_correct += (predicted == labels).sum().item()\n",
        "                elif mode == 'multi':\n",
        "                    preds = (torch.sigmoid(outputs) > 0.5).float()\n",
        "                    val_total += labels.numel()\n",
        "                    val_correct += (preds == labels).sum().item()\n",
        "\n",
        "        # Validation stats\n",
        "        epoch_val_loss = val_running_loss / len(valloader)\n",
        "        scheduler.step(epoch_val_loss)\n",
        "        epoch_val_acc = 100. * val_correct / val_total\n",
        "        val_losses.append(epoch_val_loss)\n",
        "        val_accuracies.append(epoch_val_acc)\n",
        "\n",
        "        print(f\"Epoch {epoch+1}/{epochs}\")\n",
        "        print(f\"Train Loss: {epoch_train_loss:.4f}, Train Acc: {epoch_train_acc:.2f}%\")\n",
        "        print(f\"Val Loss: {epoch_val_loss:.4f}, Val Acc: {epoch_val_acc:.2f}%\")\n",
        "        print(\"-\" * 60)\n",
        "\n",
        "        # Early stopping\n",
        "        if epoch_val_loss < best_val_loss:\n",
        "            best_val_loss = epoch_val_loss\n",
        "            patience_counter = 0\n",
        "            print(f\"  → New best val loss: {best_val_loss:.4f}. Saving model checkpoint.\")\n",
        "            torch.save(model.state_dict(), f'best_model_{mode}.pth')\n",
        "        else:\n",
        "            patience_counter += 1\n",
        "            print(f\"No improvement. Patience counter: {patience_counter}/{patience}\")\n",
        "\n",
        "        if patience_counter >= patience:\n",
        "            print(\"Early stopping triggered!\")\n",
        "            break\n",
        "\n",
        "    print('Finished Training')\n",
        "\n",
        "    return model, train_losses, train_accuracies, val_losses, val_accuracies\n"
      ]
    },
    {
      "cell_type": "code",
      "source": [
        "# === Stage 1: Freeze backbone, train classifier ===\n",
        "\n",
        "# Freeze backbone\n",
        "for param in model_damage.features.parameters():\n",
        "    param.requires_grad = False\n",
        "\n",
        "# Optimizer — only optimize classifier head\n",
        "optimizer = optim.Adam(model_damage.classifier.parameters(), lr=1e-3, weight_decay=1e-4)\n",
        "\n",
        "# Train model (only head)\n",
        "train(model_damage, damage_train_loader, damage_validation_loader, optimizer, device, epochs=50, mode='single')\n",
        "\n",
        "# === Stage 2: Unfreeze backbone, fine-tune full model ===\n",
        "\n",
        "# Unfreeze backbone\n",
        "for param in model_damage.features.parameters():\n",
        "    param.requires_grad = True\n",
        "\n",
        "# Optimizer — now optimize ALL parameters (backbone + classifier)\n",
        "optimizer = optim.Adam(model_damage.parameters(), lr=1e-4, weight_decay=1e-4)  # smaller LR for fine-tuning\n",
        "\n",
        "# Train model again (fine-tune full model)\n",
        "train(model_damage, damage_train_loader, damage_validation_loader, optimizer, device, epochs=50, mode='single')\n"
      ],
      "metadata": {
        "colab": {
          "base_uri": "https://localhost:8080/"
        },
        "id": "1RC0xmFN3CwM",
        "outputId": "c5c134b6-8c5d-489c-f893-05b76e77077f"
      },
      "execution_count": 20,
      "outputs": [
        {
          "output_type": "stream",
          "name": "stderr",
          "text": [
            "Epoch [1/50]: 100%|██████████| 15/15 [00:11<00:00,  1.28it/s, accuracy=57.6, loss=0.932]\n"
          ]
        },
        {
          "output_type": "stream",
          "name": "stdout",
          "text": [
            "Epoch 1/50\n",
            "Train Loss: 0.9318, Train Acc: 57.56%\n",
            "Val Loss: 0.8455, Val Acc: 64.10%\n",
            "------------------------------------------------------------\n",
            "  → New best val loss: 0.8455. Saving model checkpoint.\n"
          ]
        },
        {
          "output_type": "stream",
          "name": "stderr",
          "text": [
            "Epoch [2/50]: 100%|██████████| 15/15 [00:11<00:00,  1.27it/s, accuracy=79.5, loss=0.617]\n"
          ]
        },
        {
          "output_type": "stream",
          "name": "stdout",
          "text": [
            "Epoch 2/50\n",
            "Train Loss: 0.6171, Train Acc: 79.53%\n",
            "Val Loss: 0.7515, Val Acc: 64.10%\n",
            "------------------------------------------------------------\n",
            "  → New best val loss: 0.7515. Saving model checkpoint.\n"
          ]
        },
        {
          "output_type": "stream",
          "name": "stderr",
          "text": [
            "Epoch [3/50]: 100%|██████████| 15/15 [00:11<00:00,  1.26it/s, accuracy=81.7, loss=0.514]\n"
          ]
        },
        {
          "output_type": "stream",
          "name": "stdout",
          "text": [
            "Epoch 3/50\n",
            "Train Loss: 0.5144, Train Acc: 81.67%\n",
            "Val Loss: 0.6185, Val Acc: 71.79%\n",
            "------------------------------------------------------------\n",
            "  → New best val loss: 0.6185. Saving model checkpoint.\n"
          ]
        },
        {
          "output_type": "stream",
          "name": "stderr",
          "text": [
            "Epoch [4/50]: 100%|██████████| 15/15 [00:11<00:00,  1.26it/s, accuracy=84.8, loss=0.444]\n"
          ]
        },
        {
          "output_type": "stream",
          "name": "stdout",
          "text": [
            "Epoch 4/50\n",
            "Train Loss: 0.4437, Train Acc: 84.78%\n",
            "Val Loss: 0.6820, Val Acc: 70.51%\n",
            "------------------------------------------------------------\n",
            "No improvement. Patience counter: 1/5\n"
          ]
        },
        {
          "output_type": "stream",
          "name": "stderr",
          "text": [
            "Epoch [5/50]: 100%|██████████| 15/15 [00:11<00:00,  1.33it/s, accuracy=86.2, loss=0.395]\n"
          ]
        },
        {
          "output_type": "stream",
          "name": "stdout",
          "text": [
            "Epoch 5/50\n",
            "Train Loss: 0.3947, Train Acc: 86.17%\n",
            "Val Loss: 0.6265, Val Acc: 71.79%\n",
            "------------------------------------------------------------\n",
            "No improvement. Patience counter: 2/5\n"
          ]
        },
        {
          "output_type": "stream",
          "name": "stderr",
          "text": [
            "Epoch [6/50]: 100%|██████████| 15/15 [00:11<00:00,  1.36it/s, accuracy=88.4, loss=0.361]\n"
          ]
        },
        {
          "output_type": "stream",
          "name": "stdout",
          "text": [
            "Epoch 6/50\n",
            "Train Loss: 0.3608, Train Acc: 88.42%\n",
            "Val Loss: 0.6682, Val Acc: 74.36%\n",
            "------------------------------------------------------------\n",
            "No improvement. Patience counter: 3/5\n"
          ]
        },
        {
          "output_type": "stream",
          "name": "stderr",
          "text": [
            "Epoch [7/50]: 100%|██████████| 15/15 [00:11<00:00,  1.33it/s, accuracy=88.1, loss=0.349]\n"
          ]
        },
        {
          "output_type": "stream",
          "name": "stdout",
          "text": [
            "Epoch 7/50\n",
            "Train Loss: 0.3486, Train Acc: 88.10%\n",
            "Val Loss: 0.7857, Val Acc: 74.36%\n",
            "------------------------------------------------------------\n",
            "No improvement. Patience counter: 4/5\n"
          ]
        },
        {
          "output_type": "stream",
          "name": "stderr",
          "text": [
            "Epoch [8/50]: 100%|██████████| 15/15 [00:11<00:00,  1.30it/s, accuracy=89.1, loss=0.334]\n"
          ]
        },
        {
          "output_type": "stream",
          "name": "stdout",
          "text": [
            "Epoch 8/50\n",
            "Train Loss: 0.3342, Train Acc: 89.07%\n",
            "Val Loss: 0.5971, Val Acc: 76.92%\n",
            "------------------------------------------------------------\n",
            "  → New best val loss: 0.5971. Saving model checkpoint.\n"
          ]
        },
        {
          "output_type": "stream",
          "name": "stderr",
          "text": [
            "Epoch [9/50]: 100%|██████████| 15/15 [00:11<00:00,  1.28it/s, accuracy=90.2, loss=0.319]\n"
          ]
        },
        {
          "output_type": "stream",
          "name": "stdout",
          "text": [
            "Epoch 9/50\n",
            "Train Loss: 0.3187, Train Acc: 90.25%\n",
            "Val Loss: 0.5384, Val Acc: 76.92%\n",
            "------------------------------------------------------------\n",
            "  → New best val loss: 0.5384. Saving model checkpoint.\n"
          ]
        },
        {
          "output_type": "stream",
          "name": "stderr",
          "text": [
            "Epoch [10/50]: 100%|██████████| 15/15 [00:12<00:00,  1.24it/s, accuracy=90.1, loss=0.322]\n"
          ]
        },
        {
          "output_type": "stream",
          "name": "stdout",
          "text": [
            "Epoch 10/50\n",
            "Train Loss: 0.3221, Train Acc: 90.14%\n",
            "Val Loss: 0.5255, Val Acc: 78.21%\n",
            "------------------------------------------------------------\n",
            "  → New best val loss: 0.5255. Saving model checkpoint.\n"
          ]
        },
        {
          "output_type": "stream",
          "name": "stderr",
          "text": [
            "Epoch [11/50]: 100%|██████████| 15/15 [00:11<00:00,  1.26it/s, accuracy=90.2, loss=0.304]\n"
          ]
        },
        {
          "output_type": "stream",
          "name": "stdout",
          "text": [
            "Epoch 11/50\n",
            "Train Loss: 0.3043, Train Acc: 90.25%\n",
            "Val Loss: 0.4493, Val Acc: 78.21%\n",
            "------------------------------------------------------------\n",
            "  → New best val loss: 0.4493. Saving model checkpoint.\n"
          ]
        },
        {
          "output_type": "stream",
          "name": "stderr",
          "text": [
            "Epoch [12/50]: 100%|██████████| 15/15 [00:11<00:00,  1.27it/s, accuracy=90.4, loss=0.309]\n"
          ]
        },
        {
          "output_type": "stream",
          "name": "stdout",
          "text": [
            "Epoch 12/50\n",
            "Train Loss: 0.3089, Train Acc: 90.35%\n",
            "Val Loss: 0.7102, Val Acc: 78.21%\n",
            "------------------------------------------------------------\n",
            "No improvement. Patience counter: 1/5\n"
          ]
        },
        {
          "output_type": "stream",
          "name": "stderr",
          "text": [
            "Epoch [13/50]: 100%|██████████| 15/15 [00:11<00:00,  1.31it/s, accuracy=90.6, loss=0.287]\n"
          ]
        },
        {
          "output_type": "stream",
          "name": "stdout",
          "text": [
            "Epoch 13/50\n",
            "Train Loss: 0.2866, Train Acc: 90.57%\n",
            "Val Loss: 0.6800, Val Acc: 78.21%\n",
            "------------------------------------------------------------\n",
            "No improvement. Patience counter: 2/5\n"
          ]
        },
        {
          "output_type": "stream",
          "name": "stderr",
          "text": [
            "Epoch [14/50]: 100%|██████████| 15/15 [00:11<00:00,  1.31it/s, accuracy=90.5, loss=0.296]\n"
          ]
        },
        {
          "output_type": "stream",
          "name": "stdout",
          "text": [
            "Epoch 14/50\n",
            "Train Loss: 0.2958, Train Acc: 90.46%\n",
            "Val Loss: 0.6905, Val Acc: 79.49%\n",
            "------------------------------------------------------------\n",
            "No improvement. Patience counter: 3/5\n"
          ]
        },
        {
          "output_type": "stream",
          "name": "stderr",
          "text": [
            "Epoch [15/50]: 100%|██████████| 15/15 [00:11<00:00,  1.31it/s, accuracy=92.1, loss=0.264]\n"
          ]
        },
        {
          "output_type": "stream",
          "name": "stdout",
          "text": [
            "Epoch 15/50\n",
            "Train Loss: 0.2637, Train Acc: 92.07%\n",
            "Val Loss: 0.6526, Val Acc: 78.21%\n",
            "------------------------------------------------------------\n",
            "No improvement. Patience counter: 4/5\n"
          ]
        },
        {
          "output_type": "stream",
          "name": "stderr",
          "text": [
            "Epoch [16/50]: 100%|██████████| 15/15 [00:11<00:00,  1.32it/s, accuracy=91.9, loss=0.269]\n"
          ]
        },
        {
          "output_type": "stream",
          "name": "stdout",
          "text": [
            "Epoch 16/50\n",
            "Train Loss: 0.2688, Train Acc: 91.85%\n",
            "Val Loss: 0.5933, Val Acc: 76.92%\n",
            "------------------------------------------------------------\n",
            "No improvement. Patience counter: 5/5\n",
            "Early stopping triggered!\n",
            "Finished Training\n"
          ]
        },
        {
          "output_type": "stream",
          "name": "stderr",
          "text": [
            "Epoch [1/50]: 100%|██████████| 15/15 [00:21<00:00,  1.46s/it, accuracy=92.6, loss=0.225]\n"
          ]
        },
        {
          "output_type": "stream",
          "name": "stdout",
          "text": [
            "Epoch 1/50\n",
            "Train Loss: 0.2246, Train Acc: 92.60%\n",
            "Val Loss: 0.5760, Val Acc: 87.18%\n",
            "------------------------------------------------------------\n",
            "  → New best val loss: 0.5760. Saving model checkpoint.\n"
          ]
        },
        {
          "output_type": "stream",
          "name": "stderr",
          "text": [
            "Epoch [2/50]: 100%|██████████| 15/15 [00:21<00:00,  1.46s/it, accuracy=98.5, loss=0.0656]\n"
          ]
        },
        {
          "output_type": "stream",
          "name": "stdout",
          "text": [
            "Epoch 2/50\n",
            "Train Loss: 0.0656, Train Acc: 98.50%\n",
            "Val Loss: 0.3082, Val Acc: 87.18%\n",
            "------------------------------------------------------------\n",
            "  → New best val loss: 0.3082. Saving model checkpoint.\n"
          ]
        },
        {
          "output_type": "stream",
          "name": "stderr",
          "text": [
            "Epoch [3/50]: 100%|██████████| 15/15 [00:22<00:00,  1.49s/it, accuracy=99.7, loss=0.023]\n"
          ]
        },
        {
          "output_type": "stream",
          "name": "stdout",
          "text": [
            "Epoch 3/50\n",
            "Train Loss: 0.0230, Train Acc: 99.68%\n",
            "Val Loss: 0.4558, Val Acc: 88.46%\n",
            "------------------------------------------------------------\n",
            "No improvement. Patience counter: 1/5\n"
          ]
        },
        {
          "output_type": "stream",
          "name": "stderr",
          "text": [
            "Epoch [4/50]: 100%|██████████| 15/15 [00:21<00:00,  1.47s/it, accuracy=99.7, loss=0.0123]\n"
          ]
        },
        {
          "output_type": "stream",
          "name": "stdout",
          "text": [
            "Epoch 4/50\n",
            "Train Loss: 0.0123, Train Acc: 99.68%\n",
            "Val Loss: 0.4474, Val Acc: 83.33%\n",
            "------------------------------------------------------------\n",
            "No improvement. Patience counter: 2/5\n"
          ]
        },
        {
          "output_type": "stream",
          "name": "stderr",
          "text": [
            "Epoch [5/50]: 100%|██████████| 15/15 [00:21<00:00,  1.45s/it, accuracy=99.8, loss=0.00905]\n"
          ]
        },
        {
          "output_type": "stream",
          "name": "stdout",
          "text": [
            "Epoch 5/50\n",
            "Train Loss: 0.0090, Train Acc: 99.79%\n",
            "Val Loss: 0.4484, Val Acc: 87.18%\n",
            "------------------------------------------------------------\n",
            "No improvement. Patience counter: 3/5\n"
          ]
        },
        {
          "output_type": "stream",
          "name": "stderr",
          "text": [
            "Epoch [6/50]: 100%|██████████| 15/15 [00:21<00:00,  1.46s/it, accuracy=99.9, loss=0.00512]\n"
          ]
        },
        {
          "output_type": "stream",
          "name": "stdout",
          "text": [
            "Epoch 6/50\n",
            "Train Loss: 0.0051, Train Acc: 99.89%\n",
            "Val Loss: 0.6464, Val Acc: 88.46%\n",
            "------------------------------------------------------------\n",
            "No improvement. Patience counter: 4/5\n"
          ]
        },
        {
          "output_type": "stream",
          "name": "stderr",
          "text": [
            "Epoch [7/50]: 100%|██████████| 15/15 [00:21<00:00,  1.46s/it, accuracy=99.9, loss=0.00627]\n"
          ]
        },
        {
          "output_type": "stream",
          "name": "stdout",
          "text": [
            "Epoch 7/50\n",
            "Train Loss: 0.0063, Train Acc: 99.89%\n",
            "Val Loss: 0.5679, Val Acc: 87.18%\n",
            "------------------------------------------------------------\n",
            "No improvement. Patience counter: 5/5\n",
            "Early stopping triggered!\n",
            "Finished Training\n"
          ]
        },
        {
          "output_type": "execute_result",
          "data": {
            "text/plain": [
              "(ConvNeXt(\n",
              "   (features): Sequential(\n",
              "     (0): Conv2dNormActivation(\n",
              "       (0): Conv2d(3, 96, kernel_size=(4, 4), stride=(4, 4))\n",
              "       (1): LayerNorm2d((96,), eps=1e-06, elementwise_affine=True)\n",
              "     )\n",
              "     (1): Sequential(\n",
              "       (0): CNBlock(\n",
              "         (block): Sequential(\n",
              "           (0): Conv2d(96, 96, kernel_size=(7, 7), stride=(1, 1), padding=(3, 3), groups=96)\n",
              "           (1): Permute()\n",
              "           (2): LayerNorm((96,), eps=1e-06, elementwise_affine=True)\n",
              "           (3): Linear(in_features=96, out_features=384, bias=True)\n",
              "           (4): GELU(approximate='none')\n",
              "           (5): Linear(in_features=384, out_features=96, bias=True)\n",
              "           (6): Permute()\n",
              "         )\n",
              "         (stochastic_depth): StochasticDepth(p=0.0, mode=row)\n",
              "       )\n",
              "       (1): CNBlock(\n",
              "         (block): Sequential(\n",
              "           (0): Conv2d(96, 96, kernel_size=(7, 7), stride=(1, 1), padding=(3, 3), groups=96)\n",
              "           (1): Permute()\n",
              "           (2): LayerNorm((96,), eps=1e-06, elementwise_affine=True)\n",
              "           (3): Linear(in_features=96, out_features=384, bias=True)\n",
              "           (4): GELU(approximate='none')\n",
              "           (5): Linear(in_features=384, out_features=96, bias=True)\n",
              "           (6): Permute()\n",
              "         )\n",
              "         (stochastic_depth): StochasticDepth(p=0.0058823529411764705, mode=row)\n",
              "       )\n",
              "       (2): CNBlock(\n",
              "         (block): Sequential(\n",
              "           (0): Conv2d(96, 96, kernel_size=(7, 7), stride=(1, 1), padding=(3, 3), groups=96)\n",
              "           (1): Permute()\n",
              "           (2): LayerNorm((96,), eps=1e-06, elementwise_affine=True)\n",
              "           (3): Linear(in_features=96, out_features=384, bias=True)\n",
              "           (4): GELU(approximate='none')\n",
              "           (5): Linear(in_features=384, out_features=96, bias=True)\n",
              "           (6): Permute()\n",
              "         )\n",
              "         (stochastic_depth): StochasticDepth(p=0.011764705882352941, mode=row)\n",
              "       )\n",
              "     )\n",
              "     (2): Sequential(\n",
              "       (0): LayerNorm2d((96,), eps=1e-06, elementwise_affine=True)\n",
              "       (1): Conv2d(96, 192, kernel_size=(2, 2), stride=(2, 2))\n",
              "     )\n",
              "     (3): Sequential(\n",
              "       (0): CNBlock(\n",
              "         (block): Sequential(\n",
              "           (0): Conv2d(192, 192, kernel_size=(7, 7), stride=(1, 1), padding=(3, 3), groups=192)\n",
              "           (1): Permute()\n",
              "           (2): LayerNorm((192,), eps=1e-06, elementwise_affine=True)\n",
              "           (3): Linear(in_features=192, out_features=768, bias=True)\n",
              "           (4): GELU(approximate='none')\n",
              "           (5): Linear(in_features=768, out_features=192, bias=True)\n",
              "           (6): Permute()\n",
              "         )\n",
              "         (stochastic_depth): StochasticDepth(p=0.017647058823529415, mode=row)\n",
              "       )\n",
              "       (1): CNBlock(\n",
              "         (block): Sequential(\n",
              "           (0): Conv2d(192, 192, kernel_size=(7, 7), stride=(1, 1), padding=(3, 3), groups=192)\n",
              "           (1): Permute()\n",
              "           (2): LayerNorm((192,), eps=1e-06, elementwise_affine=True)\n",
              "           (3): Linear(in_features=192, out_features=768, bias=True)\n",
              "           (4): GELU(approximate='none')\n",
              "           (5): Linear(in_features=768, out_features=192, bias=True)\n",
              "           (6): Permute()\n",
              "         )\n",
              "         (stochastic_depth): StochasticDepth(p=0.023529411764705882, mode=row)\n",
              "       )\n",
              "       (2): CNBlock(\n",
              "         (block): Sequential(\n",
              "           (0): Conv2d(192, 192, kernel_size=(7, 7), stride=(1, 1), padding=(3, 3), groups=192)\n",
              "           (1): Permute()\n",
              "           (2): LayerNorm((192,), eps=1e-06, elementwise_affine=True)\n",
              "           (3): Linear(in_features=192, out_features=768, bias=True)\n",
              "           (4): GELU(approximate='none')\n",
              "           (5): Linear(in_features=768, out_features=192, bias=True)\n",
              "           (6): Permute()\n",
              "         )\n",
              "         (stochastic_depth): StochasticDepth(p=0.029411764705882353, mode=row)\n",
              "       )\n",
              "     )\n",
              "     (4): Sequential(\n",
              "       (0): LayerNorm2d((192,), eps=1e-06, elementwise_affine=True)\n",
              "       (1): Conv2d(192, 384, kernel_size=(2, 2), stride=(2, 2))\n",
              "     )\n",
              "     (5): Sequential(\n",
              "       (0): CNBlock(\n",
              "         (block): Sequential(\n",
              "           (0): Conv2d(384, 384, kernel_size=(7, 7), stride=(1, 1), padding=(3, 3), groups=384)\n",
              "           (1): Permute()\n",
              "           (2): LayerNorm((384,), eps=1e-06, elementwise_affine=True)\n",
              "           (3): Linear(in_features=384, out_features=1536, bias=True)\n",
              "           (4): GELU(approximate='none')\n",
              "           (5): Linear(in_features=1536, out_features=384, bias=True)\n",
              "           (6): Permute()\n",
              "         )\n",
              "         (stochastic_depth): StochasticDepth(p=0.03529411764705883, mode=row)\n",
              "       )\n",
              "       (1): CNBlock(\n",
              "         (block): Sequential(\n",
              "           (0): Conv2d(384, 384, kernel_size=(7, 7), stride=(1, 1), padding=(3, 3), groups=384)\n",
              "           (1): Permute()\n",
              "           (2): LayerNorm((384,), eps=1e-06, elementwise_affine=True)\n",
              "           (3): Linear(in_features=384, out_features=1536, bias=True)\n",
              "           (4): GELU(approximate='none')\n",
              "           (5): Linear(in_features=1536, out_features=384, bias=True)\n",
              "           (6): Permute()\n",
              "         )\n",
              "         (stochastic_depth): StochasticDepth(p=0.0411764705882353, mode=row)\n",
              "       )\n",
              "       (2): CNBlock(\n",
              "         (block): Sequential(\n",
              "           (0): Conv2d(384, 384, kernel_size=(7, 7), stride=(1, 1), padding=(3, 3), groups=384)\n",
              "           (1): Permute()\n",
              "           (2): LayerNorm((384,), eps=1e-06, elementwise_affine=True)\n",
              "           (3): Linear(in_features=384, out_features=1536, bias=True)\n",
              "           (4): GELU(approximate='none')\n",
              "           (5): Linear(in_features=1536, out_features=384, bias=True)\n",
              "           (6): Permute()\n",
              "         )\n",
              "         (stochastic_depth): StochasticDepth(p=0.047058823529411764, mode=row)\n",
              "       )\n",
              "       (3): CNBlock(\n",
              "         (block): Sequential(\n",
              "           (0): Conv2d(384, 384, kernel_size=(7, 7), stride=(1, 1), padding=(3, 3), groups=384)\n",
              "           (1): Permute()\n",
              "           (2): LayerNorm((384,), eps=1e-06, elementwise_affine=True)\n",
              "           (3): Linear(in_features=384, out_features=1536, bias=True)\n",
              "           (4): GELU(approximate='none')\n",
              "           (5): Linear(in_features=1536, out_features=384, bias=True)\n",
              "           (6): Permute()\n",
              "         )\n",
              "         (stochastic_depth): StochasticDepth(p=0.052941176470588235, mode=row)\n",
              "       )\n",
              "       (4): CNBlock(\n",
              "         (block): Sequential(\n",
              "           (0): Conv2d(384, 384, kernel_size=(7, 7), stride=(1, 1), padding=(3, 3), groups=384)\n",
              "           (1): Permute()\n",
              "           (2): LayerNorm((384,), eps=1e-06, elementwise_affine=True)\n",
              "           (3): Linear(in_features=384, out_features=1536, bias=True)\n",
              "           (4): GELU(approximate='none')\n",
              "           (5): Linear(in_features=1536, out_features=384, bias=True)\n",
              "           (6): Permute()\n",
              "         )\n",
              "         (stochastic_depth): StochasticDepth(p=0.058823529411764705, mode=row)\n",
              "       )\n",
              "       (5): CNBlock(\n",
              "         (block): Sequential(\n",
              "           (0): Conv2d(384, 384, kernel_size=(7, 7), stride=(1, 1), padding=(3, 3), groups=384)\n",
              "           (1): Permute()\n",
              "           (2): LayerNorm((384,), eps=1e-06, elementwise_affine=True)\n",
              "           (3): Linear(in_features=384, out_features=1536, bias=True)\n",
              "           (4): GELU(approximate='none')\n",
              "           (5): Linear(in_features=1536, out_features=384, bias=True)\n",
              "           (6): Permute()\n",
              "         )\n",
              "         (stochastic_depth): StochasticDepth(p=0.06470588235294118, mode=row)\n",
              "       )\n",
              "       (6): CNBlock(\n",
              "         (block): Sequential(\n",
              "           (0): Conv2d(384, 384, kernel_size=(7, 7), stride=(1, 1), padding=(3, 3), groups=384)\n",
              "           (1): Permute()\n",
              "           (2): LayerNorm((384,), eps=1e-06, elementwise_affine=True)\n",
              "           (3): Linear(in_features=384, out_features=1536, bias=True)\n",
              "           (4): GELU(approximate='none')\n",
              "           (5): Linear(in_features=1536, out_features=384, bias=True)\n",
              "           (6): Permute()\n",
              "         )\n",
              "         (stochastic_depth): StochasticDepth(p=0.07058823529411766, mode=row)\n",
              "       )\n",
              "       (7): CNBlock(\n",
              "         (block): Sequential(\n",
              "           (0): Conv2d(384, 384, kernel_size=(7, 7), stride=(1, 1), padding=(3, 3), groups=384)\n",
              "           (1): Permute()\n",
              "           (2): LayerNorm((384,), eps=1e-06, elementwise_affine=True)\n",
              "           (3): Linear(in_features=384, out_features=1536, bias=True)\n",
              "           (4): GELU(approximate='none')\n",
              "           (5): Linear(in_features=1536, out_features=384, bias=True)\n",
              "           (6): Permute()\n",
              "         )\n",
              "         (stochastic_depth): StochasticDepth(p=0.07647058823529412, mode=row)\n",
              "       )\n",
              "       (8): CNBlock(\n",
              "         (block): Sequential(\n",
              "           (0): Conv2d(384, 384, kernel_size=(7, 7), stride=(1, 1), padding=(3, 3), groups=384)\n",
              "           (1): Permute()\n",
              "           (2): LayerNorm((384,), eps=1e-06, elementwise_affine=True)\n",
              "           (3): Linear(in_features=384, out_features=1536, bias=True)\n",
              "           (4): GELU(approximate='none')\n",
              "           (5): Linear(in_features=1536, out_features=384, bias=True)\n",
              "           (6): Permute()\n",
              "         )\n",
              "         (stochastic_depth): StochasticDepth(p=0.0823529411764706, mode=row)\n",
              "       )\n",
              "     )\n",
              "     (6): Sequential(\n",
              "       (0): LayerNorm2d((384,), eps=1e-06, elementwise_affine=True)\n",
              "       (1): Conv2d(384, 768, kernel_size=(2, 2), stride=(2, 2))\n",
              "     )\n",
              "     (7): Sequential(\n",
              "       (0): CNBlock(\n",
              "         (block): Sequential(\n",
              "           (0): Conv2d(768, 768, kernel_size=(7, 7), stride=(1, 1), padding=(3, 3), groups=768)\n",
              "           (1): Permute()\n",
              "           (2): LayerNorm((768,), eps=1e-06, elementwise_affine=True)\n",
              "           (3): Linear(in_features=768, out_features=3072, bias=True)\n",
              "           (4): GELU(approximate='none')\n",
              "           (5): Linear(in_features=3072, out_features=768, bias=True)\n",
              "           (6): Permute()\n",
              "         )\n",
              "         (stochastic_depth): StochasticDepth(p=0.08823529411764706, mode=row)\n",
              "       )\n",
              "       (1): CNBlock(\n",
              "         (block): Sequential(\n",
              "           (0): Conv2d(768, 768, kernel_size=(7, 7), stride=(1, 1), padding=(3, 3), groups=768)\n",
              "           (1): Permute()\n",
              "           (2): LayerNorm((768,), eps=1e-06, elementwise_affine=True)\n",
              "           (3): Linear(in_features=768, out_features=3072, bias=True)\n",
              "           (4): GELU(approximate='none')\n",
              "           (5): Linear(in_features=3072, out_features=768, bias=True)\n",
              "           (6): Permute()\n",
              "         )\n",
              "         (stochastic_depth): StochasticDepth(p=0.09411764705882353, mode=row)\n",
              "       )\n",
              "       (2): CNBlock(\n",
              "         (block): Sequential(\n",
              "           (0): Conv2d(768, 768, kernel_size=(7, 7), stride=(1, 1), padding=(3, 3), groups=768)\n",
              "           (1): Permute()\n",
              "           (2): LayerNorm((768,), eps=1e-06, elementwise_affine=True)\n",
              "           (3): Linear(in_features=768, out_features=3072, bias=True)\n",
              "           (4): GELU(approximate='none')\n",
              "           (5): Linear(in_features=3072, out_features=768, bias=True)\n",
              "           (6): Permute()\n",
              "         )\n",
              "         (stochastic_depth): StochasticDepth(p=0.1, mode=row)\n",
              "       )\n",
              "     )\n",
              "   )\n",
              "   (avgpool): AdaptiveAvgPool2d(output_size=1)\n",
              "   (classifier): Sequential(\n",
              "     (0): LayerNorm2d((768,), eps=1e-06, elementwise_affine=True)\n",
              "     (1): Flatten(start_dim=1, end_dim=-1)\n",
              "     (2): Linear(in_features=768, out_features=3, bias=True)\n",
              "   )\n",
              " ),\n",
              " [0.22457348704338073,\n",
              "  0.06560504722098509,\n",
              "  0.02295153612891833,\n",
              "  0.01231577795309325,\n",
              "  0.00904658689784507,\n",
              "  0.005117431841790676,\n",
              "  0.006272351757312815],\n",
              " [92.60450160771704,\n",
              "  98.49946409431939,\n",
              "  99.67845659163987,\n",
              "  99.67845659163987,\n",
              "  99.78563772775992,\n",
              "  99.89281886387995,\n",
              "  99.89281886387995],\n",
              " [0.5760222226381302,\n",
              "  0.308191504329443,\n",
              "  0.4557906687259674,\n",
              "  0.44737743586301804,\n",
              "  0.44838184118270874,\n",
              "  0.6464382112026215,\n",
              "  0.5679144263267517],\n",
              " [87.17948717948718,\n",
              "  87.17948717948718,\n",
              "  88.46153846153847,\n",
              "  83.33333333333333,\n",
              "  87.17948717948718,\n",
              "  88.46153846153847,\n",
              "  87.17948717948718])"
            ]
          },
          "metadata": {},
          "execution_count": 20
        }
      ]
    },
    {
      "cell_type": "code",
      "source": [
        "def train_binary(model, train_loader, val_loader, optimizer, device, epochs=10, patience=5, save_path='best_model.pth'):\n",
        "    # === Compute pos_weight ===\n",
        "    total_ones = 0\n",
        "    total_samples = 0\n",
        "\n",
        "    for _, labels in train_loader:\n",
        "        total_ones += (labels == 1.0).sum().item()\n",
        "        total_samples += labels.size(0)\n",
        "\n",
        "    num_positives = total_ones\n",
        "    num_negatives = total_samples - total_ones\n",
        "\n",
        "    pos_weight_value = num_negatives / num_positives\n",
        "    print(f\"Using pos_weight = {pos_weight_value:.4f} (Positives={num_positives}, Negatives={num_negatives})\")\n",
        "\n",
        "    # === Define loss with pos_weight ===\n",
        "    pos_weight_tensor = torch.tensor([pos_weight_value], device=device)\n",
        "    criterion = nn.BCEWithLogitsLoss(pos_weight=pos_weight_tensor)\n",
        "\n",
        "    # === Rest of training loop ===\n",
        "    best_val_loss = float('inf')\n",
        "    patience_counter = 0\n",
        "\n",
        "    for epoch in range(epochs):\n",
        "        # === Training phase ===\n",
        "        model.train()\n",
        "        running_loss = 0.0\n",
        "\n",
        "        loop = tqdm(enumerate(train_loader), total=len(train_loader), leave=True)\n",
        "        for i, (inputs, labels) in loop:\n",
        "            inputs = inputs.to(device)\n",
        "            labels = labels.to(device).float()  # BCEWithLogits → float labels (0 or 1)\n",
        "\n",
        "            optimizer.zero_grad()\n",
        "            outputs = model(inputs).squeeze(1)  # shape: (batch_size,)\n",
        "\n",
        "            loss = criterion(outputs, labels)\n",
        "            loss.backward()\n",
        "            optimizer.step()\n",
        "\n",
        "            running_loss += loss.item()\n",
        "            loop.set_description(f\"Epoch [{epoch+1}/{epochs}]\")\n",
        "            loop.set_postfix(loss=running_loss/(i+1))\n",
        "\n",
        "        epoch_train_loss = running_loss / len(train_loader)\n",
        "\n",
        "        # === Validation phase ===\n",
        "        model.eval()\n",
        "        val_running_loss = 0.0\n",
        "        val_correct = 0\n",
        "        val_total = 0\n",
        "\n",
        "        with torch.no_grad():\n",
        "            for inputs, labels in val_loader:\n",
        "                inputs = inputs.to(device)\n",
        "                labels = labels.to(device).float()\n",
        "\n",
        "                outputs = model(inputs).squeeze(1)\n",
        "\n",
        "                loss = criterion(outputs, labels)\n",
        "                val_running_loss += loss.item()\n",
        "\n",
        "                # Accuracy: apply sigmoid, threshold 0.5\n",
        "                probs = torch.sigmoid(outputs)\n",
        "                print(preds)\n",
        "                preds = (probs > 0.5).float()\n",
        "\n",
        "                val_correct += (preds == labels).sum().item()\n",
        "                val_total += labels.size(0)\n",
        "\n",
        "        epoch_val_loss = val_running_loss / len(val_loader)\n",
        "        val_acc = 100. * val_correct / val_total\n",
        "\n",
        "        # === Print summary ===\n",
        "        print(f\"Epoch {epoch+1}/{epochs}\")\n",
        "        print(f\"Train Loss: {epoch_train_loss:.4f}\")\n",
        "        print(f\"Val Loss: {epoch_val_loss:.4f}, Val Acc: {val_acc:.2f}%\")\n",
        "        print(\"-\" * 50)\n",
        "\n",
        "        # === Early stopping check ===\n",
        "        if epoch_val_loss < best_val_loss:\n",
        "            best_val_loss = epoch_val_loss\n",
        "            patience_counter = 0\n",
        "            print(f\"→ New best val loss: {best_val_loss:.4f}. Saving model...\")\n",
        "            torch.save(model.state_dict(), save_path)\n",
        "        else:\n",
        "            patience_counter += 1\n",
        "            print(f\"No improvement. Patience counter: {patience_counter}/{patience}\")\n",
        "\n",
        "        if patience_counter >= patience:\n",
        "            print(\"Early stopping triggered!\")\n",
        "            break\n",
        "\n",
        "    print(\"Training complete.\")\n"
      ],
      "metadata": {
        "id": "SrrcNLVA3Fr3"
      },
      "execution_count": 22,
      "outputs": []
    },
    {
      "cell_type": "code",
      "source": [
        "for i in range(num_classes):\n",
        "    print(f\"\\n=== Training classifier for class {i} ===\")\n",
        "\n",
        "    # You need to build a train/val loader for class i\n",
        "    # Labels should be 1 if image belongs to class i, else 0\n",
        "    train_loader = train_loaders[i]  # prepare loader for class i\n",
        "    val_loader = val_loaders[i]    # prepare loader for class i\n",
        "\n",
        "    train_binary(models_crack[i], train_loader, val_loader, optimizers[i], device, epochs=20)\n",
        "\n",
        "    # Save model\n",
        "    torch.save(models_crack[i].state_dict(), f'ovr_model_class_{i}.pth')"
      ],
      "metadata": {
        "colab": {
          "base_uri": "https://localhost:8080/"
        },
        "id": "8n2HXA-dAUaV",
        "outputId": "8477e134-40f1-44b7-cd38-4804042be05f"
      },
      "execution_count": 12,
      "outputs": [
        {
          "output_type": "stream",
          "name": "stdout",
          "text": [
            "\n",
            "=== Training classifier for class 0 ===\n",
            "Using pos_weight = 160.5000 (Positives=8, Negatives=1284)\n"
          ]
        },
        {
          "output_type": "stream",
          "name": "stderr",
          "text": [
            "Epoch [1/20]: 100%|██████████| 21/21 [00:20<00:00,  1.01it/s, loss=1.61]\n"
          ]
        },
        {
          "output_type": "stream",
          "name": "stdout",
          "text": [
            "Epoch 1/20\n",
            "Train Loss: 1.6144\n",
            "Val Loss: 0.8034, Val Acc: 94.44%\n",
            "--------------------------------------------------\n",
            "→ New best val loss: 0.8034. Saving model...\n"
          ]
        },
        {
          "output_type": "stream",
          "name": "stderr",
          "text": [
            "Epoch [2/20]: 100%|██████████| 21/21 [00:20<00:00,  1.03it/s, loss=0.343]\n"
          ]
        },
        {
          "output_type": "stream",
          "name": "stdout",
          "text": [
            "Epoch 2/20\n",
            "Train Loss: 0.3434\n",
            "Val Loss: 0.4475, Val Acc: 98.46%\n",
            "--------------------------------------------------\n",
            "→ New best val loss: 0.4475. Saving model...\n"
          ]
        },
        {
          "output_type": "stream",
          "name": "stderr",
          "text": [
            "Epoch [3/20]: 100%|██████████| 21/21 [00:22<00:00,  1.05s/it, loss=0.1]\n"
          ]
        },
        {
          "output_type": "stream",
          "name": "stdout",
          "text": [
            "Epoch 3/20\n",
            "Train Loss: 0.1004\n",
            "Val Loss: 0.0767, Val Acc: 99.07%\n",
            "--------------------------------------------------\n",
            "→ New best val loss: 0.0767. Saving model...\n"
          ]
        },
        {
          "output_type": "stream",
          "name": "stderr",
          "text": [
            "Epoch [4/20]: 100%|██████████| 21/21 [00:22<00:00,  1.06s/it, loss=0.0218]\n"
          ]
        },
        {
          "output_type": "stream",
          "name": "stdout",
          "text": [
            "Epoch 4/20\n",
            "Train Loss: 0.0218\n",
            "Val Loss: 0.1516, Val Acc: 100.00%\n",
            "--------------------------------------------------\n",
            "No improvement. Patience counter: 1/5\n"
          ]
        },
        {
          "output_type": "stream",
          "name": "stderr",
          "text": [
            "Epoch [5/20]: 100%|██████████| 21/21 [00:22<00:00,  1.09s/it, loss=0.0123]\n"
          ]
        },
        {
          "output_type": "stream",
          "name": "stdout",
          "text": [
            "Epoch 5/20\n",
            "Train Loss: 0.0123\n",
            "Val Loss: 0.2087, Val Acc: 100.00%\n",
            "--------------------------------------------------\n",
            "No improvement. Patience counter: 2/5\n"
          ]
        },
        {
          "output_type": "stream",
          "name": "stderr",
          "text": [
            "Epoch [6/20]: 100%|██████████| 21/21 [00:22<00:00,  1.09s/it, loss=0.00886]\n"
          ]
        },
        {
          "output_type": "stream",
          "name": "stdout",
          "text": [
            "Epoch 6/20\n",
            "Train Loss: 0.0089\n",
            "Val Loss: 0.3158, Val Acc: 100.00%\n",
            "--------------------------------------------------\n",
            "No improvement. Patience counter: 3/5\n"
          ]
        },
        {
          "output_type": "stream",
          "name": "stderr",
          "text": [
            "Epoch [7/20]: 100%|██████████| 21/21 [00:22<00:00,  1.05s/it, loss=0.00746]\n"
          ]
        },
        {
          "output_type": "stream",
          "name": "stdout",
          "text": [
            "Epoch 7/20\n",
            "Train Loss: 0.0075\n",
            "Val Loss: 0.3340, Val Acc: 100.00%\n",
            "--------------------------------------------------\n",
            "No improvement. Patience counter: 4/5\n"
          ]
        },
        {
          "output_type": "stream",
          "name": "stderr",
          "text": [
            "Epoch [8/20]: 100%|██████████| 21/21 [00:22<00:00,  1.06s/it, loss=0.00846]\n"
          ]
        },
        {
          "output_type": "stream",
          "name": "stdout",
          "text": [
            "Epoch 8/20\n",
            "Train Loss: 0.0085\n",
            "Val Loss: 0.2215, Val Acc: 100.00%\n",
            "--------------------------------------------------\n",
            "No improvement. Patience counter: 5/5\n",
            "Early stopping triggered!\n",
            "Training complete.\n",
            "\n",
            "=== Training classifier for class 1 ===\n",
            "Using pos_weight = 13.8506 (Positives=87, Negatives=1205)\n"
          ]
        },
        {
          "output_type": "stream",
          "name": "stderr",
          "text": [
            "Epoch [1/20]: 100%|██████████| 21/21 [00:23<00:00,  1.12s/it, loss=0.87]\n"
          ]
        },
        {
          "output_type": "stream",
          "name": "stdout",
          "text": [
            "Epoch 1/20\n",
            "Train Loss: 0.8698\n",
            "Val Loss: 0.4145, Val Acc: 88.89%\n",
            "--------------------------------------------------\n",
            "→ New best val loss: 0.4145. Saving model...\n"
          ]
        },
        {
          "output_type": "stream",
          "name": "stderr",
          "text": [
            "Epoch [2/20]: 100%|██████████| 21/21 [00:24<00:00,  1.15s/it, loss=0.3]\n"
          ]
        },
        {
          "output_type": "stream",
          "name": "stdout",
          "text": [
            "Epoch 2/20\n",
            "Train Loss: 0.2999\n",
            "Val Loss: 0.2735, Val Acc: 88.89%\n",
            "--------------------------------------------------\n",
            "→ New best val loss: 0.2735. Saving model...\n"
          ]
        },
        {
          "output_type": "stream",
          "name": "stderr",
          "text": [
            "Epoch [3/20]: 100%|██████████| 21/21 [00:22<00:00,  1.09s/it, loss=0.162]\n"
          ]
        },
        {
          "output_type": "stream",
          "name": "stdout",
          "text": [
            "Epoch 3/20\n",
            "Train Loss: 0.1623\n",
            "Val Loss: 0.1740, Val Acc: 97.84%\n",
            "--------------------------------------------------\n",
            "→ New best val loss: 0.1740. Saving model...\n"
          ]
        },
        {
          "output_type": "stream",
          "name": "stderr",
          "text": [
            "Epoch [4/20]: 100%|██████████| 21/21 [00:23<00:00,  1.13s/it, loss=0.0964]\n"
          ]
        },
        {
          "output_type": "stream",
          "name": "stdout",
          "text": [
            "Epoch 4/20\n",
            "Train Loss: 0.0964\n",
            "Val Loss: 0.0855, Val Acc: 99.38%\n",
            "--------------------------------------------------\n",
            "→ New best val loss: 0.0855. Saving model...\n"
          ]
        },
        {
          "output_type": "stream",
          "name": "stderr",
          "text": [
            "Epoch [5/20]: 100%|██████████| 21/21 [00:23<00:00,  1.13s/it, loss=0.0427]\n"
          ]
        },
        {
          "output_type": "stream",
          "name": "stdout",
          "text": [
            "Epoch 5/20\n",
            "Train Loss: 0.0427\n",
            "Val Loss: 0.1830, Val Acc: 97.84%\n",
            "--------------------------------------------------\n",
            "No improvement. Patience counter: 1/5\n"
          ]
        },
        {
          "output_type": "stream",
          "name": "stderr",
          "text": [
            "Epoch [6/20]: 100%|██████████| 21/21 [00:23<00:00,  1.12s/it, loss=0.0286]\n"
          ]
        },
        {
          "output_type": "stream",
          "name": "stdout",
          "text": [
            "Epoch 6/20\n",
            "Train Loss: 0.0286\n",
            "Val Loss: 0.1158, Val Acc: 95.37%\n",
            "--------------------------------------------------\n",
            "No improvement. Patience counter: 2/5\n"
          ]
        },
        {
          "output_type": "stream",
          "name": "stderr",
          "text": [
            "Epoch [7/20]: 100%|██████████| 21/21 [00:23<00:00,  1.13s/it, loss=0.0699]\n"
          ]
        },
        {
          "output_type": "stream",
          "name": "stdout",
          "text": [
            "Epoch 7/20\n",
            "Train Loss: 0.0699\n",
            "Val Loss: 0.1762, Val Acc: 94.14%\n",
            "--------------------------------------------------\n",
            "No improvement. Patience counter: 3/5\n"
          ]
        },
        {
          "output_type": "stream",
          "name": "stderr",
          "text": [
            "Epoch [8/20]: 100%|██████████| 21/21 [00:23<00:00,  1.13s/it, loss=0.0762]\n"
          ]
        },
        {
          "output_type": "stream",
          "name": "stdout",
          "text": [
            "Epoch 8/20\n",
            "Train Loss: 0.0762\n",
            "Val Loss: 0.2301, Val Acc: 98.77%\n",
            "--------------------------------------------------\n",
            "No improvement. Patience counter: 4/5\n"
          ]
        },
        {
          "output_type": "stream",
          "name": "stderr",
          "text": [
            "Epoch [9/20]: 100%|██████████| 21/21 [00:22<00:00,  1.09s/it, loss=0.0203]\n"
          ]
        },
        {
          "output_type": "stream",
          "name": "stdout",
          "text": [
            "Epoch 9/20\n",
            "Train Loss: 0.0203\n",
            "Val Loss: 0.6207, Val Acc: 97.84%\n",
            "--------------------------------------------------\n",
            "No improvement. Patience counter: 5/5\n",
            "Early stopping triggered!\n",
            "Training complete.\n",
            "\n",
            "=== Training classifier for class 2 ===\n",
            "Using pos_weight = 20.5333 (Positives=60, Negatives=1232)\n"
          ]
        },
        {
          "output_type": "stream",
          "name": "stderr",
          "text": [
            "Epoch [1/20]: 100%|██████████| 21/21 [00:22<00:00,  1.07s/it, loss=0.909]\n"
          ]
        },
        {
          "output_type": "stream",
          "name": "stdout",
          "text": [
            "Epoch 1/20\n",
            "Train Loss: 0.9090\n",
            "Val Loss: 0.4689, Val Acc: 97.53%\n",
            "--------------------------------------------------\n",
            "→ New best val loss: 0.4689. Saving model...\n"
          ]
        },
        {
          "output_type": "stream",
          "name": "stderr",
          "text": [
            "Epoch [2/20]: 100%|██████████| 21/21 [00:23<00:00,  1.11s/it, loss=0.473]\n"
          ]
        },
        {
          "output_type": "stream",
          "name": "stdout",
          "text": [
            "Epoch 2/20\n",
            "Train Loss: 0.4734\n",
            "Val Loss: 0.2628, Val Acc: 96.91%\n",
            "--------------------------------------------------\n",
            "→ New best val loss: 0.2628. Saving model...\n"
          ]
        },
        {
          "output_type": "stream",
          "name": "stderr",
          "text": [
            "Epoch [3/20]: 100%|██████████| 21/21 [00:22<00:00,  1.07s/it, loss=0.259]\n"
          ]
        },
        {
          "output_type": "stream",
          "name": "stdout",
          "text": [
            "Epoch 3/20\n",
            "Train Loss: 0.2590\n",
            "Val Loss: 0.2543, Val Acc: 91.36%\n",
            "--------------------------------------------------\n",
            "→ New best val loss: 0.2543. Saving model...\n"
          ]
        },
        {
          "output_type": "stream",
          "name": "stderr",
          "text": [
            "Epoch [4/20]: 100%|██████████| 21/21 [00:22<00:00,  1.07s/it, loss=0.137]\n"
          ]
        },
        {
          "output_type": "stream",
          "name": "stdout",
          "text": [
            "Epoch 4/20\n",
            "Train Loss: 0.1370\n",
            "Val Loss: 0.1581, Val Acc: 96.30%\n",
            "--------------------------------------------------\n",
            "→ New best val loss: 0.1581. Saving model...\n"
          ]
        },
        {
          "output_type": "stream",
          "name": "stderr",
          "text": [
            "Epoch [5/20]: 100%|██████████| 21/21 [00:22<00:00,  1.08s/it, loss=0.0839]\n"
          ]
        },
        {
          "output_type": "stream",
          "name": "stdout",
          "text": [
            "Epoch 5/20\n",
            "Train Loss: 0.0839\n",
            "Val Loss: 0.0975, Val Acc: 98.77%\n",
            "--------------------------------------------------\n",
            "→ New best val loss: 0.0975. Saving model...\n"
          ]
        },
        {
          "output_type": "stream",
          "name": "stderr",
          "text": [
            "Epoch [6/20]: 100%|██████████| 21/21 [00:22<00:00,  1.08s/it, loss=0.0334]\n"
          ]
        },
        {
          "output_type": "stream",
          "name": "stdout",
          "text": [
            "Epoch 6/20\n",
            "Train Loss: 0.0334\n",
            "Val Loss: 0.3132, Val Acc: 99.38%\n",
            "--------------------------------------------------\n",
            "No improvement. Patience counter: 1/5\n"
          ]
        },
        {
          "output_type": "stream",
          "name": "stderr",
          "text": [
            "Epoch [7/20]: 100%|██████████| 21/21 [00:22<00:00,  1.06s/it, loss=0.0278]\n"
          ]
        },
        {
          "output_type": "stream",
          "name": "stdout",
          "text": [
            "Epoch 7/20\n",
            "Train Loss: 0.0278\n",
            "Val Loss: 0.2873, Val Acc: 98.77%\n",
            "--------------------------------------------------\n",
            "No improvement. Patience counter: 2/5\n"
          ]
        },
        {
          "output_type": "stream",
          "name": "stderr",
          "text": [
            "Epoch [8/20]: 100%|██████████| 21/21 [00:22<00:00,  1.09s/it, loss=0.0349]\n"
          ]
        },
        {
          "output_type": "stream",
          "name": "stdout",
          "text": [
            "Epoch 8/20\n",
            "Train Loss: 0.0349\n",
            "Val Loss: 0.2232, Val Acc: 97.84%\n",
            "--------------------------------------------------\n",
            "No improvement. Patience counter: 3/5\n"
          ]
        },
        {
          "output_type": "stream",
          "name": "stderr",
          "text": [
            "Epoch [9/20]: 100%|██████████| 21/21 [00:23<00:00,  1.12s/it, loss=0.0298]\n"
          ]
        },
        {
          "output_type": "stream",
          "name": "stdout",
          "text": [
            "Epoch 9/20\n",
            "Train Loss: 0.0298\n",
            "Val Loss: 0.3409, Val Acc: 97.84%\n",
            "--------------------------------------------------\n",
            "No improvement. Patience counter: 4/5\n"
          ]
        },
        {
          "output_type": "stream",
          "name": "stderr",
          "text": [
            "Epoch [10/20]: 100%|██████████| 21/21 [00:23<00:00,  1.12s/it, loss=0.0162]\n"
          ]
        },
        {
          "output_type": "stream",
          "name": "stdout",
          "text": [
            "Epoch 10/20\n",
            "Train Loss: 0.0162\n",
            "Val Loss: 0.3590, Val Acc: 98.15%\n",
            "--------------------------------------------------\n",
            "No improvement. Patience counter: 5/5\n",
            "Early stopping triggered!\n",
            "Training complete.\n",
            "\n",
            "=== Training classifier for class 3 ===\n",
            "Using pos_weight = 8.5000 (Positives=136, Negatives=1156)\n"
          ]
        },
        {
          "output_type": "stream",
          "name": "stderr",
          "text": [
            "Epoch [1/20]: 100%|██████████| 21/21 [00:22<00:00,  1.08s/it, loss=0.917]\n"
          ]
        },
        {
          "output_type": "stream",
          "name": "stdout",
          "text": [
            "Epoch 1/20\n",
            "Train Loss: 0.9174\n",
            "Val Loss: 0.4991, Val Acc: 85.80%\n",
            "--------------------------------------------------\n",
            "→ New best val loss: 0.4991. Saving model...\n"
          ]
        },
        {
          "output_type": "stream",
          "name": "stderr",
          "text": [
            "Epoch [2/20]: 100%|██████████| 21/21 [00:23<00:00,  1.11s/it, loss=0.352]\n"
          ]
        },
        {
          "output_type": "stream",
          "name": "stdout",
          "text": [
            "Epoch 2/20\n",
            "Train Loss: 0.3523\n",
            "Val Loss: 0.1694, Val Acc: 98.77%\n",
            "--------------------------------------------------\n",
            "→ New best val loss: 0.1694. Saving model...\n"
          ]
        },
        {
          "output_type": "stream",
          "name": "stderr",
          "text": [
            "Epoch [3/20]: 100%|██████████| 21/21 [00:22<00:00,  1.07s/it, loss=0.0998]\n"
          ]
        },
        {
          "output_type": "stream",
          "name": "stdout",
          "text": [
            "Epoch 3/20\n",
            "Train Loss: 0.0998\n",
            "Val Loss: 0.1585, Val Acc: 95.68%\n",
            "--------------------------------------------------\n",
            "→ New best val loss: 0.1585. Saving model...\n"
          ]
        },
        {
          "output_type": "stream",
          "name": "stderr",
          "text": [
            "Epoch [4/20]: 100%|██████████| 21/21 [00:22<00:00,  1.07s/it, loss=0.12]\n"
          ]
        },
        {
          "output_type": "stream",
          "name": "stdout",
          "text": [
            "Epoch 4/20\n",
            "Train Loss: 0.1203\n",
            "Val Loss: 0.1502, Val Acc: 92.90%\n",
            "--------------------------------------------------\n",
            "→ New best val loss: 0.1502. Saving model...\n"
          ]
        },
        {
          "output_type": "stream",
          "name": "stderr",
          "text": [
            "Epoch [5/20]: 100%|██████████| 21/21 [00:22<00:00,  1.08s/it, loss=0.0512]\n"
          ]
        },
        {
          "output_type": "stream",
          "name": "stdout",
          "text": [
            "Epoch 5/20\n",
            "Train Loss: 0.0512\n",
            "Val Loss: 0.0570, Val Acc: 98.77%\n",
            "--------------------------------------------------\n",
            "→ New best val loss: 0.0570. Saving model...\n"
          ]
        },
        {
          "output_type": "stream",
          "name": "stderr",
          "text": [
            "Epoch [6/20]: 100%|██████████| 21/21 [00:22<00:00,  1.09s/it, loss=0.024]\n"
          ]
        },
        {
          "output_type": "stream",
          "name": "stdout",
          "text": [
            "Epoch 6/20\n",
            "Train Loss: 0.0240\n",
            "Val Loss: 0.1634, Val Acc: 98.15%\n",
            "--------------------------------------------------\n",
            "No improvement. Patience counter: 1/5\n"
          ]
        },
        {
          "output_type": "stream",
          "name": "stderr",
          "text": [
            "Epoch [7/20]: 100%|██████████| 21/21 [00:22<00:00,  1.06s/it, loss=0.0092]\n"
          ]
        },
        {
          "output_type": "stream",
          "name": "stdout",
          "text": [
            "Epoch 7/20\n",
            "Train Loss: 0.0092\n",
            "Val Loss: 0.0733, Val Acc: 99.07%\n",
            "--------------------------------------------------\n",
            "No improvement. Patience counter: 2/5\n"
          ]
        },
        {
          "output_type": "stream",
          "name": "stderr",
          "text": [
            "Epoch [8/20]: 100%|██████████| 21/21 [00:22<00:00,  1.06s/it, loss=0.00433]\n"
          ]
        },
        {
          "output_type": "stream",
          "name": "stdout",
          "text": [
            "Epoch 8/20\n",
            "Train Loss: 0.0043\n",
            "Val Loss: 0.1357, Val Acc: 99.07%\n",
            "--------------------------------------------------\n",
            "No improvement. Patience counter: 3/5\n"
          ]
        },
        {
          "output_type": "stream",
          "name": "stderr",
          "text": [
            "Epoch [9/20]: 100%|██████████| 21/21 [00:23<00:00,  1.10s/it, loss=0.00367]\n"
          ]
        },
        {
          "output_type": "stream",
          "name": "stdout",
          "text": [
            "Epoch 9/20\n",
            "Train Loss: 0.0037\n",
            "Val Loss: 0.0510, Val Acc: 99.07%\n",
            "--------------------------------------------------\n",
            "→ New best val loss: 0.0510. Saving model...\n"
          ]
        },
        {
          "output_type": "stream",
          "name": "stderr",
          "text": [
            "Epoch [10/20]: 100%|██████████| 21/21 [00:23<00:00,  1.13s/it, loss=0.00602]\n"
          ]
        },
        {
          "output_type": "stream",
          "name": "stdout",
          "text": [
            "Epoch 10/20\n",
            "Train Loss: 0.0060\n",
            "Val Loss: 0.2860, Val Acc: 99.07%\n",
            "--------------------------------------------------\n",
            "No improvement. Patience counter: 1/5\n"
          ]
        },
        {
          "output_type": "stream",
          "name": "stderr",
          "text": [
            "Epoch [11/20]: 100%|██████████| 21/21 [00:23<00:00,  1.14s/it, loss=0.0483]\n"
          ]
        },
        {
          "output_type": "stream",
          "name": "stdout",
          "text": [
            "Epoch 11/20\n",
            "Train Loss: 0.0483\n",
            "Val Loss: 0.1580, Val Acc: 94.14%\n",
            "--------------------------------------------------\n",
            "No improvement. Patience counter: 2/5\n"
          ]
        },
        {
          "output_type": "stream",
          "name": "stderr",
          "text": [
            "Epoch [12/20]: 100%|██████████| 21/21 [00:23<00:00,  1.13s/it, loss=0.0917]\n"
          ]
        },
        {
          "output_type": "stream",
          "name": "stdout",
          "text": [
            "Epoch 12/20\n",
            "Train Loss: 0.0917\n",
            "Val Loss: 0.6231, Val Acc: 87.96%\n",
            "--------------------------------------------------\n",
            "No improvement. Patience counter: 3/5\n"
          ]
        },
        {
          "output_type": "stream",
          "name": "stderr",
          "text": [
            "Epoch [13/20]: 100%|██████████| 21/21 [00:23<00:00,  1.12s/it, loss=0.0845]\n"
          ]
        },
        {
          "output_type": "stream",
          "name": "stdout",
          "text": [
            "Epoch 13/20\n",
            "Train Loss: 0.0845\n",
            "Val Loss: 0.1150, Val Acc: 98.46%\n",
            "--------------------------------------------------\n",
            "No improvement. Patience counter: 4/5\n"
          ]
        },
        {
          "output_type": "stream",
          "name": "stderr",
          "text": [
            "Epoch [14/20]: 100%|██████████| 21/21 [00:22<00:00,  1.08s/it, loss=0.0435]\n"
          ]
        },
        {
          "output_type": "stream",
          "name": "stdout",
          "text": [
            "Epoch 14/20\n",
            "Train Loss: 0.0435\n",
            "Val Loss: 0.2749, Val Acc: 98.46%\n",
            "--------------------------------------------------\n",
            "No improvement. Patience counter: 5/5\n",
            "Early stopping triggered!\n",
            "Training complete.\n",
            "\n",
            "=== Training classifier for class 4 ===\n",
            "Using pos_weight = 2.2060 (Positives=403, Negatives=889)\n"
          ]
        },
        {
          "output_type": "stream",
          "name": "stderr",
          "text": [
            "Epoch [1/20]: 100%|██████████| 21/21 [00:22<00:00,  1.07s/it, loss=0.771]\n"
          ]
        },
        {
          "output_type": "stream",
          "name": "stdout",
          "text": [
            "Epoch 1/20\n",
            "Train Loss: 0.7706\n",
            "Val Loss: 0.5111, Val Acc: 81.17%\n",
            "--------------------------------------------------\n",
            "→ New best val loss: 0.5111. Saving model...\n"
          ]
        },
        {
          "output_type": "stream",
          "name": "stderr",
          "text": [
            "Epoch [2/20]: 100%|██████████| 21/21 [00:23<00:00,  1.11s/it, loss=0.379]\n"
          ]
        },
        {
          "output_type": "stream",
          "name": "stdout",
          "text": [
            "Epoch 2/20\n",
            "Train Loss: 0.3791\n",
            "Val Loss: 0.3302, Val Acc: 90.74%\n",
            "--------------------------------------------------\n",
            "→ New best val loss: 0.3302. Saving model...\n"
          ]
        },
        {
          "output_type": "stream",
          "name": "stderr",
          "text": [
            "Epoch [3/20]: 100%|██████████| 21/21 [00:23<00:00,  1.10s/it, loss=0.161]\n"
          ]
        },
        {
          "output_type": "stream",
          "name": "stdout",
          "text": [
            "Epoch 3/20\n",
            "Train Loss: 0.1607\n",
            "Val Loss: 0.2474, Val Acc: 92.59%\n",
            "--------------------------------------------------\n",
            "→ New best val loss: 0.2474. Saving model...\n"
          ]
        },
        {
          "output_type": "stream",
          "name": "stderr",
          "text": [
            "Epoch [4/20]: 100%|██████████| 21/21 [00:22<00:00,  1.08s/it, loss=0.0608]\n"
          ]
        },
        {
          "output_type": "stream",
          "name": "stdout",
          "text": [
            "Epoch 4/20\n",
            "Train Loss: 0.0608\n",
            "Val Loss: 0.1839, Val Acc: 95.68%\n",
            "--------------------------------------------------\n",
            "→ New best val loss: 0.1839. Saving model...\n"
          ]
        },
        {
          "output_type": "stream",
          "name": "stderr",
          "text": [
            "Epoch [5/20]: 100%|██████████| 21/21 [00:22<00:00,  1.08s/it, loss=0.0357]\n"
          ]
        },
        {
          "output_type": "stream",
          "name": "stdout",
          "text": [
            "Epoch 5/20\n",
            "Train Loss: 0.0357\n",
            "Val Loss: 0.1781, Val Acc: 95.99%\n",
            "--------------------------------------------------\n",
            "→ New best val loss: 0.1781. Saving model...\n"
          ]
        },
        {
          "output_type": "stream",
          "name": "stderr",
          "text": [
            "Epoch [6/20]: 100%|██████████| 21/21 [00:23<00:00,  1.13s/it, loss=0.0187]\n"
          ]
        },
        {
          "output_type": "stream",
          "name": "stdout",
          "text": [
            "Epoch 6/20\n",
            "Train Loss: 0.0187\n",
            "Val Loss: 0.3104, Val Acc: 92.90%\n",
            "--------------------------------------------------\n",
            "No improvement. Patience counter: 1/5\n"
          ]
        },
        {
          "output_type": "stream",
          "name": "stderr",
          "text": [
            "Epoch [7/20]: 100%|██████████| 21/21 [00:22<00:00,  1.07s/it, loss=0.027]\n"
          ]
        },
        {
          "output_type": "stream",
          "name": "stdout",
          "text": [
            "Epoch 7/20\n",
            "Train Loss: 0.0270\n",
            "Val Loss: 0.3085, Val Acc: 92.59%\n",
            "--------------------------------------------------\n",
            "No improvement. Patience counter: 2/5\n"
          ]
        },
        {
          "output_type": "stream",
          "name": "stderr",
          "text": [
            "Epoch [8/20]: 100%|██████████| 21/21 [00:22<00:00,  1.08s/it, loss=0.0485]\n"
          ]
        },
        {
          "output_type": "stream",
          "name": "stdout",
          "text": [
            "Epoch 8/20\n",
            "Train Loss: 0.0485\n",
            "Val Loss: 0.4704, Val Acc: 91.36%\n",
            "--------------------------------------------------\n",
            "No improvement. Patience counter: 3/5\n"
          ]
        },
        {
          "output_type": "stream",
          "name": "stderr",
          "text": [
            "Epoch [9/20]: 100%|██████████| 21/21 [00:23<00:00,  1.11s/it, loss=0.0723]\n"
          ]
        },
        {
          "output_type": "stream",
          "name": "stdout",
          "text": [
            "Epoch 9/20\n",
            "Train Loss: 0.0723\n",
            "Val Loss: 0.2857, Val Acc: 91.36%\n",
            "--------------------------------------------------\n",
            "No improvement. Patience counter: 4/5\n"
          ]
        },
        {
          "output_type": "stream",
          "name": "stderr",
          "text": [
            "Epoch [10/20]: 100%|██████████| 21/21 [00:23<00:00,  1.13s/it, loss=0.0285]\n"
          ]
        },
        {
          "output_type": "stream",
          "name": "stdout",
          "text": [
            "Epoch 10/20\n",
            "Train Loss: 0.0285\n",
            "Val Loss: 0.1412, Val Acc: 95.99%\n",
            "--------------------------------------------------\n",
            "→ New best val loss: 0.1412. Saving model...\n"
          ]
        },
        {
          "output_type": "stream",
          "name": "stderr",
          "text": [
            "Epoch [11/20]: 100%|██████████| 21/21 [00:23<00:00,  1.12s/it, loss=0.0172]\n"
          ]
        },
        {
          "output_type": "stream",
          "name": "stdout",
          "text": [
            "Epoch 11/20\n",
            "Train Loss: 0.0172\n",
            "Val Loss: 0.1687, Val Acc: 95.99%\n",
            "--------------------------------------------------\n",
            "No improvement. Patience counter: 1/5\n"
          ]
        },
        {
          "output_type": "stream",
          "name": "stderr",
          "text": [
            "Epoch [12/20]: 100%|██████████| 21/21 [00:23<00:00,  1.13s/it, loss=0.0118]\n"
          ]
        },
        {
          "output_type": "stream",
          "name": "stdout",
          "text": [
            "Epoch 12/20\n",
            "Train Loss: 0.0118\n",
            "Val Loss: 0.1408, Val Acc: 96.91%\n",
            "--------------------------------------------------\n",
            "→ New best val loss: 0.1408. Saving model...\n"
          ]
        },
        {
          "output_type": "stream",
          "name": "stderr",
          "text": [
            "Epoch [13/20]: 100%|██████████| 21/21 [00:24<00:00,  1.17s/it, loss=0.00498]\n"
          ]
        },
        {
          "output_type": "stream",
          "name": "stdout",
          "text": [
            "Epoch 13/20\n",
            "Train Loss: 0.0050\n",
            "Val Loss: 0.2793, Val Acc: 93.83%\n",
            "--------------------------------------------------\n",
            "No improvement. Patience counter: 1/5\n"
          ]
        },
        {
          "output_type": "stream",
          "name": "stderr",
          "text": [
            "Epoch [14/20]: 100%|██████████| 21/21 [00:23<00:00,  1.12s/it, loss=0.0312]\n"
          ]
        },
        {
          "output_type": "stream",
          "name": "stdout",
          "text": [
            "Epoch 14/20\n",
            "Train Loss: 0.0312\n",
            "Val Loss: 0.1998, Val Acc: 95.37%\n",
            "--------------------------------------------------\n",
            "No improvement. Patience counter: 2/5\n"
          ]
        },
        {
          "output_type": "stream",
          "name": "stderr",
          "text": [
            "Epoch [15/20]: 100%|██████████| 21/21 [00:23<00:00,  1.13s/it, loss=0.00997]\n"
          ]
        },
        {
          "output_type": "stream",
          "name": "stdout",
          "text": [
            "Epoch 15/20\n",
            "Train Loss: 0.0100\n",
            "Val Loss: 0.2330, Val Acc: 94.75%\n",
            "--------------------------------------------------\n",
            "No improvement. Patience counter: 3/5\n"
          ]
        },
        {
          "output_type": "stream",
          "name": "stderr",
          "text": [
            "Epoch [16/20]: 100%|██████████| 21/21 [00:23<00:00,  1.10s/it, loss=0.0127]\n"
          ]
        },
        {
          "output_type": "stream",
          "name": "stdout",
          "text": [
            "Epoch 16/20\n",
            "Train Loss: 0.0127\n",
            "Val Loss: 0.1930, Val Acc: 95.06%\n",
            "--------------------------------------------------\n",
            "No improvement. Patience counter: 4/5\n"
          ]
        },
        {
          "output_type": "stream",
          "name": "stderr",
          "text": [
            "Epoch [17/20]: 100%|██████████| 21/21 [00:23<00:00,  1.13s/it, loss=0.015]\n"
          ]
        },
        {
          "output_type": "stream",
          "name": "stdout",
          "text": [
            "Epoch 17/20\n",
            "Train Loss: 0.0150\n",
            "Val Loss: 0.4174, Val Acc: 92.90%\n",
            "--------------------------------------------------\n",
            "No improvement. Patience counter: 5/5\n",
            "Early stopping triggered!\n",
            "Training complete.\n",
            "\n",
            "=== Training classifier for class 5 ===\n",
            "Using pos_weight = 17.4571 (Positives=70, Negatives=1222)\n"
          ]
        },
        {
          "output_type": "stream",
          "name": "stderr",
          "text": [
            "Epoch [1/20]: 100%|██████████| 21/21 [00:22<00:00,  1.07s/it, loss=1.01]\n"
          ]
        },
        {
          "output_type": "stream",
          "name": "stdout",
          "text": [
            "Epoch 1/20\n",
            "Train Loss: 1.0108\n",
            "Val Loss: 0.5713, Val Acc: 79.63%\n",
            "--------------------------------------------------\n",
            "→ New best val loss: 0.5713. Saving model...\n"
          ]
        },
        {
          "output_type": "stream",
          "name": "stderr",
          "text": [
            "Epoch [2/20]: 100%|██████████| 21/21 [00:23<00:00,  1.12s/it, loss=0.39]\n"
          ]
        },
        {
          "output_type": "stream",
          "name": "stdout",
          "text": [
            "Epoch 2/20\n",
            "Train Loss: 0.3899\n",
            "Val Loss: 0.1525, Val Acc: 99.07%\n",
            "--------------------------------------------------\n",
            "→ New best val loss: 0.1525. Saving model...\n"
          ]
        },
        {
          "output_type": "stream",
          "name": "stderr",
          "text": [
            "Epoch [3/20]: 100%|██████████| 21/21 [00:22<00:00,  1.08s/it, loss=0.132]\n"
          ]
        },
        {
          "output_type": "stream",
          "name": "stdout",
          "text": [
            "Epoch 3/20\n",
            "Train Loss: 0.1324\n",
            "Val Loss: 0.0670, Val Acc: 99.69%\n",
            "--------------------------------------------------\n",
            "→ New best val loss: 0.0670. Saving model...\n"
          ]
        },
        {
          "output_type": "stream",
          "name": "stderr",
          "text": [
            "Epoch [4/20]: 100%|██████████| 21/21 [00:22<00:00,  1.09s/it, loss=0.0797]\n"
          ]
        },
        {
          "output_type": "stream",
          "name": "stdout",
          "text": [
            "Epoch 4/20\n",
            "Train Loss: 0.0797\n",
            "Val Loss: 0.2728, Val Acc: 99.07%\n",
            "--------------------------------------------------\n",
            "No improvement. Patience counter: 1/5\n"
          ]
        },
        {
          "output_type": "stream",
          "name": "stderr",
          "text": [
            "Epoch [5/20]: 100%|██████████| 21/21 [00:24<00:00,  1.15s/it, loss=0.0549]\n"
          ]
        },
        {
          "output_type": "stream",
          "name": "stdout",
          "text": [
            "Epoch 5/20\n",
            "Train Loss: 0.0549\n",
            "Val Loss: 0.1798, Val Acc: 99.07%\n",
            "--------------------------------------------------\n",
            "No improvement. Patience counter: 2/5\n"
          ]
        },
        {
          "output_type": "stream",
          "name": "stderr",
          "text": [
            "Epoch [6/20]: 100%|██████████| 21/21 [00:22<00:00,  1.07s/it, loss=0.0317]\n"
          ]
        },
        {
          "output_type": "stream",
          "name": "stdout",
          "text": [
            "Epoch 6/20\n",
            "Train Loss: 0.0317\n",
            "Val Loss: 0.2445, Val Acc: 99.69%\n",
            "--------------------------------------------------\n",
            "No improvement. Patience counter: 3/5\n"
          ]
        },
        {
          "output_type": "stream",
          "name": "stderr",
          "text": [
            "Epoch [7/20]: 100%|██████████| 21/21 [00:22<00:00,  1.07s/it, loss=0.019]\n"
          ]
        },
        {
          "output_type": "stream",
          "name": "stdout",
          "text": [
            "Epoch 7/20\n",
            "Train Loss: 0.0190\n",
            "Val Loss: 0.2034, Val Acc: 99.69%\n",
            "--------------------------------------------------\n",
            "No improvement. Patience counter: 4/5\n"
          ]
        },
        {
          "output_type": "stream",
          "name": "stderr",
          "text": [
            "Epoch [8/20]: 100%|██████████| 21/21 [00:22<00:00,  1.08s/it, loss=0.0434]\n"
          ]
        },
        {
          "output_type": "stream",
          "name": "stdout",
          "text": [
            "Epoch 8/20\n",
            "Train Loss: 0.0434\n",
            "Val Loss: 0.0249, Val Acc: 99.07%\n",
            "--------------------------------------------------\n",
            "→ New best val loss: 0.0249. Saving model...\n"
          ]
        },
        {
          "output_type": "stream",
          "name": "stderr",
          "text": [
            "Epoch [9/20]: 100%|██████████| 21/21 [00:23<00:00,  1.14s/it, loss=0.0169]\n"
          ]
        },
        {
          "output_type": "stream",
          "name": "stdout",
          "text": [
            "Epoch 9/20\n",
            "Train Loss: 0.0169\n",
            "Val Loss: 0.0116, Val Acc: 99.69%\n",
            "--------------------------------------------------\n",
            "→ New best val loss: 0.0116. Saving model...\n"
          ]
        },
        {
          "output_type": "stream",
          "name": "stderr",
          "text": [
            "Epoch [10/20]: 100%|██████████| 21/21 [00:22<00:00,  1.09s/it, loss=0.0213]\n"
          ]
        },
        {
          "output_type": "stream",
          "name": "stdout",
          "text": [
            "Epoch 10/20\n",
            "Train Loss: 0.0213\n",
            "Val Loss: 0.0111, Val Acc: 99.69%\n",
            "--------------------------------------------------\n",
            "→ New best val loss: 0.0111. Saving model...\n"
          ]
        },
        {
          "output_type": "stream",
          "name": "stderr",
          "text": [
            "Epoch [11/20]: 100%|██████████| 21/21 [00:23<00:00,  1.10s/it, loss=0.0121]\n"
          ]
        },
        {
          "output_type": "stream",
          "name": "stdout",
          "text": [
            "Epoch 11/20\n",
            "Train Loss: 0.0121\n",
            "Val Loss: 0.1717, Val Acc: 99.69%\n",
            "--------------------------------------------------\n",
            "No improvement. Patience counter: 1/5\n"
          ]
        },
        {
          "output_type": "stream",
          "name": "stderr",
          "text": [
            "Epoch [12/20]: 100%|██████████| 21/21 [00:23<00:00,  1.11s/it, loss=0.172]\n"
          ]
        },
        {
          "output_type": "stream",
          "name": "stdout",
          "text": [
            "Epoch 12/20\n",
            "Train Loss: 0.1717\n",
            "Val Loss: 0.0454, Val Acc: 99.07%\n",
            "--------------------------------------------------\n",
            "No improvement. Patience counter: 2/5\n"
          ]
        },
        {
          "output_type": "stream",
          "name": "stderr",
          "text": [
            "Epoch [13/20]: 100%|██████████| 21/21 [00:23<00:00,  1.13s/it, loss=0.161]\n"
          ]
        },
        {
          "output_type": "stream",
          "name": "stdout",
          "text": [
            "Epoch 13/20\n",
            "Train Loss: 0.1607\n",
            "Val Loss: 0.1097, Val Acc: 99.69%\n",
            "--------------------------------------------------\n",
            "No improvement. Patience counter: 3/5\n"
          ]
        },
        {
          "output_type": "stream",
          "name": "stderr",
          "text": [
            "Epoch [14/20]: 100%|██████████| 21/21 [00:23<00:00,  1.13s/it, loss=0.0488]\n"
          ]
        },
        {
          "output_type": "stream",
          "name": "stdout",
          "text": [
            "Epoch 14/20\n",
            "Train Loss: 0.0488\n",
            "Val Loss: 0.0162, Val Acc: 99.69%\n",
            "--------------------------------------------------\n",
            "No improvement. Patience counter: 4/5\n"
          ]
        },
        {
          "output_type": "stream",
          "name": "stderr",
          "text": [
            "Epoch [15/20]: 100%|██████████| 21/21 [00:23<00:00,  1.11s/it, loss=0.00991]\n"
          ]
        },
        {
          "output_type": "stream",
          "name": "stdout",
          "text": [
            "Epoch 15/20\n",
            "Train Loss: 0.0099\n",
            "Val Loss: 0.1444, Val Acc: 99.69%\n",
            "--------------------------------------------------\n",
            "No improvement. Patience counter: 5/5\n",
            "Early stopping triggered!\n",
            "Training complete.\n",
            "\n",
            "=== Training classifier for class 6 ===\n",
            "Using pos_weight = 4.4979 (Positives=235, Negatives=1057)\n"
          ]
        },
        {
          "output_type": "stream",
          "name": "stderr",
          "text": [
            "Epoch [1/20]: 100%|██████████| 21/21 [00:22<00:00,  1.08s/it, loss=0.648]\n"
          ]
        },
        {
          "output_type": "stream",
          "name": "stdout",
          "text": [
            "Epoch 1/20\n",
            "Train Loss: 0.6483\n",
            "Val Loss: 0.3793, Val Acc: 86.73%\n",
            "--------------------------------------------------\n",
            "→ New best val loss: 0.3793. Saving model...\n"
          ]
        },
        {
          "output_type": "stream",
          "name": "stderr",
          "text": [
            "Epoch [2/20]: 100%|██████████| 21/21 [00:23<00:00,  1.11s/it, loss=0.269]\n"
          ]
        },
        {
          "output_type": "stream",
          "name": "stdout",
          "text": [
            "Epoch 2/20\n",
            "Train Loss: 0.2690\n",
            "Val Loss: 0.3003, Val Acc: 95.68%\n",
            "--------------------------------------------------\n",
            "→ New best val loss: 0.3003. Saving model...\n"
          ]
        },
        {
          "output_type": "stream",
          "name": "stderr",
          "text": [
            "Epoch [3/20]: 100%|██████████| 21/21 [00:22<00:00,  1.08s/it, loss=0.105]\n"
          ]
        },
        {
          "output_type": "stream",
          "name": "stdout",
          "text": [
            "Epoch 3/20\n",
            "Train Loss: 0.1049\n",
            "Val Loss: 0.1186, Val Acc: 99.38%\n",
            "--------------------------------------------------\n",
            "→ New best val loss: 0.1186. Saving model...\n"
          ]
        },
        {
          "output_type": "stream",
          "name": "stderr",
          "text": [
            "Epoch [4/20]: 100%|██████████| 21/21 [00:22<00:00,  1.09s/it, loss=0.0388]\n"
          ]
        },
        {
          "output_type": "stream",
          "name": "stdout",
          "text": [
            "Epoch 4/20\n",
            "Train Loss: 0.0388\n",
            "Val Loss: 0.1127, Val Acc: 98.46%\n",
            "--------------------------------------------------\n",
            "→ New best val loss: 0.1127. Saving model...\n"
          ]
        },
        {
          "output_type": "stream",
          "name": "stderr",
          "text": [
            "Epoch [5/20]: 100%|██████████| 21/21 [00:22<00:00,  1.09s/it, loss=0.0163]\n"
          ]
        },
        {
          "output_type": "stream",
          "name": "stdout",
          "text": [
            "Epoch 5/20\n",
            "Train Loss: 0.0163\n",
            "Val Loss: 0.0861, Val Acc: 99.38%\n",
            "--------------------------------------------------\n",
            "→ New best val loss: 0.0861. Saving model...\n"
          ]
        },
        {
          "output_type": "stream",
          "name": "stderr",
          "text": [
            "Epoch [6/20]: 100%|██████████| 21/21 [00:22<00:00,  1.09s/it, loss=0.0103]\n"
          ]
        },
        {
          "output_type": "stream",
          "name": "stdout",
          "text": [
            "Epoch 6/20\n",
            "Train Loss: 0.0103\n",
            "Val Loss: 0.1996, Val Acc: 99.07%\n",
            "--------------------------------------------------\n",
            "No improvement. Patience counter: 1/5\n"
          ]
        },
        {
          "output_type": "stream",
          "name": "stderr",
          "text": [
            "Epoch [7/20]: 100%|██████████| 21/21 [00:22<00:00,  1.08s/it, loss=0.00599]\n"
          ]
        },
        {
          "output_type": "stream",
          "name": "stdout",
          "text": [
            "Epoch 7/20\n",
            "Train Loss: 0.0060\n",
            "Val Loss: 0.0460, Val Acc: 99.38%\n",
            "--------------------------------------------------\n",
            "→ New best val loss: 0.0460. Saving model...\n"
          ]
        },
        {
          "output_type": "stream",
          "name": "stderr",
          "text": [
            "Epoch [8/20]: 100%|██████████| 21/21 [00:22<00:00,  1.09s/it, loss=0.00508]\n"
          ]
        },
        {
          "output_type": "stream",
          "name": "stdout",
          "text": [
            "Epoch 8/20\n",
            "Train Loss: 0.0051\n",
            "Val Loss: 0.1583, Val Acc: 99.69%\n",
            "--------------------------------------------------\n",
            "No improvement. Patience counter: 1/5\n"
          ]
        },
        {
          "output_type": "stream",
          "name": "stderr",
          "text": [
            "Epoch [9/20]: 100%|██████████| 21/21 [00:22<00:00,  1.07s/it, loss=0.00275]\n"
          ]
        },
        {
          "output_type": "stream",
          "name": "stdout",
          "text": [
            "Epoch 9/20\n",
            "Train Loss: 0.0027\n",
            "Val Loss: 0.1015, Val Acc: 99.69%\n",
            "--------------------------------------------------\n",
            "No improvement. Patience counter: 2/5\n"
          ]
        },
        {
          "output_type": "stream",
          "name": "stderr",
          "text": [
            "Epoch [10/20]: 100%|██████████| 21/21 [00:23<00:00,  1.13s/it, loss=0.00183]\n"
          ]
        },
        {
          "output_type": "stream",
          "name": "stdout",
          "text": [
            "Epoch 10/20\n",
            "Train Loss: 0.0018\n",
            "Val Loss: 0.0695, Val Acc: 99.69%\n",
            "--------------------------------------------------\n",
            "No improvement. Patience counter: 3/5\n"
          ]
        },
        {
          "output_type": "stream",
          "name": "stderr",
          "text": [
            "Epoch [11/20]: 100%|██████████| 21/21 [00:23<00:00,  1.14s/it, loss=0.00174]\n"
          ]
        },
        {
          "output_type": "stream",
          "name": "stdout",
          "text": [
            "Epoch 11/20\n",
            "Train Loss: 0.0017\n",
            "Val Loss: 0.0340, Val Acc: 99.69%\n",
            "--------------------------------------------------\n",
            "→ New best val loss: 0.0340. Saving model...\n"
          ]
        },
        {
          "output_type": "stream",
          "name": "stderr",
          "text": [
            "Epoch [12/20]: 100%|██████████| 21/21 [00:23<00:00,  1.14s/it, loss=0.00605]\n"
          ]
        },
        {
          "output_type": "stream",
          "name": "stdout",
          "text": [
            "Epoch 12/20\n",
            "Train Loss: 0.0061\n",
            "Val Loss: 0.0792, Val Acc: 99.69%\n",
            "--------------------------------------------------\n",
            "No improvement. Patience counter: 1/5\n"
          ]
        },
        {
          "output_type": "stream",
          "name": "stderr",
          "text": [
            "Epoch [13/20]: 100%|██████████| 21/21 [00:24<00:00,  1.14s/it, loss=0.0148]\n"
          ]
        },
        {
          "output_type": "stream",
          "name": "stdout",
          "text": [
            "Epoch 13/20\n",
            "Train Loss: 0.0148\n",
            "Val Loss: 0.9784, Val Acc: 99.07%\n",
            "--------------------------------------------------\n",
            "No improvement. Patience counter: 2/5\n"
          ]
        },
        {
          "output_type": "stream",
          "name": "stderr",
          "text": [
            "Epoch [14/20]: 100%|██████████| 21/21 [00:23<00:00,  1.13s/it, loss=0.0359]\n"
          ]
        },
        {
          "output_type": "stream",
          "name": "stdout",
          "text": [
            "Epoch 14/20\n",
            "Train Loss: 0.0359\n",
            "Val Loss: 0.0637, Val Acc: 97.84%\n",
            "--------------------------------------------------\n",
            "No improvement. Patience counter: 3/5\n"
          ]
        },
        {
          "output_type": "stream",
          "name": "stderr",
          "text": [
            "Epoch [15/20]: 100%|██████████| 21/21 [00:23<00:00,  1.11s/it, loss=0.0567]\n"
          ]
        },
        {
          "output_type": "stream",
          "name": "stdout",
          "text": [
            "Epoch 15/20\n",
            "Train Loss: 0.0567\n",
            "Val Loss: 0.0660, Val Acc: 99.38%\n",
            "--------------------------------------------------\n",
            "No improvement. Patience counter: 4/5\n"
          ]
        },
        {
          "output_type": "stream",
          "name": "stderr",
          "text": [
            "Epoch [16/20]: 100%|██████████| 21/21 [00:22<00:00,  1.09s/it, loss=0.0147]\n"
          ]
        },
        {
          "output_type": "stream",
          "name": "stdout",
          "text": [
            "Epoch 16/20\n",
            "Train Loss: 0.0147\n",
            "Val Loss: 0.0913, Val Acc: 99.07%\n",
            "--------------------------------------------------\n",
            "No improvement. Patience counter: 5/5\n",
            "Early stopping triggered!\n",
            "Training complete.\n",
            "\n",
            "=== Training classifier for class 7 ===\n",
            "Using pos_weight = 52.8333 (Positives=24, Negatives=1268)\n"
          ]
        },
        {
          "output_type": "stream",
          "name": "stderr",
          "text": [
            "Epoch [1/20]: 100%|██████████| 21/21 [00:22<00:00,  1.05s/it, loss=1.29]\n"
          ]
        },
        {
          "output_type": "stream",
          "name": "stdout",
          "text": [
            "Epoch 1/20\n",
            "Train Loss: 1.2874\n",
            "Val Loss: 0.6816, Val Acc: 89.81%\n",
            "--------------------------------------------------\n",
            "→ New best val loss: 0.6816. Saving model...\n"
          ]
        },
        {
          "output_type": "stream",
          "name": "stderr",
          "text": [
            "Epoch [2/20]: 100%|██████████| 21/21 [00:23<00:00,  1.11s/it, loss=0.473]\n"
          ]
        },
        {
          "output_type": "stream",
          "name": "stdout",
          "text": [
            "Epoch 2/20\n",
            "Train Loss: 0.4730\n",
            "Val Loss: 0.3471, Val Acc: 94.75%\n",
            "--------------------------------------------------\n",
            "→ New best val loss: 0.3471. Saving model...\n"
          ]
        },
        {
          "output_type": "stream",
          "name": "stderr",
          "text": [
            "Epoch [3/20]: 100%|██████████| 21/21 [00:22<00:00,  1.07s/it, loss=0.146]\n"
          ]
        },
        {
          "output_type": "stream",
          "name": "stdout",
          "text": [
            "Epoch 3/20\n",
            "Train Loss: 0.1459\n",
            "Val Loss: 0.6103, Val Acc: 97.22%\n",
            "--------------------------------------------------\n",
            "No improvement. Patience counter: 1/5\n"
          ]
        },
        {
          "output_type": "stream",
          "name": "stderr",
          "text": [
            "Epoch [4/20]: 100%|██████████| 21/21 [00:22<00:00,  1.07s/it, loss=0.0591]\n"
          ]
        },
        {
          "output_type": "stream",
          "name": "stdout",
          "text": [
            "Epoch 4/20\n",
            "Train Loss: 0.0591\n",
            "Val Loss: 0.8744, Val Acc: 97.53%\n",
            "--------------------------------------------------\n",
            "No improvement. Patience counter: 2/5\n"
          ]
        },
        {
          "output_type": "stream",
          "name": "stderr",
          "text": [
            "Epoch [5/20]: 100%|██████████| 21/21 [00:23<00:00,  1.10s/it, loss=0.0327]\n"
          ]
        },
        {
          "output_type": "stream",
          "name": "stdout",
          "text": [
            "Epoch 5/20\n",
            "Train Loss: 0.0327\n",
            "Val Loss: 0.7036, Val Acc: 98.77%\n",
            "--------------------------------------------------\n",
            "No improvement. Patience counter: 3/5\n"
          ]
        },
        {
          "output_type": "stream",
          "name": "stderr",
          "text": [
            "Epoch [6/20]: 100%|██████████| 21/21 [00:23<00:00,  1.12s/it, loss=0.0225]\n"
          ]
        },
        {
          "output_type": "stream",
          "name": "stdout",
          "text": [
            "Epoch 6/20\n",
            "Train Loss: 0.0225\n",
            "Val Loss: 1.4043, Val Acc: 99.07%\n",
            "--------------------------------------------------\n",
            "No improvement. Patience counter: 4/5\n"
          ]
        },
        {
          "output_type": "stream",
          "name": "stderr",
          "text": [
            "Epoch [7/20]: 100%|██████████| 21/21 [00:23<00:00,  1.13s/it, loss=0.0103]\n"
          ]
        },
        {
          "output_type": "stream",
          "name": "stdout",
          "text": [
            "Epoch 7/20\n",
            "Train Loss: 0.0103\n",
            "Val Loss: 1.2796, Val Acc: 99.07%\n",
            "--------------------------------------------------\n",
            "No improvement. Patience counter: 5/5\n",
            "Early stopping triggered!\n",
            "Training complete.\n",
            "\n",
            "=== Training classifier for class 8 ===\n",
            "Using pos_weight = 4.2735 (Positives=245, Negatives=1047)\n"
          ]
        },
        {
          "output_type": "stream",
          "name": "stderr",
          "text": [
            "Epoch [1/20]: 100%|██████████| 21/21 [00:22<00:00,  1.09s/it, loss=0.725]\n"
          ]
        },
        {
          "output_type": "stream",
          "name": "stdout",
          "text": [
            "Epoch 1/20\n",
            "Train Loss: 0.7252\n",
            "Val Loss: 0.3610, Val Acc: 94.14%\n",
            "--------------------------------------------------\n",
            "→ New best val loss: 0.3610. Saving model...\n"
          ]
        },
        {
          "output_type": "stream",
          "name": "stderr",
          "text": [
            "Epoch [2/20]: 100%|██████████| 21/21 [00:23<00:00,  1.11s/it, loss=0.287]\n"
          ]
        },
        {
          "output_type": "stream",
          "name": "stdout",
          "text": [
            "Epoch 2/20\n",
            "Train Loss: 0.2870\n",
            "Val Loss: 0.2328, Val Acc: 96.30%\n",
            "--------------------------------------------------\n",
            "→ New best val loss: 0.2328. Saving model...\n"
          ]
        },
        {
          "output_type": "stream",
          "name": "stderr",
          "text": [
            "Epoch [3/20]: 100%|██████████| 21/21 [00:22<00:00,  1.07s/it, loss=0.125]\n"
          ]
        },
        {
          "output_type": "stream",
          "name": "stdout",
          "text": [
            "Epoch 3/20\n",
            "Train Loss: 0.1248\n",
            "Val Loss: 0.1217, Val Acc: 97.53%\n",
            "--------------------------------------------------\n",
            "→ New best val loss: 0.1217. Saving model...\n"
          ]
        },
        {
          "output_type": "stream",
          "name": "stderr",
          "text": [
            "Epoch [4/20]: 100%|██████████| 21/21 [00:22<00:00,  1.09s/it, loss=0.0598]\n"
          ]
        },
        {
          "output_type": "stream",
          "name": "stdout",
          "text": [
            "Epoch 4/20\n",
            "Train Loss: 0.0598\n",
            "Val Loss: 0.1455, Val Acc: 98.46%\n",
            "--------------------------------------------------\n",
            "No improvement. Patience counter: 1/5\n"
          ]
        },
        {
          "output_type": "stream",
          "name": "stderr",
          "text": [
            "Epoch [5/20]: 100%|██████████| 21/21 [00:22<00:00,  1.07s/it, loss=0.0258]\n"
          ]
        },
        {
          "output_type": "stream",
          "name": "stdout",
          "text": [
            "Epoch 5/20\n",
            "Train Loss: 0.0258\n",
            "Val Loss: 0.0843, Val Acc: 98.15%\n",
            "--------------------------------------------------\n",
            "→ New best val loss: 0.0843. Saving model...\n"
          ]
        },
        {
          "output_type": "stream",
          "name": "stderr",
          "text": [
            "Epoch [6/20]: 100%|██████████| 21/21 [00:22<00:00,  1.08s/it, loss=0.0163]\n"
          ]
        },
        {
          "output_type": "stream",
          "name": "stdout",
          "text": [
            "Epoch 6/20\n",
            "Train Loss: 0.0163\n",
            "Val Loss: 0.0984, Val Acc: 98.77%\n",
            "--------------------------------------------------\n",
            "No improvement. Patience counter: 1/5\n"
          ]
        },
        {
          "output_type": "stream",
          "name": "stderr",
          "text": [
            "Epoch [7/20]: 100%|██████████| 21/21 [00:22<00:00,  1.07s/it, loss=0.0134]\n"
          ]
        },
        {
          "output_type": "stream",
          "name": "stdout",
          "text": [
            "Epoch 7/20\n",
            "Train Loss: 0.0134\n",
            "Val Loss: 0.1912, Val Acc: 98.46%\n",
            "--------------------------------------------------\n",
            "No improvement. Patience counter: 2/5\n"
          ]
        },
        {
          "output_type": "stream",
          "name": "stderr",
          "text": [
            "Epoch [8/20]: 100%|██████████| 21/21 [00:22<00:00,  1.09s/it, loss=0.0155]\n"
          ]
        },
        {
          "output_type": "stream",
          "name": "stdout",
          "text": [
            "Epoch 8/20\n",
            "Train Loss: 0.0155\n",
            "Val Loss: 0.0885, Val Acc: 97.84%\n",
            "--------------------------------------------------\n",
            "No improvement. Patience counter: 3/5\n"
          ]
        },
        {
          "output_type": "stream",
          "name": "stderr",
          "text": [
            "Epoch [9/20]: 100%|██████████| 21/21 [00:23<00:00,  1.11s/it, loss=0.0127]\n"
          ]
        },
        {
          "output_type": "stream",
          "name": "stdout",
          "text": [
            "Epoch 9/20\n",
            "Train Loss: 0.0127\n",
            "Val Loss: 0.1121, Val Acc: 97.22%\n",
            "--------------------------------------------------\n",
            "No improvement. Patience counter: 4/5\n"
          ]
        },
        {
          "output_type": "stream",
          "name": "stderr",
          "text": [
            "Epoch [10/20]: 100%|██████████| 21/21 [00:23<00:00,  1.13s/it, loss=0.0271]\n"
          ]
        },
        {
          "output_type": "stream",
          "name": "stdout",
          "text": [
            "Epoch 10/20\n",
            "Train Loss: 0.0271\n",
            "Val Loss: 0.1409, Val Acc: 98.77%\n",
            "--------------------------------------------------\n",
            "No improvement. Patience counter: 5/5\n",
            "Early stopping triggered!\n",
            "Training complete.\n",
            "\n",
            "=== Training classifier for class 9 ===\n",
            "Using pos_weight = 35.9143 (Positives=35, Negatives=1257)\n"
          ]
        },
        {
          "output_type": "stream",
          "name": "stderr",
          "text": [
            "Epoch [1/20]: 100%|██████████| 21/21 [00:22<00:00,  1.08s/it, loss=1.27]\n"
          ]
        },
        {
          "output_type": "stream",
          "name": "stdout",
          "text": [
            "Epoch 1/20\n",
            "Train Loss: 1.2744\n",
            "Val Loss: 0.5042, Val Acc: 90.12%\n",
            "--------------------------------------------------\n",
            "→ New best val loss: 0.5042. Saving model...\n"
          ]
        },
        {
          "output_type": "stream",
          "name": "stderr",
          "text": [
            "Epoch [2/20]: 100%|██████████| 21/21 [00:23<00:00,  1.12s/it, loss=0.477]\n"
          ]
        },
        {
          "output_type": "stream",
          "name": "stdout",
          "text": [
            "Epoch 2/20\n",
            "Train Loss: 0.4775\n",
            "Val Loss: 0.2719, Val Acc: 92.28%\n",
            "--------------------------------------------------\n",
            "→ New best val loss: 0.2719. Saving model...\n"
          ]
        },
        {
          "output_type": "stream",
          "name": "stderr",
          "text": [
            "Epoch [3/20]: 100%|██████████| 21/21 [00:22<00:00,  1.08s/it, loss=0.195]\n"
          ]
        },
        {
          "output_type": "stream",
          "name": "stdout",
          "text": [
            "Epoch 3/20\n",
            "Train Loss: 0.1949\n",
            "Val Loss: 0.1066, Val Acc: 99.07%\n",
            "--------------------------------------------------\n",
            "→ New best val loss: 0.1066. Saving model...\n"
          ]
        },
        {
          "output_type": "stream",
          "name": "stderr",
          "text": [
            "Epoch [4/20]: 100%|██████████| 21/21 [00:22<00:00,  1.08s/it, loss=0.0535]\n"
          ]
        },
        {
          "output_type": "stream",
          "name": "stdout",
          "text": [
            "Epoch 4/20\n",
            "Train Loss: 0.0535\n",
            "Val Loss: 0.2503, Val Acc: 99.07%\n",
            "--------------------------------------------------\n",
            "No improvement. Patience counter: 1/5\n"
          ]
        },
        {
          "output_type": "stream",
          "name": "stderr",
          "text": [
            "Epoch [5/20]: 100%|██████████| 21/21 [00:22<00:00,  1.08s/it, loss=0.0517]\n"
          ]
        },
        {
          "output_type": "stream",
          "name": "stdout",
          "text": [
            "Epoch 5/20\n",
            "Train Loss: 0.0517\n",
            "Val Loss: 0.1295, Val Acc: 99.38%\n",
            "--------------------------------------------------\n",
            "No improvement. Patience counter: 2/5\n"
          ]
        },
        {
          "output_type": "stream",
          "name": "stderr",
          "text": [
            "Epoch [6/20]: 100%|██████████| 21/21 [00:22<00:00,  1.07s/it, loss=0.0194]\n"
          ]
        },
        {
          "output_type": "stream",
          "name": "stdout",
          "text": [
            "Epoch 6/20\n",
            "Train Loss: 0.0194\n",
            "Val Loss: 0.2188, Val Acc: 99.07%\n",
            "--------------------------------------------------\n",
            "No improvement. Patience counter: 3/5\n"
          ]
        },
        {
          "output_type": "stream",
          "name": "stderr",
          "text": [
            "Epoch [7/20]: 100%|██████████| 21/21 [00:22<00:00,  1.07s/it, loss=0.00848]\n"
          ]
        },
        {
          "output_type": "stream",
          "name": "stdout",
          "text": [
            "Epoch 7/20\n",
            "Train Loss: 0.0085\n",
            "Val Loss: 0.3275, Val Acc: 99.38%\n",
            "--------------------------------------------------\n",
            "No improvement. Patience counter: 4/5\n"
          ]
        },
        {
          "output_type": "stream",
          "name": "stderr",
          "text": [
            "Epoch [8/20]: 100%|██████████| 21/21 [00:22<00:00,  1.06s/it, loss=0.00643]\n"
          ]
        },
        {
          "output_type": "stream",
          "name": "stdout",
          "text": [
            "Epoch 8/20\n",
            "Train Loss: 0.0064\n",
            "Val Loss: 0.5885, Val Acc: 99.38%\n",
            "--------------------------------------------------\n",
            "No improvement. Patience counter: 5/5\n",
            "Early stopping triggered!\n",
            "Training complete.\n"
          ]
        }
      ]
    },
    {
      "cell_type": "code",
      "source": [
        "def filter_predicted_criteria(damage_label, predicted_criteria):\n",
        "    \"\"\"\n",
        "    damage_label → 18 / 19 / 20\n",
        "    predicted_criteria → list of crack class indices\n",
        "    Returns filtered list of crack class indices that are allowed for this damage level\n",
        "    \"\"\"\n",
        "\n",
        "    # Example rule — adjust according to your needs!\n",
        "    allowed_criteria = {\n",
        "        18: [0],  # allowed crack reasons when damage level = 18\n",
        "        19: [3, 4, 5, 8],     # allowed crack reasons when damage level = 19\n",
        "        20: [1, 5, 7, 9, 10]  # allowed crack reasons when damage level = 20\n",
        "    }\n",
        "\n",
        "    allowed = allowed_criteria.get(damage_label, [])  # default empty if unknown\n",
        "\n",
        "    # Filter predicted_criteria to only keep allowed ones\n",
        "    filtered = [cls for cls in predicted_criteria if cls in allowed]\n",
        "\n",
        "    return filtered\n"
      ],
      "metadata": {
        "id": "iRyuURnvJK5x"
      },
      "execution_count": 13,
      "outputs": []
    },
    {
      "cell_type": "code",
      "source": [
        "import os\n",
        "import glob\n",
        "import csv\n",
        "import torch\n",
        "from torchvision import models, transforms\n",
        "from PIL import Image\n",
        "\n",
        "# Setup\n",
        "device = torch.device(\"cuda\" if torch.cuda.is_available() else \"cpu\")\n",
        "\n",
        "# === Load trained damage model ===\n",
        "model_damage = models.convnext_tiny(pretrained=False)\n",
        "model_damage.classifier[2] = torch.nn.Linear(model_damage.classifier[2].in_features, 3)\n",
        "model_damage.load_state_dict(torch.load('/content/best_model_single.pth'))  # adjust path if needed\n",
        "model_damage = model_damage.to(device)\n",
        "model_damage.eval()\n",
        "\n",
        "# Crack class names → same as during training\n",
        "crack_class_names = [\n",
        "    '0_ExposedRebar',\n",
        "    '10_SmallCracks',\n",
        "    '1_NoSignificantDamage',\n",
        "    '3_XAndV-shapedCracks',\n",
        "    '4_ContinuousDiagonalCracks',\n",
        "    '5_DiscontinuousDiagonalCracks',\n",
        "    '6_ContinuousVerticalCracks',\n",
        "    '7_DiscontinuousVerticalCracks',\n",
        "    '8_ContinuosHorizontalCracks',\n",
        "    '9_DiscontinuousHorizontalCracks'\n",
        "]\n",
        "\n",
        "num_classes = len(crack_class_names)\n",
        "\n",
        "# Mapping ImageFolder index → index in class list\n",
        "crack_label_mapping = {\n",
        "    0: 0,\n",
        "    1: 10,\n",
        "    2: 1,\n",
        "    3: 3,\n",
        "    4: 4,\n",
        "    5: 5,\n",
        "    6: 6,\n",
        "    7: 7,\n",
        "    8: 8,\n",
        "    9: 9\n",
        "}\n",
        "\n",
        "# === Load trained OvR models ===\n",
        "ovr_models = []\n",
        "\n",
        "for i in range(num_classes):\n",
        "    model = models.convnext_tiny(pretrained=False)\n",
        "    model.classifier[2] = torch.nn.Linear(model.classifier[2].in_features, 1)\n",
        "    model.load_state_dict(torch.load(f'ovr_model_class_{i}.pth'))\n",
        "    model = model.to(device)\n",
        "    model.eval()\n",
        "\n",
        "    ovr_models.append(model)\n",
        "\n",
        "print(\"Loaded all OvR models.\")\n",
        "\n",
        "# === Prepare image transform ===\n",
        "mean, std = compute_mean_std('/content/drive/MyDrive/classification/test_data/beam')\n",
        "image_transform = transforms.Compose([\n",
        "    transforms.Resize((224, 224)),  # adjust if needed\n",
        "    transforms.ToTensor(),\n",
        "    transforms.Normalize(mean, std)])\n",
        "\n",
        "# === Load test images ===\n",
        "test_image_dir = '/content/drive/MyDrive/classification/test_data/beam'\n",
        "image_paths = glob.glob(os.path.join(test_image_dir, '*.*'))  # all images\n",
        "image_paths = sorted(image_paths, key=lambda x: int(os.path.splitext(os.path.basename(x))[0]))\n",
        "\n",
        "print(f\"Found {len(image_paths)} test images.\")\n",
        "\n",
        "# === Prepare CSV output ===\n",
        "csv_output = []\n",
        "\n",
        "# === Run inference ===\n",
        "for img_path in image_paths:\n",
        "    # Load image\n",
        "    img = Image.open(img_path).convert('RGB')\n",
        "    img_tensor = image_transform(img).unsqueeze(0).to(device)  # shape (1, 3, 224, 224)\n",
        "\n",
        "    positive_classes = []\n",
        "\n",
        "    with torch.no_grad():\n",
        "        for i in range(num_classes):\n",
        "            output = ovr_models[i](img_tensor).squeeze(1)\n",
        "            prob = torch.sigmoid(output).item()\n",
        "\n",
        "            if prob > 0.5:  # threshold\n",
        "                positive_classes.append(crack_label_mapping[i])\n",
        "\n",
        "    # === Damage level classification ===\n",
        "    with torch.no_grad():\n",
        "        output_damage = model_damage(img_tensor)\n",
        "        pred_idx = torch.argmax(output_damage, dim=1).item()\n",
        "\n",
        "        # Map 0,1,2 → 18,19,20\n",
        "        damage_mapping = {0: 18, 1: 19, 2: 20}\n",
        "        damage_level = damage_mapping[pred_idx]\n",
        "\n",
        "    # === Prepare CSV row ===\n",
        "    image_id = os.path.splitext(os.path.basename(img_path))[0]  # name WITHOUT extension\n",
        "\n",
        "    # First part of class string → damage level\n",
        "    class_list = [str(damage_level)]\n",
        "\n",
        "    if positive_classes:\n",
        "        print(f\"\\nImage: {os.path.basename(img_path)}\")\n",
        "        print(f\"→ Damage level: {damage_level}\")\n",
        "        print(f\"→ Predicted classes before filtering: {positive_classes}\")\n",
        "\n",
        "        # Apply your filtering rule (assuming you have defined this function)\n",
        "        positive_classes = filter_predicted_criteria(damage_level, positive_classes)\n",
        "\n",
        "        print(f\"→ Positive classes after filtering: {positive_classes}\")\n",
        "\n",
        "        # Append filtered crack classes to class_list\n",
        "        class_list.extend([str(cls) for cls in positive_classes])\n",
        "    else:\n",
        "        print(f\"\\nImage: {os.path.basename(img_path)}\")\n",
        "        print(f\"→ Damage level: {damage_level}\")\n",
        "        print(\"→ No positive classes detected.\")\n",
        "\n",
        "    # Save row to CSV output\n",
        "    csv_output.append([image_id, ','.join(class_list)])\n",
        "\n",
        "# === Write to CSV ===\n",
        "csv_save_path = '/content/drive/MyDrive/classification/results.csv'\n",
        "\n",
        "with open(csv_save_path, mode='w', newline='') as csv_file:\n",
        "    writer = csv.writer(csv_file)\n",
        "    writer.writerow(['ID', 'class'])  # header\n",
        "\n",
        "    for row in csv_output:\n",
        "        writer.writerow(row)\n",
        "\n",
        "print(f\"\\nCSV saved to {csv_save_path}. Total images: {len(csv_output)}\")"
      ],
      "metadata": {
        "colab": {
          "base_uri": "https://localhost:8080/"
        },
        "id": "VZ13clA_LGP6",
        "outputId": "3364be00-bb23-4b4b-a5d6-ae3ac7cc7c58"
      },
      "execution_count": 21,
      "outputs": [
        {
          "output_type": "stream",
          "name": "stdout",
          "text": [
            "Loaded all OvR models.\n",
            "Found 50 images.\n"
          ]
        },
        {
          "output_type": "stream",
          "name": "stderr",
          "text": [
            "Computing mean & std: 100%|██████████| 50/50 [01:05<00:00,  1.32s/it]\n"
          ]
        },
        {
          "output_type": "stream",
          "name": "stdout",
          "text": [
            "Found 50 test images.\n",
            "\n",
            "Image: 1.jpg\n",
            "→ Damage level: 20\n",
            "→ No positive classes detected.\n",
            "\n",
            "Image: 2.jpg\n",
            "→ Damage level: 20\n",
            "→ No positive classes detected.\n",
            "\n",
            "Image: 3.jpg\n",
            "→ Damage level: 18\n",
            "→ Predicted classes before filtering: [3]\n",
            "→ Positive classes after filtering: []\n",
            "\n",
            "Image: 4.jpg\n",
            "→ Damage level: 20\n",
            "→ No positive classes detected.\n",
            "\n",
            "Image: 5.jpg\n",
            "→ Damage level: 18\n",
            "→ No positive classes detected.\n",
            "\n",
            "Image: 6.jpg\n",
            "→ Damage level: 18\n",
            "→ No positive classes detected.\n",
            "\n",
            "Image: 7.jpg\n",
            "→ Damage level: 18\n",
            "→ No positive classes detected.\n",
            "\n",
            "Image: 8.jpg\n",
            "→ Damage level: 20\n",
            "→ No positive classes detected.\n",
            "\n",
            "Image: 9.jpg\n",
            "→ Damage level: 18\n",
            "→ No positive classes detected.\n",
            "\n",
            "Image: 10.jpg\n",
            "→ Damage level: 18\n",
            "→ Predicted classes before filtering: [3]\n",
            "→ Positive classes after filtering: []\n",
            "\n",
            "Image: 11.jpg\n",
            "→ Damage level: 19\n",
            "→ No positive classes detected.\n",
            "\n",
            "Image: 12.jpg\n",
            "→ Damage level: 20\n",
            "→ No positive classes detected.\n",
            "\n",
            "Image: 13.jpg\n",
            "→ Damage level: 18\n",
            "→ Predicted classes before filtering: [3]\n",
            "→ Positive classes after filtering: []\n",
            "\n",
            "Image: 14.jpg\n",
            "→ Damage level: 20\n",
            "→ Predicted classes before filtering: [8]\n",
            "→ Positive classes after filtering: []\n",
            "\n",
            "Image: 15.jpg\n",
            "→ Damage level: 20\n",
            "→ No positive classes detected.\n",
            "\n",
            "Image: 16.jpg\n",
            "→ Damage level: 19\n",
            "→ No positive classes detected.\n",
            "\n",
            "Image: 17.jpg\n",
            "→ Damage level: 20\n",
            "→ No positive classes detected.\n",
            "\n",
            "Image: 18.jpg\n",
            "→ Damage level: 18\n",
            "→ Predicted classes before filtering: [3]\n",
            "→ Positive classes after filtering: []\n",
            "\n",
            "Image: 19.jpg\n",
            "→ Damage level: 20\n",
            "→ No positive classes detected.\n",
            "\n",
            "Image: 20.jpg\n",
            "→ Damage level: 20\n",
            "→ No positive classes detected.\n",
            "\n",
            "Image: 21.jpg\n",
            "→ Damage level: 20\n",
            "→ No positive classes detected.\n",
            "\n",
            "Image: 22.jpg\n",
            "→ Damage level: 18\n",
            "→ No positive classes detected.\n",
            "\n",
            "Image: 23.jpg\n",
            "→ Damage level: 18\n",
            "→ Predicted classes before filtering: [0]\n",
            "→ Positive classes after filtering: [0]\n",
            "\n",
            "Image: 24.jpg\n",
            "→ Damage level: 18\n",
            "→ No positive classes detected.\n",
            "\n",
            "Image: 25.jpg\n",
            "→ Damage level: 20\n",
            "→ No positive classes detected.\n",
            "\n",
            "Image: 26.jpg\n",
            "→ Damage level: 19\n",
            "→ No positive classes detected.\n",
            "\n",
            "Image: 27.jpg\n",
            "→ Damage level: 20\n",
            "→ Predicted classes before filtering: [10]\n",
            "→ Positive classes after filtering: [10]\n",
            "\n",
            "Image: 28.jpg\n",
            "→ Damage level: 20\n",
            "→ Predicted classes before filtering: [3, 8]\n",
            "→ Positive classes after filtering: []\n",
            "\n",
            "Image: 29.jpg\n",
            "→ Damage level: 19\n",
            "→ No positive classes detected.\n",
            "\n",
            "Image: 30.jpg\n",
            "→ Damage level: 20\n",
            "→ No positive classes detected.\n",
            "\n",
            "Image: 31.jpg\n",
            "→ Damage level: 19\n",
            "→ No positive classes detected.\n",
            "\n",
            "Image: 32.jpg\n",
            "→ Damage level: 20\n",
            "→ Predicted classes before filtering: [3]\n",
            "→ Positive classes after filtering: []\n",
            "\n",
            "Image: 33.jpg\n",
            "→ Damage level: 18\n",
            "→ Predicted classes before filtering: [8]\n",
            "→ Positive classes after filtering: []\n",
            "\n",
            "Image: 34.jpg\n",
            "→ Damage level: 20\n",
            "→ No positive classes detected.\n",
            "\n",
            "Image: 35.jpg\n",
            "→ Damage level: 20\n",
            "→ Predicted classes before filtering: [9]\n",
            "→ Positive classes after filtering: [9]\n",
            "\n",
            "Image: 36.jpg\n",
            "→ Damage level: 18\n",
            "→ No positive classes detected.\n",
            "\n",
            "Image: 37.jpg\n",
            "→ Damage level: 20\n",
            "→ No positive classes detected.\n",
            "\n",
            "Image: 38.jpg\n",
            "→ Damage level: 20\n",
            "→ No positive classes detected.\n",
            "\n",
            "Image: 39.jpg\n",
            "→ Damage level: 19\n",
            "→ No positive classes detected.\n",
            "\n",
            "Image: 40.jpg\n",
            "→ Damage level: 20\n",
            "→ No positive classes detected.\n",
            "\n",
            "Image: 41.jpg\n",
            "→ Damage level: 18\n",
            "→ No positive classes detected.\n",
            "\n",
            "Image: 42.jpg\n",
            "→ Damage level: 20\n",
            "→ No positive classes detected.\n",
            "\n",
            "Image: 43.jpg\n",
            "→ Damage level: 20\n",
            "→ No positive classes detected.\n",
            "\n",
            "Image: 44.jpg\n",
            "→ Damage level: 20\n",
            "→ Predicted classes before filtering: [9]\n",
            "→ Positive classes after filtering: [9]\n",
            "\n",
            "Image: 45.jpg\n",
            "→ Damage level: 20\n",
            "→ No positive classes detected.\n",
            "\n",
            "Image: 46.jpg\n",
            "→ Damage level: 20\n",
            "→ No positive classes detected.\n",
            "\n",
            "Image: 47.jpg\n",
            "→ Damage level: 20\n",
            "→ No positive classes detected.\n",
            "\n",
            "Image: 48.jpg\n",
            "→ Damage level: 20\n",
            "→ Predicted classes before filtering: [4]\n",
            "→ Positive classes after filtering: []\n",
            "\n",
            "Image: 49.jpg\n",
            "→ Damage level: 20\n",
            "→ No positive classes detected.\n",
            "\n",
            "Image: 50.jpg\n",
            "→ Damage level: 19\n",
            "→ No positive classes detected.\n",
            "\n",
            "CSV saved to /content/drive/MyDrive/classification/results.csv. Total images: 50\n"
          ]
        }
      ]
    },
    {
      "cell_type": "markdown",
      "source": [],
      "metadata": {
        "id": "elkRs0mnJJ2S"
      }
    },
    {
      "cell_type": "markdown",
      "metadata": {
        "id": "XheurpVQv6g0"
      },
      "source": [
        "Evaluation function"
      ]
    },
    {
      "cell_type": "code",
      "execution_count": null,
      "metadata": {
        "id": "9pSSWOdlv6g1"
      },
      "outputs": [],
      "source": [
        "def evaluate(model, valloader):\n",
        "\n",
        "    model.eval()\n",
        "    correct = 0\n",
        "    total = 0\n",
        "\n",
        "    # Initialize lists for per-class accuracy\n",
        "    num_classes = len(classes)\n",
        "    class_correct = list(0. for i in range(num_classes))\n",
        "    class_total = list(0. for i in range(num_classes))\n",
        "\n",
        "    # Initialize confusion matrix\n",
        "    confusion_matrix = torch.zeros(num_classes, num_classes)\n",
        "\n",
        "    with torch.no_grad():\n",
        "        for data in tqdm(valloader, desc=\"Evaluating\"):\n",
        "            images, labels = data\n",
        "            images, labels = images.to(device), labels.to(device)\n",
        "            outputs = model(images)\n",
        "            _, predicted = torch.max(outputs.data, 1)\n",
        "            total += labels.size(0)\n",
        "            correct += (predicted == labels).sum().item()\n",
        "\n",
        "            # Calculate per-class accuracy\n",
        "            c = (predicted == labels).squeeze()\n",
        "            for i in range(len(labels)):\n",
        "                label = labels[i]\n",
        "                class_correct[label] += c[i].item()\n",
        "                class_total[label] += 1\n",
        "\n",
        "                # Update confusion matrix\n",
        "                confusion_matrix[label, predicted[i]] += 1\n",
        "\n",
        "    overall_accuracy = 100 * correct / total\n",
        "    print(f'Overall Accuracy: {overall_accuracy:.2f}%')\n",
        "\n",
        "\n",
        "    return class_correct, class_total, confusion_matrix"
      ]
    },
    {
      "cell_type": "markdown",
      "metadata": {
        "id": "IVqIFFBWv6g1"
      },
      "source": [
        "Train and Save the model"
      ]
    },
    {
      "cell_type": "code",
      "source": [
        "def plot_evaluation_metrics(class_correct, class_total, confusion_matrix):\n",
        "\n",
        "    num_classes = len(classes)\n",
        "\n",
        "    # Calculate accuracies and identify valid classes\n",
        "    accuracies = []\n",
        "    valid_classes = []\n",
        "\n",
        "    print(\"\\nPer-class Accuracy:\")\n",
        "    print(\"-\" * 50)\n",
        "    for i in range(num_classes):\n",
        "        if class_total[i] > 0:  # Avoid division by zero\n",
        "            accuracy = 100 * class_correct[i] / class_total[i]\n",
        "            print(f'{classes[i]}: {accuracy:.2f}% ({int(class_correct[i])}/{int(class_total[i])})')\n",
        "            accuracies.append(accuracy)\n",
        "            valid_classes.append(classes[i])\n",
        "        else:\n",
        "            print(f'{classes[i]}: No samples')\n",
        "\n",
        "    # Plot per-class accuracy as a bar chart\n",
        "    plt.figure(figsize=(12, 6))\n",
        "    plt.bar(valid_classes, accuracies, color='skyblue')\n",
        "    plt.xlabel('Classes')\n",
        "    plt.ylabel('Accuracy (%)')\n",
        "    plt.title('Per-class Accuracy')\n",
        "    plt.xticks(rotation=45, ha='right')\n",
        "    plt.tight_layout()\n",
        "    plt.savefig('per_class_accuracy.png')\n",
        "    plt.show()\n",
        "\n",
        "    # Normalize confusion matrix by row (true labels) and plot\n",
        "    normalized_confusion_matrix = confusion_matrix.clone()  # Create a copy to avoid modifying the original\n",
        "    for i in range(num_classes):\n",
        "        if normalized_confusion_matrix[i].sum() > 0:\n",
        "            normalized_confusion_matrix[i] = normalized_confusion_matrix[i] / normalized_confusion_matrix[i].sum()\n",
        "\n",
        "    # Plot confusion matrix\n",
        "    plt.figure(figsize=(10, 8))\n",
        "    plt.imshow(normalized_confusion_matrix.cpu().numpy(), interpolation='nearest', cmap=plt.cm.Blues)\n",
        "    plt.title('Normalized Confusion Matrix')\n",
        "    plt.colorbar()\n",
        "    tick_marks = np.arange(num_classes)\n",
        "    plt.xticks(tick_marks, classes, rotation=45, ha='right')\n",
        "    plt.yticks(tick_marks, classes)\n",
        "\n",
        "    thresh = normalized_confusion_matrix.cpu().numpy().max() / 2.0\n",
        "    for i in range(num_classes):\n",
        "        for j in range(num_classes):\n",
        "            plt.text(j, i, f'{normalized_confusion_matrix[i, j]:.2f}',\n",
        "                     horizontalalignment=\"center\",\n",
        "                     color=\"white\" if normalized_confusion_matrix[i, j] > thresh else \"black\")\n",
        "\n",
        "    plt.tight_layout()\n",
        "    plt.ylabel('True label')\n",
        "    plt.xlabel('Predicted label')\n",
        "    plt.savefig('confusion_matrix.png')\n",
        "    plt.show()\n",
        "\n",
        "    return"
      ],
      "metadata": {
        "id": "bP1GLbbYC7vB"
      },
      "execution_count": null,
      "outputs": []
    },
    {
      "cell_type": "code",
      "source": [
        "def plot_training_metrics(train_losses, train_accuracies, val_losses, val_accuracies):\n",
        "\n",
        "    epochs = range(1, len(train_losses) + 1)\n",
        "\n",
        "    fig, (ax1, ax2) = plt.subplots(1, 2, figsize=(15, 5))\n",
        "\n",
        "    ax1.plot(epochs, train_losses, 'b-', label='Training Loss')\n",
        "    ax1.plot(epochs, val_losses, 'r-', label='Validation Loss')\n",
        "    ax1.set_title('Training and Validation Loss')\n",
        "    ax1.set_xlabel('Epochs')\n",
        "    ax1.set_ylabel('Loss')\n",
        "    ax1.legend()\n",
        "    ax1.grid(True)\n",
        "\n",
        "    ax2.plot(epochs, train_accuracies, 'b-', label='Training Accuracy')\n",
        "    ax2.plot(epochs, val_accuracies, 'r-', label='Validation Accuracy')\n",
        "    ax2.set_title('Training and Validation Accuracy')\n",
        "    ax2.set_xlabel('Epochs')\n",
        "    ax2.set_ylabel('Accuracy (%)')\n",
        "    ax2.legend()\n",
        "    ax2.grid(True)\n",
        "\n",
        "    plt.tight_layout()\n",
        "    plt.show()\n",
        "\n",
        "    fig.savefig('training_metrics.png')\n",
        "    print(\"Training metrics plot saved as 'training_metrics.png'\")\n",
        "    return"
      ],
      "metadata": {
        "id": "As2mro6UHaGX"
      },
      "execution_count": null,
      "outputs": []
    },
    {
      "cell_type": "code",
      "source": [
        "plot_training_metrics(train_losses, train_accuracies, val_losses, val_accuracies)"
      ],
      "metadata": {
        "colab": {
          "base_uri": "https://localhost:8080/",
          "height": 368
        },
        "id": "XEiT3o24HoFP",
        "outputId": "8196d34d-bf74-4258-a675-67e955226f15"
      },
      "execution_count": null,
      "outputs": [
        {
          "output_type": "display_data",
          "data": {
            "text/plain": [
              "<Figure size 1500x500 with 2 Axes>"
            ],
            "image/png": "[encoded data removed]"
          },
          "metadata": {}
        },
        {
          "output_type": "stream",
          "name": "stdout",
          "text": [
            "Training metrics plot saved as 'training_metrics.png'\n"
          ]
        }
      ]
    },
    {
      "cell_type": "markdown",
      "source": [
        "Save model"
      ],
      "metadata": {
        "id": "rdXjcp9-FFbg"
      }
    },
    {
      "cell_type": "code",
      "source": [
        "def Save_Model():\n",
        "    torch.save(model_pretrained.state_dict(), '/content/drive/MyDrive/model_pretrained.pth')\n",
        "    print(\"Model saved successfully!\")\n",
        "    return\n",
        "\n",
        "def Load_Model():\n",
        "    model_pretrained.load_state_dict(torch.load('/content/drive/MyDrive/model_simplecnn_2.pth'))\n",
        "    model_pretrained.eval()\n",
        "    print(\"Model loaded successfully!\")\n",
        "    return"
      ],
      "metadata": {
        "id": "PDAzqi_BFHcZ"
      },
      "execution_count": null,
      "outputs": []
    },
    {
      "cell_type": "code",
      "source": [
        "Save_Model()"
      ],
      "metadata": {
        "colab": {
          "base_uri": "https://localhost:8080/"
        },
        "id": "7gU1_ldJFYGX",
        "outputId": "2c74aa68-5929-4825-c9bc-086ab4b804f2"
      },
      "execution_count": null,
      "outputs": [
        {
          "output_type": "stream",
          "name": "stdout",
          "text": [
            "Model saved successfully!\n"
          ]
        }
      ]
    },
    {
      "cell_type": "markdown",
      "source": [],
      "metadata": {
        "id": "GtsMJvXJFHLr"
      }
    },
    {
      "cell_type": "markdown",
      "source": [
        "Output predicted test data"
      ],
      "metadata": {
        "id": "yyQn95MtDioA"
      }
    },
    {
      "cell_type": "code",
      "source": [
        "import os\n",
        "# === Set paths ===\n",
        "test_folder_path = \"/content/drive/MyDrive/dataset_beam/test\"\n",
        "model_path = \"/content/drive/MyDrive/model_simplecnn_2.pth\"\n",
        "output_csv_path = \"/content/drive/MyDrive/submission.csv\"\n",
        "file_extension = \".jpg\"\n",
        "idx_to_class = {0: \"A\", 1: \"B\", 2: \"C\"}\n",
        "\n",
        "\n",
        "# === Load model ===\n",
        "model_pretrained.to(device)\n",
        "model_pretrained.eval()\n",
        "\n",
        "# === Define image transform (same as training) ===\n",
        "mean, std = compute_mean_std('/content/drive/MyDrive/dataset_beam/beam_damage')\n",
        "transform = transforms.Compose([\n",
        "  transforms.Resize((224, 224)),\n",
        "  transforms.ToTensor(),\n",
        "  transforms.Normalize(mean, std)\n",
        "])\n",
        "\n",
        "# === Prepare output storage ===\n",
        "predictions = []\n",
        "\n",
        "# === Loop through test images ===\n",
        "def count_images_in_dir(directory):\n",
        "    image_extensions = ('.jpg', '.jpeg', '.png', '.bmp', '.gif', '.tiff')\n",
        "    return sum(1 for file in os.listdir(directory) if file.lower().endswith(image_extensions))\n",
        "\n",
        "# Example usage\n",
        "image_dir = '/content/drive/MyDrive/dataset_beam/test'\n",
        "num_images = count_images_in_dir(image_dir)\n",
        "print(f\"Number of images in folder: {num_images}\")\n",
        "\n",
        "for img_id in tqdm(range(1, num_images+1)):\n",
        "    img_name = f\"{img_id}{file_extension}\"\n",
        "    img_path = os.path.join(test_folder_path, img_name)\n",
        "\n",
        "    try:\n",
        "        # Load and preprocess image\n",
        "        img = Image.open(img_path).convert('RGB')\n",
        "        img_tensor = transform(img).unsqueeze(0).to(device)\n",
        "\n",
        "        # Predict\n",
        "        with torch.no_grad():\n",
        "            output = model_pretrained(img_tensor)\n",
        "            _, predicted = torch.max(output.data, 1)\n",
        "            label = predicted.item()\n",
        "\n",
        "        predictions.append((img_id, idx_to_class[label]))\n",
        "\n",
        "    except Exception as e:\n",
        "        print(f\"❗ Error with image {img_name}: {e}\")\n",
        "        predictions.append((img_id, \"error\"))\n",
        "\n",
        "# === Save to CSV ===\n",
        "predictions.sort(key=lambda x: x[0])\n",
        "df = pd.DataFrame(predictions, columns=[\"id\", \"class\"])\n",
        "df.to_csv(\"predictions.csv\", index=False)\n",
        "\n",
        "print(\"✅ Done! Predictions saved to predictions.csv\")"
      ],
      "metadata": {
        "colab": {
          "base_uri": "https://localhost:8080/"
        },
        "id": "mzWYzARrDiSI",
        "outputId": "97f3cd0c-9b40-48a8-c4bc-88369dec0e6c"
      },
      "execution_count": null,
      "outputs": [
        {
          "output_type": "stream",
          "name": "stdout",
          "text": [
            "Found 402 images.\n"
          ]
        },
        {
          "output_type": "stream",
          "name": "stderr",
          "text": [
            "Computing mean & std: 100%|██████████| 402/402 [00:02<00:00, 144.41it/s]\n"
          ]
        },
        {
          "output_type": "stream",
          "name": "stdout",
          "text": [
            "Number of images in folder: 100\n"
          ]
        },
        {
          "output_type": "stream",
          "name": "stderr",
          "text": [
            "100%|██████████| 100/100 [00:01<00:00, 65.53it/s]"
          ]
        },
        {
          "output_type": "stream",
          "name": "stdout",
          "text": [
            "✅ Done! Predictions saved to predictions.csv\n"
          ]
        },
        {
          "output_type": "stream",
          "name": "stderr",
          "text": [
            "\n"
          ]
        }
      ]
    }
  ],
  "metadata": {
    "kernelspec": {
      "display_name": "Python 3",
      "name": "python3"
    },
    "language_info": {
      "codemirror_mode": {
        "name": "ipython",
        "version": 3
      },
      "file_extension": ".py",
      "mimetype": "text/x-python",
      "name": "python",
      "nbconvert_exporter": "python",
      "pygments_lexer": "ipython3",
      "version": "3.11.4"
    },
    "colab": {
      "provenance": [],
      "gpuType": "T4"
    },
    "accelerator": "GPU"
  },
  "nbformat": 4,
  "nbformat_minor": 0
}